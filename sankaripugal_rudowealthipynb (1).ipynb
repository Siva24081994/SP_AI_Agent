{
  "nbformat": 4,
  "nbformat_minor": 0,
  "metadata": {
    "colab": {
      "provenance": [],
      "gpuType": "T4"
    },
    "kernelspec": {
      "name": "python3",
      "display_name": "Python 3"
    },
    "language_info": {
      "name": "python"
    },
    "accelerator": "GPU",
    "widgets": {
      "application/vnd.jupyter.widget-state+json": {
        "44b6624964e74ca78f66f766272a8814": {
          "model_module": "@jupyter-widgets/controls",
          "model_name": "HBoxModel",
          "model_module_version": "1.5.0",
          "state": {
            "_dom_classes": [],
            "_model_module": "@jupyter-widgets/controls",
            "_model_module_version": "1.5.0",
            "_model_name": "HBoxModel",
            "_view_count": null,
            "_view_module": "@jupyter-widgets/controls",
            "_view_module_version": "1.5.0",
            "_view_name": "HBoxView",
            "box_style": "",
            "children": [
              "IPY_MODEL_a25800eea77f438eb271521901d467bb",
              "IPY_MODEL_ddf5b1c691a547798cc8d3dcd1151cf8",
              "IPY_MODEL_8acda8ce718c47b1896e615680864ee8"
            ],
            "layout": "IPY_MODEL_95a9051a90d34be68ffb2b6538f3a45a"
          }
        },
        "a25800eea77f438eb271521901d467bb": {
          "model_module": "@jupyter-widgets/controls",
          "model_name": "HTMLModel",
          "model_module_version": "1.5.0",
          "state": {
            "_dom_classes": [],
            "_model_module": "@jupyter-widgets/controls",
            "_model_module_version": "1.5.0",
            "_model_name": "HTMLModel",
            "_view_count": null,
            "_view_module": "@jupyter-widgets/controls",
            "_view_module_version": "1.5.0",
            "_view_name": "HTMLView",
            "description": "",
            "description_tooltip": null,
            "layout": "IPY_MODEL_074bada1b74e4d86836f92f610f410ae",
            "placeholder": "​",
            "style": "IPY_MODEL_f88f3afb919a434fb28261eb69b16c3a",
            "value": "config.json: 100%"
          }
        },
        "ddf5b1c691a547798cc8d3dcd1151cf8": {
          "model_module": "@jupyter-widgets/controls",
          "model_name": "FloatProgressModel",
          "model_module_version": "1.5.0",
          "state": {
            "_dom_classes": [],
            "_model_module": "@jupyter-widgets/controls",
            "_model_module_version": "1.5.0",
            "_model_name": "FloatProgressModel",
            "_view_count": null,
            "_view_module": "@jupyter-widgets/controls",
            "_view_module_version": "1.5.0",
            "_view_name": "ProgressView",
            "bar_style": "success",
            "description": "",
            "description_tooltip": null,
            "layout": "IPY_MODEL_09aaf00055fc40fd9be1960b4304b413",
            "max": 1154,
            "min": 0,
            "orientation": "horizontal",
            "style": "IPY_MODEL_861de638650e44b3b260c67a5b685c0b",
            "value": 1154
          }
        },
        "8acda8ce718c47b1896e615680864ee8": {
          "model_module": "@jupyter-widgets/controls",
          "model_name": "HTMLModel",
          "model_module_version": "1.5.0",
          "state": {
            "_dom_classes": [],
            "_model_module": "@jupyter-widgets/controls",
            "_model_module_version": "1.5.0",
            "_model_name": "HTMLModel",
            "_view_count": null,
            "_view_module": "@jupyter-widgets/controls",
            "_view_module_version": "1.5.0",
            "_view_name": "HTMLView",
            "description": "",
            "description_tooltip": null,
            "layout": "IPY_MODEL_089bdcdc243e4fca8757da0cbec0bed1",
            "placeholder": "​",
            "style": "IPY_MODEL_ef7a81e7516846989e9409f22f27dde2",
            "value": " 1.15k/1.15k [00:00&lt;00:00, 38.8kB/s]"
          }
        },
        "95a9051a90d34be68ffb2b6538f3a45a": {
          "model_module": "@jupyter-widgets/base",
          "model_name": "LayoutModel",
          "model_module_version": "1.2.0",
          "state": {
            "_model_module": "@jupyter-widgets/base",
            "_model_module_version": "1.2.0",
            "_model_name": "LayoutModel",
            "_view_count": null,
            "_view_module": "@jupyter-widgets/base",
            "_view_module_version": "1.2.0",
            "_view_name": "LayoutView",
            "align_content": null,
            "align_items": null,
            "align_self": null,
            "border": null,
            "bottom": null,
            "display": null,
            "flex": null,
            "flex_flow": null,
            "grid_area": null,
            "grid_auto_columns": null,
            "grid_auto_flow": null,
            "grid_auto_rows": null,
            "grid_column": null,
            "grid_gap": null,
            "grid_row": null,
            "grid_template_areas": null,
            "grid_template_columns": null,
            "grid_template_rows": null,
            "height": null,
            "justify_content": null,
            "justify_items": null,
            "left": null,
            "margin": null,
            "max_height": null,
            "max_width": null,
            "min_height": null,
            "min_width": null,
            "object_fit": null,
            "object_position": null,
            "order": null,
            "overflow": null,
            "overflow_x": null,
            "overflow_y": null,
            "padding": null,
            "right": null,
            "top": null,
            "visibility": null,
            "width": null
          }
        },
        "074bada1b74e4d86836f92f610f410ae": {
          "model_module": "@jupyter-widgets/base",
          "model_name": "LayoutModel",
          "model_module_version": "1.2.0",
          "state": {
            "_model_module": "@jupyter-widgets/base",
            "_model_module_version": "1.2.0",
            "_model_name": "LayoutModel",
            "_view_count": null,
            "_view_module": "@jupyter-widgets/base",
            "_view_module_version": "1.2.0",
            "_view_name": "LayoutView",
            "align_content": null,
            "align_items": null,
            "align_self": null,
            "border": null,
            "bottom": null,
            "display": null,
            "flex": null,
            "flex_flow": null,
            "grid_area": null,
            "grid_auto_columns": null,
            "grid_auto_flow": null,
            "grid_auto_rows": null,
            "grid_column": null,
            "grid_gap": null,
            "grid_row": null,
            "grid_template_areas": null,
            "grid_template_columns": null,
            "grid_template_rows": null,
            "height": null,
            "justify_content": null,
            "justify_items": null,
            "left": null,
            "margin": null,
            "max_height": null,
            "max_width": null,
            "min_height": null,
            "min_width": null,
            "object_fit": null,
            "object_position": null,
            "order": null,
            "overflow": null,
            "overflow_x": null,
            "overflow_y": null,
            "padding": null,
            "right": null,
            "top": null,
            "visibility": null,
            "width": null
          }
        },
        "f88f3afb919a434fb28261eb69b16c3a": {
          "model_module": "@jupyter-widgets/controls",
          "model_name": "DescriptionStyleModel",
          "model_module_version": "1.5.0",
          "state": {
            "_model_module": "@jupyter-widgets/controls",
            "_model_module_version": "1.5.0",
            "_model_name": "DescriptionStyleModel",
            "_view_count": null,
            "_view_module": "@jupyter-widgets/base",
            "_view_module_version": "1.2.0",
            "_view_name": "StyleView",
            "description_width": ""
          }
        },
        "09aaf00055fc40fd9be1960b4304b413": {
          "model_module": "@jupyter-widgets/base",
          "model_name": "LayoutModel",
          "model_module_version": "1.2.0",
          "state": {
            "_model_module": "@jupyter-widgets/base",
            "_model_module_version": "1.2.0",
            "_model_name": "LayoutModel",
            "_view_count": null,
            "_view_module": "@jupyter-widgets/base",
            "_view_module_version": "1.2.0",
            "_view_name": "LayoutView",
            "align_content": null,
            "align_items": null,
            "align_self": null,
            "border": null,
            "bottom": null,
            "display": null,
            "flex": null,
            "flex_flow": null,
            "grid_area": null,
            "grid_auto_columns": null,
            "grid_auto_flow": null,
            "grid_auto_rows": null,
            "grid_column": null,
            "grid_gap": null,
            "grid_row": null,
            "grid_template_areas": null,
            "grid_template_columns": null,
            "grid_template_rows": null,
            "height": null,
            "justify_content": null,
            "justify_items": null,
            "left": null,
            "margin": null,
            "max_height": null,
            "max_width": null,
            "min_height": null,
            "min_width": null,
            "object_fit": null,
            "object_position": null,
            "order": null,
            "overflow": null,
            "overflow_x": null,
            "overflow_y": null,
            "padding": null,
            "right": null,
            "top": null,
            "visibility": null,
            "width": null
          }
        },
        "861de638650e44b3b260c67a5b685c0b": {
          "model_module": "@jupyter-widgets/controls",
          "model_name": "ProgressStyleModel",
          "model_module_version": "1.5.0",
          "state": {
            "_model_module": "@jupyter-widgets/controls",
            "_model_module_version": "1.5.0",
            "_model_name": "ProgressStyleModel",
            "_view_count": null,
            "_view_module": "@jupyter-widgets/base",
            "_view_module_version": "1.2.0",
            "_view_name": "StyleView",
            "bar_color": null,
            "description_width": ""
          }
        },
        "089bdcdc243e4fca8757da0cbec0bed1": {
          "model_module": "@jupyter-widgets/base",
          "model_name": "LayoutModel",
          "model_module_version": "1.2.0",
          "state": {
            "_model_module": "@jupyter-widgets/base",
            "_model_module_version": "1.2.0",
            "_model_name": "LayoutModel",
            "_view_count": null,
            "_view_module": "@jupyter-widgets/base",
            "_view_module_version": "1.2.0",
            "_view_name": "LayoutView",
            "align_content": null,
            "align_items": null,
            "align_self": null,
            "border": null,
            "bottom": null,
            "display": null,
            "flex": null,
            "flex_flow": null,
            "grid_area": null,
            "grid_auto_columns": null,
            "grid_auto_flow": null,
            "grid_auto_rows": null,
            "grid_column": null,
            "grid_gap": null,
            "grid_row": null,
            "grid_template_areas": null,
            "grid_template_columns": null,
            "grid_template_rows": null,
            "height": null,
            "justify_content": null,
            "justify_items": null,
            "left": null,
            "margin": null,
            "max_height": null,
            "max_width": null,
            "min_height": null,
            "min_width": null,
            "object_fit": null,
            "object_position": null,
            "order": null,
            "overflow": null,
            "overflow_x": null,
            "overflow_y": null,
            "padding": null,
            "right": null,
            "top": null,
            "visibility": null,
            "width": null
          }
        },
        "ef7a81e7516846989e9409f22f27dde2": {
          "model_module": "@jupyter-widgets/controls",
          "model_name": "DescriptionStyleModel",
          "model_module_version": "1.5.0",
          "state": {
            "_model_module": "@jupyter-widgets/controls",
            "_model_module_version": "1.5.0",
            "_model_name": "DescriptionStyleModel",
            "_view_count": null,
            "_view_module": "@jupyter-widgets/base",
            "_view_module_version": "1.2.0",
            "_view_name": "StyleView",
            "description_width": ""
          }
        },
        "451e0ab95b5c42ed8ec10e4b8dd1c5e6": {
          "model_module": "@jupyter-widgets/controls",
          "model_name": "HBoxModel",
          "model_module_version": "1.5.0",
          "state": {
            "_dom_classes": [],
            "_model_module": "@jupyter-widgets/controls",
            "_model_module_version": "1.5.0",
            "_model_name": "HBoxModel",
            "_view_count": null,
            "_view_module": "@jupyter-widgets/controls",
            "_view_module_version": "1.5.0",
            "_view_name": "HBoxView",
            "box_style": "",
            "children": [
              "IPY_MODEL_ae94ca32ba324a78abb91ff9c3116f71",
              "IPY_MODEL_9d07ca359bff49f2977291d036042231",
              "IPY_MODEL_261dc579daa54f908cc10c146247bf90"
            ],
            "layout": "IPY_MODEL_c5c6dbe8ab9d4187883728d8b4c751dd"
          }
        },
        "ae94ca32ba324a78abb91ff9c3116f71": {
          "model_module": "@jupyter-widgets/controls",
          "model_name": "HTMLModel",
          "model_module_version": "1.5.0",
          "state": {
            "_dom_classes": [],
            "_model_module": "@jupyter-widgets/controls",
            "_model_module_version": "1.5.0",
            "_model_name": "HTMLModel",
            "_view_count": null,
            "_view_module": "@jupyter-widgets/controls",
            "_view_module_version": "1.5.0",
            "_view_name": "HTMLView",
            "description": "",
            "description_tooltip": null,
            "layout": "IPY_MODEL_21882dc8eea84c449fe5197a9a88b713",
            "placeholder": "​",
            "style": "IPY_MODEL_350175aa58e44041b61ccdacffd32fba",
            "value": "model.safetensors: 100%"
          }
        },
        "9d07ca359bff49f2977291d036042231": {
          "model_module": "@jupyter-widgets/controls",
          "model_name": "FloatProgressModel",
          "model_module_version": "1.5.0",
          "state": {
            "_dom_classes": [],
            "_model_module": "@jupyter-widgets/controls",
            "_model_module_version": "1.5.0",
            "_model_name": "FloatProgressModel",
            "_view_count": null,
            "_view_module": "@jupyter-widgets/controls",
            "_view_module_version": "1.5.0",
            "_view_name": "ProgressView",
            "bar_style": "success",
            "description": "",
            "description_tooltip": null,
            "layout": "IPY_MODEL_c72ef7af7a734485a0e7d6f0c872ec6a",
            "max": 1629437147,
            "min": 0,
            "orientation": "horizontal",
            "style": "IPY_MODEL_0841044ee1fd48288c9daefa92b1cafe",
            "value": 1629437147
          }
        },
        "261dc579daa54f908cc10c146247bf90": {
          "model_module": "@jupyter-widgets/controls",
          "model_name": "HTMLModel",
          "model_module_version": "1.5.0",
          "state": {
            "_dom_classes": [],
            "_model_module": "@jupyter-widgets/controls",
            "_model_module_version": "1.5.0",
            "_model_name": "HTMLModel",
            "_view_count": null,
            "_view_module": "@jupyter-widgets/controls",
            "_view_module_version": "1.5.0",
            "_view_name": "HTMLView",
            "description": "",
            "description_tooltip": null,
            "layout": "IPY_MODEL_76122c62e6b04663b277dd65d17ebf02",
            "placeholder": "​",
            "style": "IPY_MODEL_e8f43e267aef48b79ed0b74d2b954880",
            "value": " 1.63G/1.63G [00:12&lt;00:00, 259MB/s]"
          }
        },
        "c5c6dbe8ab9d4187883728d8b4c751dd": {
          "model_module": "@jupyter-widgets/base",
          "model_name": "LayoutModel",
          "model_module_version": "1.2.0",
          "state": {
            "_model_module": "@jupyter-widgets/base",
            "_model_module_version": "1.2.0",
            "_model_name": "LayoutModel",
            "_view_count": null,
            "_view_module": "@jupyter-widgets/base",
            "_view_module_version": "1.2.0",
            "_view_name": "LayoutView",
            "align_content": null,
            "align_items": null,
            "align_self": null,
            "border": null,
            "bottom": null,
            "display": null,
            "flex": null,
            "flex_flow": null,
            "grid_area": null,
            "grid_auto_columns": null,
            "grid_auto_flow": null,
            "grid_auto_rows": null,
            "grid_column": null,
            "grid_gap": null,
            "grid_row": null,
            "grid_template_areas": null,
            "grid_template_columns": null,
            "grid_template_rows": null,
            "height": null,
            "justify_content": null,
            "justify_items": null,
            "left": null,
            "margin": null,
            "max_height": null,
            "max_width": null,
            "min_height": null,
            "min_width": null,
            "object_fit": null,
            "object_position": null,
            "order": null,
            "overflow": null,
            "overflow_x": null,
            "overflow_y": null,
            "padding": null,
            "right": null,
            "top": null,
            "visibility": null,
            "width": null
          }
        },
        "21882dc8eea84c449fe5197a9a88b713": {
          "model_module": "@jupyter-widgets/base",
          "model_name": "LayoutModel",
          "model_module_version": "1.2.0",
          "state": {
            "_model_module": "@jupyter-widgets/base",
            "_model_module_version": "1.2.0",
            "_model_name": "LayoutModel",
            "_view_count": null,
            "_view_module": "@jupyter-widgets/base",
            "_view_module_version": "1.2.0",
            "_view_name": "LayoutView",
            "align_content": null,
            "align_items": null,
            "align_self": null,
            "border": null,
            "bottom": null,
            "display": null,
            "flex": null,
            "flex_flow": null,
            "grid_area": null,
            "grid_auto_columns": null,
            "grid_auto_flow": null,
            "grid_auto_rows": null,
            "grid_column": null,
            "grid_gap": null,
            "grid_row": null,
            "grid_template_areas": null,
            "grid_template_columns": null,
            "grid_template_rows": null,
            "height": null,
            "justify_content": null,
            "justify_items": null,
            "left": null,
            "margin": null,
            "max_height": null,
            "max_width": null,
            "min_height": null,
            "min_width": null,
            "object_fit": null,
            "object_position": null,
            "order": null,
            "overflow": null,
            "overflow_x": null,
            "overflow_y": null,
            "padding": null,
            "right": null,
            "top": null,
            "visibility": null,
            "width": null
          }
        },
        "350175aa58e44041b61ccdacffd32fba": {
          "model_module": "@jupyter-widgets/controls",
          "model_name": "DescriptionStyleModel",
          "model_module_version": "1.5.0",
          "state": {
            "_model_module": "@jupyter-widgets/controls",
            "_model_module_version": "1.5.0",
            "_model_name": "DescriptionStyleModel",
            "_view_count": null,
            "_view_module": "@jupyter-widgets/base",
            "_view_module_version": "1.2.0",
            "_view_name": "StyleView",
            "description_width": ""
          }
        },
        "c72ef7af7a734485a0e7d6f0c872ec6a": {
          "model_module": "@jupyter-widgets/base",
          "model_name": "LayoutModel",
          "model_module_version": "1.2.0",
          "state": {
            "_model_module": "@jupyter-widgets/base",
            "_model_module_version": "1.2.0",
            "_model_name": "LayoutModel",
            "_view_count": null,
            "_view_module": "@jupyter-widgets/base",
            "_view_module_version": "1.2.0",
            "_view_name": "LayoutView",
            "align_content": null,
            "align_items": null,
            "align_self": null,
            "border": null,
            "bottom": null,
            "display": null,
            "flex": null,
            "flex_flow": null,
            "grid_area": null,
            "grid_auto_columns": null,
            "grid_auto_flow": null,
            "grid_auto_rows": null,
            "grid_column": null,
            "grid_gap": null,
            "grid_row": null,
            "grid_template_areas": null,
            "grid_template_columns": null,
            "grid_template_rows": null,
            "height": null,
            "justify_content": null,
            "justify_items": null,
            "left": null,
            "margin": null,
            "max_height": null,
            "max_width": null,
            "min_height": null,
            "min_width": null,
            "object_fit": null,
            "object_position": null,
            "order": null,
            "overflow": null,
            "overflow_x": null,
            "overflow_y": null,
            "padding": null,
            "right": null,
            "top": null,
            "visibility": null,
            "width": null
          }
        },
        "0841044ee1fd48288c9daefa92b1cafe": {
          "model_module": "@jupyter-widgets/controls",
          "model_name": "ProgressStyleModel",
          "model_module_version": "1.5.0",
          "state": {
            "_model_module": "@jupyter-widgets/controls",
            "_model_module_version": "1.5.0",
            "_model_name": "ProgressStyleModel",
            "_view_count": null,
            "_view_module": "@jupyter-widgets/base",
            "_view_module_version": "1.2.0",
            "_view_name": "StyleView",
            "bar_color": null,
            "description_width": ""
          }
        },
        "76122c62e6b04663b277dd65d17ebf02": {
          "model_module": "@jupyter-widgets/base",
          "model_name": "LayoutModel",
          "model_module_version": "1.2.0",
          "state": {
            "_model_module": "@jupyter-widgets/base",
            "_model_module_version": "1.2.0",
            "_model_name": "LayoutModel",
            "_view_count": null,
            "_view_module": "@jupyter-widgets/base",
            "_view_module_version": "1.2.0",
            "_view_name": "LayoutView",
            "align_content": null,
            "align_items": null,
            "align_self": null,
            "border": null,
            "bottom": null,
            "display": null,
            "flex": null,
            "flex_flow": null,
            "grid_area": null,
            "grid_auto_columns": null,
            "grid_auto_flow": null,
            "grid_auto_rows": null,
            "grid_column": null,
            "grid_gap": null,
            "grid_row": null,
            "grid_template_areas": null,
            "grid_template_columns": null,
            "grid_template_rows": null,
            "height": null,
            "justify_content": null,
            "justify_items": null,
            "left": null,
            "margin": null,
            "max_height": null,
            "max_width": null,
            "min_height": null,
            "min_width": null,
            "object_fit": null,
            "object_position": null,
            "order": null,
            "overflow": null,
            "overflow_x": null,
            "overflow_y": null,
            "padding": null,
            "right": null,
            "top": null,
            "visibility": null,
            "width": null
          }
        },
        "e8f43e267aef48b79ed0b74d2b954880": {
          "model_module": "@jupyter-widgets/controls",
          "model_name": "DescriptionStyleModel",
          "model_module_version": "1.5.0",
          "state": {
            "_model_module": "@jupyter-widgets/controls",
            "_model_module_version": "1.5.0",
            "_model_name": "DescriptionStyleModel",
            "_view_count": null,
            "_view_module": "@jupyter-widgets/base",
            "_view_module_version": "1.2.0",
            "_view_name": "StyleView",
            "description_width": ""
          }
        },
        "296e81cba49047ee91e4e8d9d250479d": {
          "model_module": "@jupyter-widgets/controls",
          "model_name": "HBoxModel",
          "model_module_version": "1.5.0",
          "state": {
            "_dom_classes": [],
            "_model_module": "@jupyter-widgets/controls",
            "_model_module_version": "1.5.0",
            "_model_name": "HBoxModel",
            "_view_count": null,
            "_view_module": "@jupyter-widgets/controls",
            "_view_module_version": "1.5.0",
            "_view_name": "HBoxView",
            "box_style": "",
            "children": [
              "IPY_MODEL_4a14802db99c4d90986d1ea39ee7403c",
              "IPY_MODEL_f5675b6cf36d46e4a185b046b48e283c",
              "IPY_MODEL_e32f1fcb52ac4723a8da67c17df39526"
            ],
            "layout": "IPY_MODEL_d24b71efaefd419980357dac5fd699bb"
          }
        },
        "4a14802db99c4d90986d1ea39ee7403c": {
          "model_module": "@jupyter-widgets/controls",
          "model_name": "HTMLModel",
          "model_module_version": "1.5.0",
          "state": {
            "_dom_classes": [],
            "_model_module": "@jupyter-widgets/controls",
            "_model_module_version": "1.5.0",
            "_model_name": "HTMLModel",
            "_view_count": null,
            "_view_module": "@jupyter-widgets/controls",
            "_view_module_version": "1.5.0",
            "_view_name": "HTMLView",
            "description": "",
            "description_tooltip": null,
            "layout": "IPY_MODEL_40df22b2993d416998b11b1f0e40de9a",
            "placeholder": "​",
            "style": "IPY_MODEL_0c4b0f709eb34c14a32f53d0f2d2a59b",
            "value": "tokenizer_config.json: 100%"
          }
        },
        "f5675b6cf36d46e4a185b046b48e283c": {
          "model_module": "@jupyter-widgets/controls",
          "model_name": "FloatProgressModel",
          "model_module_version": "1.5.0",
          "state": {
            "_dom_classes": [],
            "_model_module": "@jupyter-widgets/controls",
            "_model_module_version": "1.5.0",
            "_model_name": "FloatProgressModel",
            "_view_count": null,
            "_view_module": "@jupyter-widgets/controls",
            "_view_module_version": "1.5.0",
            "_view_name": "ProgressView",
            "bar_style": "success",
            "description": "",
            "description_tooltip": null,
            "layout": "IPY_MODEL_8e4aaa5d0b1c4163aecacd5b775469f9",
            "max": 26,
            "min": 0,
            "orientation": "horizontal",
            "style": "IPY_MODEL_42382de3c87244cbadb7361d4bb550a0",
            "value": 26
          }
        },
        "e32f1fcb52ac4723a8da67c17df39526": {
          "model_module": "@jupyter-widgets/controls",
          "model_name": "HTMLModel",
          "model_module_version": "1.5.0",
          "state": {
            "_dom_classes": [],
            "_model_module": "@jupyter-widgets/controls",
            "_model_module_version": "1.5.0",
            "_model_name": "HTMLModel",
            "_view_count": null,
            "_view_module": "@jupyter-widgets/controls",
            "_view_module_version": "1.5.0",
            "_view_name": "HTMLView",
            "description": "",
            "description_tooltip": null,
            "layout": "IPY_MODEL_121f1bb8b6b0440ea5d82077ae5ea51c",
            "placeholder": "​",
            "style": "IPY_MODEL_6dc0c240a9fa40029f0bd2485dd02467",
            "value": " 26.0/26.0 [00:00&lt;00:00, 3.00kB/s]"
          }
        },
        "d24b71efaefd419980357dac5fd699bb": {
          "model_module": "@jupyter-widgets/base",
          "model_name": "LayoutModel",
          "model_module_version": "1.2.0",
          "state": {
            "_model_module": "@jupyter-widgets/base",
            "_model_module_version": "1.2.0",
            "_model_name": "LayoutModel",
            "_view_count": null,
            "_view_module": "@jupyter-widgets/base",
            "_view_module_version": "1.2.0",
            "_view_name": "LayoutView",
            "align_content": null,
            "align_items": null,
            "align_self": null,
            "border": null,
            "bottom": null,
            "display": null,
            "flex": null,
            "flex_flow": null,
            "grid_area": null,
            "grid_auto_columns": null,
            "grid_auto_flow": null,
            "grid_auto_rows": null,
            "grid_column": null,
            "grid_gap": null,
            "grid_row": null,
            "grid_template_areas": null,
            "grid_template_columns": null,
            "grid_template_rows": null,
            "height": null,
            "justify_content": null,
            "justify_items": null,
            "left": null,
            "margin": null,
            "max_height": null,
            "max_width": null,
            "min_height": null,
            "min_width": null,
            "object_fit": null,
            "object_position": null,
            "order": null,
            "overflow": null,
            "overflow_x": null,
            "overflow_y": null,
            "padding": null,
            "right": null,
            "top": null,
            "visibility": null,
            "width": null
          }
        },
        "40df22b2993d416998b11b1f0e40de9a": {
          "model_module": "@jupyter-widgets/base",
          "model_name": "LayoutModel",
          "model_module_version": "1.2.0",
          "state": {
            "_model_module": "@jupyter-widgets/base",
            "_model_module_version": "1.2.0",
            "_model_name": "LayoutModel",
            "_view_count": null,
            "_view_module": "@jupyter-widgets/base",
            "_view_module_version": "1.2.0",
            "_view_name": "LayoutView",
            "align_content": null,
            "align_items": null,
            "align_self": null,
            "border": null,
            "bottom": null,
            "display": null,
            "flex": null,
            "flex_flow": null,
            "grid_area": null,
            "grid_auto_columns": null,
            "grid_auto_flow": null,
            "grid_auto_rows": null,
            "grid_column": null,
            "grid_gap": null,
            "grid_row": null,
            "grid_template_areas": null,
            "grid_template_columns": null,
            "grid_template_rows": null,
            "height": null,
            "justify_content": null,
            "justify_items": null,
            "left": null,
            "margin": null,
            "max_height": null,
            "max_width": null,
            "min_height": null,
            "min_width": null,
            "object_fit": null,
            "object_position": null,
            "order": null,
            "overflow": null,
            "overflow_x": null,
            "overflow_y": null,
            "padding": null,
            "right": null,
            "top": null,
            "visibility": null,
            "width": null
          }
        },
        "0c4b0f709eb34c14a32f53d0f2d2a59b": {
          "model_module": "@jupyter-widgets/controls",
          "model_name": "DescriptionStyleModel",
          "model_module_version": "1.5.0",
          "state": {
            "_model_module": "@jupyter-widgets/controls",
            "_model_module_version": "1.5.0",
            "_model_name": "DescriptionStyleModel",
            "_view_count": null,
            "_view_module": "@jupyter-widgets/base",
            "_view_module_version": "1.2.0",
            "_view_name": "StyleView",
            "description_width": ""
          }
        },
        "8e4aaa5d0b1c4163aecacd5b775469f9": {
          "model_module": "@jupyter-widgets/base",
          "model_name": "LayoutModel",
          "model_module_version": "1.2.0",
          "state": {
            "_model_module": "@jupyter-widgets/base",
            "_model_module_version": "1.2.0",
            "_model_name": "LayoutModel",
            "_view_count": null,
            "_view_module": "@jupyter-widgets/base",
            "_view_module_version": "1.2.0",
            "_view_name": "LayoutView",
            "align_content": null,
            "align_items": null,
            "align_self": null,
            "border": null,
            "bottom": null,
            "display": null,
            "flex": null,
            "flex_flow": null,
            "grid_area": null,
            "grid_auto_columns": null,
            "grid_auto_flow": null,
            "grid_auto_rows": null,
            "grid_column": null,
            "grid_gap": null,
            "grid_row": null,
            "grid_template_areas": null,
            "grid_template_columns": null,
            "grid_template_rows": null,
            "height": null,
            "justify_content": null,
            "justify_items": null,
            "left": null,
            "margin": null,
            "max_height": null,
            "max_width": null,
            "min_height": null,
            "min_width": null,
            "object_fit": null,
            "object_position": null,
            "order": null,
            "overflow": null,
            "overflow_x": null,
            "overflow_y": null,
            "padding": null,
            "right": null,
            "top": null,
            "visibility": null,
            "width": null
          }
        },
        "42382de3c87244cbadb7361d4bb550a0": {
          "model_module": "@jupyter-widgets/controls",
          "model_name": "ProgressStyleModel",
          "model_module_version": "1.5.0",
          "state": {
            "_model_module": "@jupyter-widgets/controls",
            "_model_module_version": "1.5.0",
            "_model_name": "ProgressStyleModel",
            "_view_count": null,
            "_view_module": "@jupyter-widgets/base",
            "_view_module_version": "1.2.0",
            "_view_name": "StyleView",
            "bar_color": null,
            "description_width": ""
          }
        },
        "121f1bb8b6b0440ea5d82077ae5ea51c": {
          "model_module": "@jupyter-widgets/base",
          "model_name": "LayoutModel",
          "model_module_version": "1.2.0",
          "state": {
            "_model_module": "@jupyter-widgets/base",
            "_model_module_version": "1.2.0",
            "_model_name": "LayoutModel",
            "_view_count": null,
            "_view_module": "@jupyter-widgets/base",
            "_view_module_version": "1.2.0",
            "_view_name": "LayoutView",
            "align_content": null,
            "align_items": null,
            "align_self": null,
            "border": null,
            "bottom": null,
            "display": null,
            "flex": null,
            "flex_flow": null,
            "grid_area": null,
            "grid_auto_columns": null,
            "grid_auto_flow": null,
            "grid_auto_rows": null,
            "grid_column": null,
            "grid_gap": null,
            "grid_row": null,
            "grid_template_areas": null,
            "grid_template_columns": null,
            "grid_template_rows": null,
            "height": null,
            "justify_content": null,
            "justify_items": null,
            "left": null,
            "margin": null,
            "max_height": null,
            "max_width": null,
            "min_height": null,
            "min_width": null,
            "object_fit": null,
            "object_position": null,
            "order": null,
            "overflow": null,
            "overflow_x": null,
            "overflow_y": null,
            "padding": null,
            "right": null,
            "top": null,
            "visibility": null,
            "width": null
          }
        },
        "6dc0c240a9fa40029f0bd2485dd02467": {
          "model_module": "@jupyter-widgets/controls",
          "model_name": "DescriptionStyleModel",
          "model_module_version": "1.5.0",
          "state": {
            "_model_module": "@jupyter-widgets/controls",
            "_model_module_version": "1.5.0",
            "_model_name": "DescriptionStyleModel",
            "_view_count": null,
            "_view_module": "@jupyter-widgets/base",
            "_view_module_version": "1.2.0",
            "_view_name": "StyleView",
            "description_width": ""
          }
        },
        "d583ed2b3bd0442ea9716b3708a8d8ea": {
          "model_module": "@jupyter-widgets/controls",
          "model_name": "HBoxModel",
          "model_module_version": "1.5.0",
          "state": {
            "_dom_classes": [],
            "_model_module": "@jupyter-widgets/controls",
            "_model_module_version": "1.5.0",
            "_model_name": "HBoxModel",
            "_view_count": null,
            "_view_module": "@jupyter-widgets/controls",
            "_view_module_version": "1.5.0",
            "_view_name": "HBoxView",
            "box_style": "",
            "children": [
              "IPY_MODEL_c96540185c074b6e82db795dcdcf2027",
              "IPY_MODEL_1255b0915ec141258448671d69c29b68",
              "IPY_MODEL_d7085f25fd1d4f07afe3ef06eaf641f2"
            ],
            "layout": "IPY_MODEL_e5aece1465e14eec8ad9f83d1640c7f8"
          }
        },
        "c96540185c074b6e82db795dcdcf2027": {
          "model_module": "@jupyter-widgets/controls",
          "model_name": "HTMLModel",
          "model_module_version": "1.5.0",
          "state": {
            "_dom_classes": [],
            "_model_module": "@jupyter-widgets/controls",
            "_model_module_version": "1.5.0",
            "_model_name": "HTMLModel",
            "_view_count": null,
            "_view_module": "@jupyter-widgets/controls",
            "_view_module_version": "1.5.0",
            "_view_name": "HTMLView",
            "description": "",
            "description_tooltip": null,
            "layout": "IPY_MODEL_3a78d49069c34688bd422da94ee1c8d6",
            "placeholder": "​",
            "style": "IPY_MODEL_fe2df8256f9d4a7597718b6c19a64593",
            "value": "vocab.json: 100%"
          }
        },
        "1255b0915ec141258448671d69c29b68": {
          "model_module": "@jupyter-widgets/controls",
          "model_name": "FloatProgressModel",
          "model_module_version": "1.5.0",
          "state": {
            "_dom_classes": [],
            "_model_module": "@jupyter-widgets/controls",
            "_model_module_version": "1.5.0",
            "_model_name": "FloatProgressModel",
            "_view_count": null,
            "_view_module": "@jupyter-widgets/controls",
            "_view_module_version": "1.5.0",
            "_view_name": "ProgressView",
            "bar_style": "success",
            "description": "",
            "description_tooltip": null,
            "layout": "IPY_MODEL_1c77156675cc4e9f9cf1d3767c356859",
            "max": 898822,
            "min": 0,
            "orientation": "horizontal",
            "style": "IPY_MODEL_1c0b92f6084148acbdf57184c43042da",
            "value": 898822
          }
        },
        "d7085f25fd1d4f07afe3ef06eaf641f2": {
          "model_module": "@jupyter-widgets/controls",
          "model_name": "HTMLModel",
          "model_module_version": "1.5.0",
          "state": {
            "_dom_classes": [],
            "_model_module": "@jupyter-widgets/controls",
            "_model_module_version": "1.5.0",
            "_model_name": "HTMLModel",
            "_view_count": null,
            "_view_module": "@jupyter-widgets/controls",
            "_view_module_version": "1.5.0",
            "_view_name": "HTMLView",
            "description": "",
            "description_tooltip": null,
            "layout": "IPY_MODEL_4cc8a648b84f42a8ae2d831469b5639b",
            "placeholder": "​",
            "style": "IPY_MODEL_022905bd6eae4fccaa25cab69e4c7483",
            "value": " 899k/899k [00:00&lt;00:00, 4.14MB/s]"
          }
        },
        "e5aece1465e14eec8ad9f83d1640c7f8": {
          "model_module": "@jupyter-widgets/base",
          "model_name": "LayoutModel",
          "model_module_version": "1.2.0",
          "state": {
            "_model_module": "@jupyter-widgets/base",
            "_model_module_version": "1.2.0",
            "_model_name": "LayoutModel",
            "_view_count": null,
            "_view_module": "@jupyter-widgets/base",
            "_view_module_version": "1.2.0",
            "_view_name": "LayoutView",
            "align_content": null,
            "align_items": null,
            "align_self": null,
            "border": null,
            "bottom": null,
            "display": null,
            "flex": null,
            "flex_flow": null,
            "grid_area": null,
            "grid_auto_columns": null,
            "grid_auto_flow": null,
            "grid_auto_rows": null,
            "grid_column": null,
            "grid_gap": null,
            "grid_row": null,
            "grid_template_areas": null,
            "grid_template_columns": null,
            "grid_template_rows": null,
            "height": null,
            "justify_content": null,
            "justify_items": null,
            "left": null,
            "margin": null,
            "max_height": null,
            "max_width": null,
            "min_height": null,
            "min_width": null,
            "object_fit": null,
            "object_position": null,
            "order": null,
            "overflow": null,
            "overflow_x": null,
            "overflow_y": null,
            "padding": null,
            "right": null,
            "top": null,
            "visibility": null,
            "width": null
          }
        },
        "3a78d49069c34688bd422da94ee1c8d6": {
          "model_module": "@jupyter-widgets/base",
          "model_name": "LayoutModel",
          "model_module_version": "1.2.0",
          "state": {
            "_model_module": "@jupyter-widgets/base",
            "_model_module_version": "1.2.0",
            "_model_name": "LayoutModel",
            "_view_count": null,
            "_view_module": "@jupyter-widgets/base",
            "_view_module_version": "1.2.0",
            "_view_name": "LayoutView",
            "align_content": null,
            "align_items": null,
            "align_self": null,
            "border": null,
            "bottom": null,
            "display": null,
            "flex": null,
            "flex_flow": null,
            "grid_area": null,
            "grid_auto_columns": null,
            "grid_auto_flow": null,
            "grid_auto_rows": null,
            "grid_column": null,
            "grid_gap": null,
            "grid_row": null,
            "grid_template_areas": null,
            "grid_template_columns": null,
            "grid_template_rows": null,
            "height": null,
            "justify_content": null,
            "justify_items": null,
            "left": null,
            "margin": null,
            "max_height": null,
            "max_width": null,
            "min_height": null,
            "min_width": null,
            "object_fit": null,
            "object_position": null,
            "order": null,
            "overflow": null,
            "overflow_x": null,
            "overflow_y": null,
            "padding": null,
            "right": null,
            "top": null,
            "visibility": null,
            "width": null
          }
        },
        "fe2df8256f9d4a7597718b6c19a64593": {
          "model_module": "@jupyter-widgets/controls",
          "model_name": "DescriptionStyleModel",
          "model_module_version": "1.5.0",
          "state": {
            "_model_module": "@jupyter-widgets/controls",
            "_model_module_version": "1.5.0",
            "_model_name": "DescriptionStyleModel",
            "_view_count": null,
            "_view_module": "@jupyter-widgets/base",
            "_view_module_version": "1.2.0",
            "_view_name": "StyleView",
            "description_width": ""
          }
        },
        "1c77156675cc4e9f9cf1d3767c356859": {
          "model_module": "@jupyter-widgets/base",
          "model_name": "LayoutModel",
          "model_module_version": "1.2.0",
          "state": {
            "_model_module": "@jupyter-widgets/base",
            "_model_module_version": "1.2.0",
            "_model_name": "LayoutModel",
            "_view_count": null,
            "_view_module": "@jupyter-widgets/base",
            "_view_module_version": "1.2.0",
            "_view_name": "LayoutView",
            "align_content": null,
            "align_items": null,
            "align_self": null,
            "border": null,
            "bottom": null,
            "display": null,
            "flex": null,
            "flex_flow": null,
            "grid_area": null,
            "grid_auto_columns": null,
            "grid_auto_flow": null,
            "grid_auto_rows": null,
            "grid_column": null,
            "grid_gap": null,
            "grid_row": null,
            "grid_template_areas": null,
            "grid_template_columns": null,
            "grid_template_rows": null,
            "height": null,
            "justify_content": null,
            "justify_items": null,
            "left": null,
            "margin": null,
            "max_height": null,
            "max_width": null,
            "min_height": null,
            "min_width": null,
            "object_fit": null,
            "object_position": null,
            "order": null,
            "overflow": null,
            "overflow_x": null,
            "overflow_y": null,
            "padding": null,
            "right": null,
            "top": null,
            "visibility": null,
            "width": null
          }
        },
        "1c0b92f6084148acbdf57184c43042da": {
          "model_module": "@jupyter-widgets/controls",
          "model_name": "ProgressStyleModel",
          "model_module_version": "1.5.0",
          "state": {
            "_model_module": "@jupyter-widgets/controls",
            "_model_module_version": "1.5.0",
            "_model_name": "ProgressStyleModel",
            "_view_count": null,
            "_view_module": "@jupyter-widgets/base",
            "_view_module_version": "1.2.0",
            "_view_name": "StyleView",
            "bar_color": null,
            "description_width": ""
          }
        },
        "4cc8a648b84f42a8ae2d831469b5639b": {
          "model_module": "@jupyter-widgets/base",
          "model_name": "LayoutModel",
          "model_module_version": "1.2.0",
          "state": {
            "_model_module": "@jupyter-widgets/base",
            "_model_module_version": "1.2.0",
            "_model_name": "LayoutModel",
            "_view_count": null,
            "_view_module": "@jupyter-widgets/base",
            "_view_module_version": "1.2.0",
            "_view_name": "LayoutView",
            "align_content": null,
            "align_items": null,
            "align_self": null,
            "border": null,
            "bottom": null,
            "display": null,
            "flex": null,
            "flex_flow": null,
            "grid_area": null,
            "grid_auto_columns": null,
            "grid_auto_flow": null,
            "grid_auto_rows": null,
            "grid_column": null,
            "grid_gap": null,
            "grid_row": null,
            "grid_template_areas": null,
            "grid_template_columns": null,
            "grid_template_rows": null,
            "height": null,
            "justify_content": null,
            "justify_items": null,
            "left": null,
            "margin": null,
            "max_height": null,
            "max_width": null,
            "min_height": null,
            "min_width": null,
            "object_fit": null,
            "object_position": null,
            "order": null,
            "overflow": null,
            "overflow_x": null,
            "overflow_y": null,
            "padding": null,
            "right": null,
            "top": null,
            "visibility": null,
            "width": null
          }
        },
        "022905bd6eae4fccaa25cab69e4c7483": {
          "model_module": "@jupyter-widgets/controls",
          "model_name": "DescriptionStyleModel",
          "model_module_version": "1.5.0",
          "state": {
            "_model_module": "@jupyter-widgets/controls",
            "_model_module_version": "1.5.0",
            "_model_name": "DescriptionStyleModel",
            "_view_count": null,
            "_view_module": "@jupyter-widgets/base",
            "_view_module_version": "1.2.0",
            "_view_name": "StyleView",
            "description_width": ""
          }
        },
        "961380aac5324a818059ad99d51a746c": {
          "model_module": "@jupyter-widgets/controls",
          "model_name": "HBoxModel",
          "model_module_version": "1.5.0",
          "state": {
            "_dom_classes": [],
            "_model_module": "@jupyter-widgets/controls",
            "_model_module_version": "1.5.0",
            "_model_name": "HBoxModel",
            "_view_count": null,
            "_view_module": "@jupyter-widgets/controls",
            "_view_module_version": "1.5.0",
            "_view_name": "HBoxView",
            "box_style": "",
            "children": [
              "IPY_MODEL_5868cd2d0b8741d19041ab2fda6b76e1",
              "IPY_MODEL_bf1685f306584b5bae544f06ac3280fa",
              "IPY_MODEL_ec14a9a0318e441aa7dd7cf5835007c1"
            ],
            "layout": "IPY_MODEL_25622ef2915444f198bbf22050861a62"
          }
        },
        "5868cd2d0b8741d19041ab2fda6b76e1": {
          "model_module": "@jupyter-widgets/controls",
          "model_name": "HTMLModel",
          "model_module_version": "1.5.0",
          "state": {
            "_dom_classes": [],
            "_model_module": "@jupyter-widgets/controls",
            "_model_module_version": "1.5.0",
            "_model_name": "HTMLModel",
            "_view_count": null,
            "_view_module": "@jupyter-widgets/controls",
            "_view_module_version": "1.5.0",
            "_view_name": "HTMLView",
            "description": "",
            "description_tooltip": null,
            "layout": "IPY_MODEL_9f2da3003c2547208805d042547978a0",
            "placeholder": "​",
            "style": "IPY_MODEL_b42c1368a6394923be228d6ba13743e0",
            "value": "merges.txt: 100%"
          }
        },
        "bf1685f306584b5bae544f06ac3280fa": {
          "model_module": "@jupyter-widgets/controls",
          "model_name": "FloatProgressModel",
          "model_module_version": "1.5.0",
          "state": {
            "_dom_classes": [],
            "_model_module": "@jupyter-widgets/controls",
            "_model_module_version": "1.5.0",
            "_model_name": "FloatProgressModel",
            "_view_count": null,
            "_view_module": "@jupyter-widgets/controls",
            "_view_module_version": "1.5.0",
            "_view_name": "ProgressView",
            "bar_style": "success",
            "description": "",
            "description_tooltip": null,
            "layout": "IPY_MODEL_befe7f7147f4453086b2114543c66388",
            "max": 456318,
            "min": 0,
            "orientation": "horizontal",
            "style": "IPY_MODEL_aaf2e95b6bc1442d8684f48f754eaab1",
            "value": 456318
          }
        },
        "ec14a9a0318e441aa7dd7cf5835007c1": {
          "model_module": "@jupyter-widgets/controls",
          "model_name": "HTMLModel",
          "model_module_version": "1.5.0",
          "state": {
            "_dom_classes": [],
            "_model_module": "@jupyter-widgets/controls",
            "_model_module_version": "1.5.0",
            "_model_name": "HTMLModel",
            "_view_count": null,
            "_view_module": "@jupyter-widgets/controls",
            "_view_module_version": "1.5.0",
            "_view_name": "HTMLView",
            "description": "",
            "description_tooltip": null,
            "layout": "IPY_MODEL_4819b42feb1f4b5cae494d727c9b512f",
            "placeholder": "​",
            "style": "IPY_MODEL_bf8249a453934bf89d68e89467c7f027",
            "value": " 456k/456k [00:00&lt;00:00, 6.08MB/s]"
          }
        },
        "25622ef2915444f198bbf22050861a62": {
          "model_module": "@jupyter-widgets/base",
          "model_name": "LayoutModel",
          "model_module_version": "1.2.0",
          "state": {
            "_model_module": "@jupyter-widgets/base",
            "_model_module_version": "1.2.0",
            "_model_name": "LayoutModel",
            "_view_count": null,
            "_view_module": "@jupyter-widgets/base",
            "_view_module_version": "1.2.0",
            "_view_name": "LayoutView",
            "align_content": null,
            "align_items": null,
            "align_self": null,
            "border": null,
            "bottom": null,
            "display": null,
            "flex": null,
            "flex_flow": null,
            "grid_area": null,
            "grid_auto_columns": null,
            "grid_auto_flow": null,
            "grid_auto_rows": null,
            "grid_column": null,
            "grid_gap": null,
            "grid_row": null,
            "grid_template_areas": null,
            "grid_template_columns": null,
            "grid_template_rows": null,
            "height": null,
            "justify_content": null,
            "justify_items": null,
            "left": null,
            "margin": null,
            "max_height": null,
            "max_width": null,
            "min_height": null,
            "min_width": null,
            "object_fit": null,
            "object_position": null,
            "order": null,
            "overflow": null,
            "overflow_x": null,
            "overflow_y": null,
            "padding": null,
            "right": null,
            "top": null,
            "visibility": null,
            "width": null
          }
        },
        "9f2da3003c2547208805d042547978a0": {
          "model_module": "@jupyter-widgets/base",
          "model_name": "LayoutModel",
          "model_module_version": "1.2.0",
          "state": {
            "_model_module": "@jupyter-widgets/base",
            "_model_module_version": "1.2.0",
            "_model_name": "LayoutModel",
            "_view_count": null,
            "_view_module": "@jupyter-widgets/base",
            "_view_module_version": "1.2.0",
            "_view_name": "LayoutView",
            "align_content": null,
            "align_items": null,
            "align_self": null,
            "border": null,
            "bottom": null,
            "display": null,
            "flex": null,
            "flex_flow": null,
            "grid_area": null,
            "grid_auto_columns": null,
            "grid_auto_flow": null,
            "grid_auto_rows": null,
            "grid_column": null,
            "grid_gap": null,
            "grid_row": null,
            "grid_template_areas": null,
            "grid_template_columns": null,
            "grid_template_rows": null,
            "height": null,
            "justify_content": null,
            "justify_items": null,
            "left": null,
            "margin": null,
            "max_height": null,
            "max_width": null,
            "min_height": null,
            "min_width": null,
            "object_fit": null,
            "object_position": null,
            "order": null,
            "overflow": null,
            "overflow_x": null,
            "overflow_y": null,
            "padding": null,
            "right": null,
            "top": null,
            "visibility": null,
            "width": null
          }
        },
        "b42c1368a6394923be228d6ba13743e0": {
          "model_module": "@jupyter-widgets/controls",
          "model_name": "DescriptionStyleModel",
          "model_module_version": "1.5.0",
          "state": {
            "_model_module": "@jupyter-widgets/controls",
            "_model_module_version": "1.5.0",
            "_model_name": "DescriptionStyleModel",
            "_view_count": null,
            "_view_module": "@jupyter-widgets/base",
            "_view_module_version": "1.2.0",
            "_view_name": "StyleView",
            "description_width": ""
          }
        },
        "befe7f7147f4453086b2114543c66388": {
          "model_module": "@jupyter-widgets/base",
          "model_name": "LayoutModel",
          "model_module_version": "1.2.0",
          "state": {
            "_model_module": "@jupyter-widgets/base",
            "_model_module_version": "1.2.0",
            "_model_name": "LayoutModel",
            "_view_count": null,
            "_view_module": "@jupyter-widgets/base",
            "_view_module_version": "1.2.0",
            "_view_name": "LayoutView",
            "align_content": null,
            "align_items": null,
            "align_self": null,
            "border": null,
            "bottom": null,
            "display": null,
            "flex": null,
            "flex_flow": null,
            "grid_area": null,
            "grid_auto_columns": null,
            "grid_auto_flow": null,
            "grid_auto_rows": null,
            "grid_column": null,
            "grid_gap": null,
            "grid_row": null,
            "grid_template_areas": null,
            "grid_template_columns": null,
            "grid_template_rows": null,
            "height": null,
            "justify_content": null,
            "justify_items": null,
            "left": null,
            "margin": null,
            "max_height": null,
            "max_width": null,
            "min_height": null,
            "min_width": null,
            "object_fit": null,
            "object_position": null,
            "order": null,
            "overflow": null,
            "overflow_x": null,
            "overflow_y": null,
            "padding": null,
            "right": null,
            "top": null,
            "visibility": null,
            "width": null
          }
        },
        "aaf2e95b6bc1442d8684f48f754eaab1": {
          "model_module": "@jupyter-widgets/controls",
          "model_name": "ProgressStyleModel",
          "model_module_version": "1.5.0",
          "state": {
            "_model_module": "@jupyter-widgets/controls",
            "_model_module_version": "1.5.0",
            "_model_name": "ProgressStyleModel",
            "_view_count": null,
            "_view_module": "@jupyter-widgets/base",
            "_view_module_version": "1.2.0",
            "_view_name": "StyleView",
            "bar_color": null,
            "description_width": ""
          }
        },
        "4819b42feb1f4b5cae494d727c9b512f": {
          "model_module": "@jupyter-widgets/base",
          "model_name": "LayoutModel",
          "model_module_version": "1.2.0",
          "state": {
            "_model_module": "@jupyter-widgets/base",
            "_model_module_version": "1.2.0",
            "_model_name": "LayoutModel",
            "_view_count": null,
            "_view_module": "@jupyter-widgets/base",
            "_view_module_version": "1.2.0",
            "_view_name": "LayoutView",
            "align_content": null,
            "align_items": null,
            "align_self": null,
            "border": null,
            "bottom": null,
            "display": null,
            "flex": null,
            "flex_flow": null,
            "grid_area": null,
            "grid_auto_columns": null,
            "grid_auto_flow": null,
            "grid_auto_rows": null,
            "grid_column": null,
            "grid_gap": null,
            "grid_row": null,
            "grid_template_areas": null,
            "grid_template_columns": null,
            "grid_template_rows": null,
            "height": null,
            "justify_content": null,
            "justify_items": null,
            "left": null,
            "margin": null,
            "max_height": null,
            "max_width": null,
            "min_height": null,
            "min_width": null,
            "object_fit": null,
            "object_position": null,
            "order": null,
            "overflow": null,
            "overflow_x": null,
            "overflow_y": null,
            "padding": null,
            "right": null,
            "top": null,
            "visibility": null,
            "width": null
          }
        },
        "bf8249a453934bf89d68e89467c7f027": {
          "model_module": "@jupyter-widgets/controls",
          "model_name": "DescriptionStyleModel",
          "model_module_version": "1.5.0",
          "state": {
            "_model_module": "@jupyter-widgets/controls",
            "_model_module_version": "1.5.0",
            "_model_name": "DescriptionStyleModel",
            "_view_count": null,
            "_view_module": "@jupyter-widgets/base",
            "_view_module_version": "1.2.0",
            "_view_name": "StyleView",
            "description_width": ""
          }
        },
        "9eab5c8ef7ec44d399c29f1e4a1ced7a": {
          "model_module": "@jupyter-widgets/controls",
          "model_name": "HBoxModel",
          "model_module_version": "1.5.0",
          "state": {
            "_dom_classes": [],
            "_model_module": "@jupyter-widgets/controls",
            "_model_module_version": "1.5.0",
            "_model_name": "HBoxModel",
            "_view_count": null,
            "_view_module": "@jupyter-widgets/controls",
            "_view_module_version": "1.5.0",
            "_view_name": "HBoxView",
            "box_style": "",
            "children": [
              "IPY_MODEL_e0972bc39d2e4701a559fe8a91f4f770",
              "IPY_MODEL_46788cf4bb2743c6b5eab7b2942ca760",
              "IPY_MODEL_2e318c026b174e8cbfb122ac3c61e93a"
            ],
            "layout": "IPY_MODEL_4f0adae8673449f69a73477ceadaa898"
          }
        },
        "e0972bc39d2e4701a559fe8a91f4f770": {
          "model_module": "@jupyter-widgets/controls",
          "model_name": "HTMLModel",
          "model_module_version": "1.5.0",
          "state": {
            "_dom_classes": [],
            "_model_module": "@jupyter-widgets/controls",
            "_model_module_version": "1.5.0",
            "_model_name": "HTMLModel",
            "_view_count": null,
            "_view_module": "@jupyter-widgets/controls",
            "_view_module_version": "1.5.0",
            "_view_name": "HTMLView",
            "description": "",
            "description_tooltip": null,
            "layout": "IPY_MODEL_2cfbf184266c4eaa9e4ad5d7983053c7",
            "placeholder": "​",
            "style": "IPY_MODEL_2a1d05e0ceb14deb9d657e705bcf7027",
            "value": "tokenizer.json: 100%"
          }
        },
        "46788cf4bb2743c6b5eab7b2942ca760": {
          "model_module": "@jupyter-widgets/controls",
          "model_name": "FloatProgressModel",
          "model_module_version": "1.5.0",
          "state": {
            "_dom_classes": [],
            "_model_module": "@jupyter-widgets/controls",
            "_model_module_version": "1.5.0",
            "_model_name": "FloatProgressModel",
            "_view_count": null,
            "_view_module": "@jupyter-widgets/controls",
            "_view_module_version": "1.5.0",
            "_view_name": "ProgressView",
            "bar_style": "success",
            "description": "",
            "description_tooltip": null,
            "layout": "IPY_MODEL_3340d2546ac1404cb9f74a0224341365",
            "max": 1355863,
            "min": 0,
            "orientation": "horizontal",
            "style": "IPY_MODEL_168caaf2544a4f0081444fa9cbbd1544",
            "value": 1355863
          }
        },
        "2e318c026b174e8cbfb122ac3c61e93a": {
          "model_module": "@jupyter-widgets/controls",
          "model_name": "HTMLModel",
          "model_module_version": "1.5.0",
          "state": {
            "_dom_classes": [],
            "_model_module": "@jupyter-widgets/controls",
            "_model_module_version": "1.5.0",
            "_model_name": "HTMLModel",
            "_view_count": null,
            "_view_module": "@jupyter-widgets/controls",
            "_view_module_version": "1.5.0",
            "_view_name": "HTMLView",
            "description": "",
            "description_tooltip": null,
            "layout": "IPY_MODEL_10ed1fa0e3af40be977da04c33cc92a6",
            "placeholder": "​",
            "style": "IPY_MODEL_7750732817604a61a948061a71edf551",
            "value": " 1.36M/1.36M [00:00&lt;00:00, 4.68MB/s]"
          }
        },
        "4f0adae8673449f69a73477ceadaa898": {
          "model_module": "@jupyter-widgets/base",
          "model_name": "LayoutModel",
          "model_module_version": "1.2.0",
          "state": {
            "_model_module": "@jupyter-widgets/base",
            "_model_module_version": "1.2.0",
            "_model_name": "LayoutModel",
            "_view_count": null,
            "_view_module": "@jupyter-widgets/base",
            "_view_module_version": "1.2.0",
            "_view_name": "LayoutView",
            "align_content": null,
            "align_items": null,
            "align_self": null,
            "border": null,
            "bottom": null,
            "display": null,
            "flex": null,
            "flex_flow": null,
            "grid_area": null,
            "grid_auto_columns": null,
            "grid_auto_flow": null,
            "grid_auto_rows": null,
            "grid_column": null,
            "grid_gap": null,
            "grid_row": null,
            "grid_template_areas": null,
            "grid_template_columns": null,
            "grid_template_rows": null,
            "height": null,
            "justify_content": null,
            "justify_items": null,
            "left": null,
            "margin": null,
            "max_height": null,
            "max_width": null,
            "min_height": null,
            "min_width": null,
            "object_fit": null,
            "object_position": null,
            "order": null,
            "overflow": null,
            "overflow_x": null,
            "overflow_y": null,
            "padding": null,
            "right": null,
            "top": null,
            "visibility": null,
            "width": null
          }
        },
        "2cfbf184266c4eaa9e4ad5d7983053c7": {
          "model_module": "@jupyter-widgets/base",
          "model_name": "LayoutModel",
          "model_module_version": "1.2.0",
          "state": {
            "_model_module": "@jupyter-widgets/base",
            "_model_module_version": "1.2.0",
            "_model_name": "LayoutModel",
            "_view_count": null,
            "_view_module": "@jupyter-widgets/base",
            "_view_module_version": "1.2.0",
            "_view_name": "LayoutView",
            "align_content": null,
            "align_items": null,
            "align_self": null,
            "border": null,
            "bottom": null,
            "display": null,
            "flex": null,
            "flex_flow": null,
            "grid_area": null,
            "grid_auto_columns": null,
            "grid_auto_flow": null,
            "grid_auto_rows": null,
            "grid_column": null,
            "grid_gap": null,
            "grid_row": null,
            "grid_template_areas": null,
            "grid_template_columns": null,
            "grid_template_rows": null,
            "height": null,
            "justify_content": null,
            "justify_items": null,
            "left": null,
            "margin": null,
            "max_height": null,
            "max_width": null,
            "min_height": null,
            "min_width": null,
            "object_fit": null,
            "object_position": null,
            "order": null,
            "overflow": null,
            "overflow_x": null,
            "overflow_y": null,
            "padding": null,
            "right": null,
            "top": null,
            "visibility": null,
            "width": null
          }
        },
        "2a1d05e0ceb14deb9d657e705bcf7027": {
          "model_module": "@jupyter-widgets/controls",
          "model_name": "DescriptionStyleModel",
          "model_module_version": "1.5.0",
          "state": {
            "_model_module": "@jupyter-widgets/controls",
            "_model_module_version": "1.5.0",
            "_model_name": "DescriptionStyleModel",
            "_view_count": null,
            "_view_module": "@jupyter-widgets/base",
            "_view_module_version": "1.2.0",
            "_view_name": "StyleView",
            "description_width": ""
          }
        },
        "3340d2546ac1404cb9f74a0224341365": {
          "model_module": "@jupyter-widgets/base",
          "model_name": "LayoutModel",
          "model_module_version": "1.2.0",
          "state": {
            "_model_module": "@jupyter-widgets/base",
            "_model_module_version": "1.2.0",
            "_model_name": "LayoutModel",
            "_view_count": null,
            "_view_module": "@jupyter-widgets/base",
            "_view_module_version": "1.2.0",
            "_view_name": "LayoutView",
            "align_content": null,
            "align_items": null,
            "align_self": null,
            "border": null,
            "bottom": null,
            "display": null,
            "flex": null,
            "flex_flow": null,
            "grid_area": null,
            "grid_auto_columns": null,
            "grid_auto_flow": null,
            "grid_auto_rows": null,
            "grid_column": null,
            "grid_gap": null,
            "grid_row": null,
            "grid_template_areas": null,
            "grid_template_columns": null,
            "grid_template_rows": null,
            "height": null,
            "justify_content": null,
            "justify_items": null,
            "left": null,
            "margin": null,
            "max_height": null,
            "max_width": null,
            "min_height": null,
            "min_width": null,
            "object_fit": null,
            "object_position": null,
            "order": null,
            "overflow": null,
            "overflow_x": null,
            "overflow_y": null,
            "padding": null,
            "right": null,
            "top": null,
            "visibility": null,
            "width": null
          }
        },
        "168caaf2544a4f0081444fa9cbbd1544": {
          "model_module": "@jupyter-widgets/controls",
          "model_name": "ProgressStyleModel",
          "model_module_version": "1.5.0",
          "state": {
            "_model_module": "@jupyter-widgets/controls",
            "_model_module_version": "1.5.0",
            "_model_name": "ProgressStyleModel",
            "_view_count": null,
            "_view_module": "@jupyter-widgets/base",
            "_view_module_version": "1.2.0",
            "_view_name": "StyleView",
            "bar_color": null,
            "description_width": ""
          }
        },
        "10ed1fa0e3af40be977da04c33cc92a6": {
          "model_module": "@jupyter-widgets/base",
          "model_name": "LayoutModel",
          "model_module_version": "1.2.0",
          "state": {
            "_model_module": "@jupyter-widgets/base",
            "_model_module_version": "1.2.0",
            "_model_name": "LayoutModel",
            "_view_count": null,
            "_view_module": "@jupyter-widgets/base",
            "_view_module_version": "1.2.0",
            "_view_name": "LayoutView",
            "align_content": null,
            "align_items": null,
            "align_self": null,
            "border": null,
            "bottom": null,
            "display": null,
            "flex": null,
            "flex_flow": null,
            "grid_area": null,
            "grid_auto_columns": null,
            "grid_auto_flow": null,
            "grid_auto_rows": null,
            "grid_column": null,
            "grid_gap": null,
            "grid_row": null,
            "grid_template_areas": null,
            "grid_template_columns": null,
            "grid_template_rows": null,
            "height": null,
            "justify_content": null,
            "justify_items": null,
            "left": null,
            "margin": null,
            "max_height": null,
            "max_width": null,
            "min_height": null,
            "min_width": null,
            "object_fit": null,
            "object_position": null,
            "order": null,
            "overflow": null,
            "overflow_x": null,
            "overflow_y": null,
            "padding": null,
            "right": null,
            "top": null,
            "visibility": null,
            "width": null
          }
        },
        "7750732817604a61a948061a71edf551": {
          "model_module": "@jupyter-widgets/controls",
          "model_name": "DescriptionStyleModel",
          "model_module_version": "1.5.0",
          "state": {
            "_model_module": "@jupyter-widgets/controls",
            "_model_module_version": "1.5.0",
            "_model_name": "DescriptionStyleModel",
            "_view_count": null,
            "_view_module": "@jupyter-widgets/base",
            "_view_module_version": "1.2.0",
            "_view_name": "StyleView",
            "description_width": ""
          }
        }
      }
    }
  },
  "cells": [
    {
      "cell_type": "markdown",
      "source": [
        "# AI/ML Engineer Assignment – [Task 1  & Task 2]\n",
        "\n",
        "\n"
      ],
      "metadata": {
        "id": "2rP_5OY--lPu"
      }
    },
    {
      "cell_type": "markdown",
      "source": [
        "# Task 1: Data Generation (Synthetic Financial Data)\n",
        "\n"
      ],
      "metadata": {
        "id": "U1cuIcwMiacm"
      }
    },
    {
      "cell_type": "markdown",
      "source": [
        "## ** Three types of financial data:**\n",
        "\n",
        "1.Stock Price Movements using Geometric Brownian Motion (GBM).\n",
        "\n",
        "2.Mutual Fund NAVs with realistic volatility patterns.\n",
        "\n",
        "3.User Risk Profiles (Low, Medium, High) with synthetic data.\n",
        "\n"
      ],
      "metadata": {
        "id": "vPjP3JGqieul"
      }
    },
    {
      "cell_type": "markdown",
      "source": [
        "### Step 1: Generate Stock Prices using GBM\n",
        "GBM is commonly used to model stock prices:\n",
        "\n",
        "𝑆\n",
        "𝑡\n",
        "+\n",
        "1\n",
        "=\n",
        "𝑆\n",
        "𝑡\n",
        "×\n",
        "𝑒\n",
        "(\n",
        "𝜇\n",
        "−\n",
        "𝜎\n",
        "2\n",
        "2\n",
        ")\n",
        "Δ\n",
        "𝑡\n",
        "+\n",
        "𝜎\n",
        "𝜖\n",
        "Δ\n",
        "𝑡\n",
        "S\n",
        "t+1\n",
        "​\n",
        " =S\n",
        "t\n",
        "​\n",
        " ×e\n",
        "(μ−\n",
        "2\n",
        "σ\n",
        "2\n",
        "\n",
        "​\n",
        " )Δt+σϵ\n",
        "Δt\n",
        "​\n",
        "\n",
        "\n",
        "Where:\n",
        "\n",
        "𝑆\n",
        "𝑡\n",
        "S\n",
        "t\n",
        "​\n",
        "  = Current stock price\n",
        "\n",
        "𝜇\n",
        "μ = Expected return\n",
        "\n",
        "𝜎\n",
        "σ = Volatility\n",
        "\n",
        "𝜖\n",
        "ϵ = Random noise (normal distribution)\n",
        "\n",
        "Δ\n",
        "𝑡\n",
        "Δt = Time step\n",
        "\n"
      ],
      "metadata": {
        "id": "CbRChkQCi19E"
      }
    },
    {
      "cell_type": "code",
      "source": [
        "import numpy as np\n",
        "import pandas as pd\n",
        "import matplotlib.pyplot as plt\n",
        "\n",
        "# Number of trading days in a year (252 days considering weekends and holidays)\n",
        "T = 252\n",
        "\n",
        "# Expected annual return of the stock (assumed as 8%)\n",
        "mu = 0.08\n",
        "\n",
        "# Volatility of the stock (assumed as 20% standard deviation)\n",
        "sigma = 0.2\n",
        "\n",
        "# Initial stock price (starting point, set to ₹100)\n",
        "S0 = 100\n",
        "\n",
        "# Time step size (1 trading day as fraction of a year)\n",
        "dt = 1 / T\n",
        "\n",
        "# Generating random shocks (daily market fluctuations based on normal distribution)\n",
        "random_shocks = np.random.normal(0, 1, T)\n",
        "\n",
        "# List to store stock prices, starting with initial price\n",
        "stock_prices = [S0]\n",
        "\n",
        "# Loop to simulate stock price movement for T days using Geometric Brownian Motion (GBM)\n",
        "for i in range(1, T):\n",
        "    # Formula for GBM: Next price depends on previous price, market trends (mu), volatility (sigma), and random shocks\n",
        "    S_t = stock_prices[-1] * np.exp((mu - 0.5 * sigma**2) * dt + sigma * random_shocks[i] * np.sqrt(dt))\n",
        "\n",
        "    # Append the newly calculated stock price\n",
        "    stock_prices.append(S_t)\n",
        "\n",
        "# Convert the list into a Pandas DataFrame for easy handling\n",
        "df_stock = pd.DataFrame({'Day': np.arange(1, T+1), 'Stock Price': stock_prices})\n",
        "\n",
        "# Save the simulated stock price data to a CSV file\n",
        "df_stock.to_csv('synthetic_stock_prices.csv', index=False)\n",
        "\n",
        "# Plot the generated stock price movement to visualize trends\n",
        "plt.plot(df_stock['Day'], df_stock['Stock Price'])\n",
        "plt.xlabel(\"Days\")  # Label for X-axis (Trading Days)\n",
        "plt.ylabel(\"Stock Price\")  # Label for Y-axis (Stock Price in ₹)\n",
        "plt.title(\"Synthetic Stock Price using GBM\")  # Chart title\n",
        "plt.show()  # Display the plot\n"
      ],
      "metadata": {
        "colab": {
          "base_uri": "https://localhost:8080/",
          "height": 472
        },
        "id": "y9vQ6I_Mi-Y2",
        "outputId": "faf7e5e0-b11f-4e7e-9852-5af345027793"
      },
      "execution_count": 8,
      "outputs": [
        {
          "output_type": "display_data",
          "data": {
            "text/plain": [
              "<Figure size 640x480 with 1 Axes>"
            ],
            "image/png": "[encoded data removed]"
          },
          "metadata": {}
        }
      ]
    },
    {
      "cell_type": "markdown",
      "source": [
        "Saves stock price data to synthetic_stock_prices.csv."
      ],
      "metadata": {
        "id": "i1lLyUGUjE7F"
      }
    },
    {
      "cell_type": "markdown",
      "source": [
        "### Step 2: Generate Mutual Fund NAVs\n",
        "\n",
        "Mutual fund NAVs should have lower volatility than stocks but show a steady increase."
      ],
      "metadata": {
        "id": "VYDuRqnjjHla"
      }
    },
    {
      "cell_type": "code",
      "source": [
        "# Simulating Mutual Fund NAV with lower volatility (compared to stocks)\n",
        "nav_sigma = 0.08  # Mutual funds are generally less volatile than stocks\n",
        "nav_mu = 0.06  # Expected annual return of the mutual fund (assumed as 6%)\n",
        "NAV0 = 10  # Initial NAV (Net Asset Value) starting at ₹10\n",
        "\n",
        "# Generating random shocks (daily small fluctuations in NAV)\n",
        "random_shocks_nav = np.random.normal(0, 1, T)\n",
        "\n",
        "# List to store NAV values, starting from ₹10\n",
        "nav_prices = [NAV0]\n",
        "\n",
        "# Loop to simulate Mutual Fund NAV movement for T days using Geometric Brownian Motion (GBM)\n",
        "for i in range(1, T):\n",
        "    # GBM formula for NAV - similar to stocks but with lower risk and returns\n",
        "    NAV_t = nav_prices[-1] * np.exp((nav_mu - 0.5 * nav_sigma**2) * dt + nav_sigma * random_shocks_nav[i] * np.sqrt(dt))\n",
        "\n",
        "    # Append the newly calculated NAV value\n",
        "    nav_prices.append(NAV_t)\n",
        "\n",
        "# Convert the list into a Pandas DataFrame for easy handling\n",
        "df_nav = pd.DataFrame({'Day': np.arange(1, T+1), 'Mutual Fund NAV': nav_prices})\n",
        "\n",
        "# Save the simulated mutual fund NAV data to a CSV file\n",
        "df_nav.to_csv('synthetic_mutual_fund_nav.csv', index=False)\n",
        "\n",
        "# Plot the NAV movement to visualize how the fund's value changes over time\n",
        "plt.plot(df_nav['Day'], df_nav['Mutual Fund NAV'], color='orange')  # Orange color for better distinction\n",
        "plt.xlabel(\"Days\")  # Label for X-axis (Trading Days)\n",
        "plt.ylabel(\"NAV\")  # Label for Y-axis (Net Asset Value in ₹)\n",
        "plt.title(\"Synthetic Mutual Fund NAV\")  # Chart title\n",
        "plt.show()  # Display the plot\n",
        "\n"
      ],
      "metadata": {
        "colab": {
          "base_uri": "https://localhost:8080/",
          "height": 472
        },
        "id": "fUVSYGvmjN7I",
        "outputId": "04cea9e2-1391-4e08-915f-235daa941f63"
      },
      "execution_count": 20,
      "outputs": [
        {
          "output_type": "display_data",
          "data": {
            "text/plain": [
              "<Figure size 640x480 with 1 Axes>"
            ],
            "image/png": "[encoded data removed]"
          },
          "metadata": {}
        }
      ]
    },
    {
      "cell_type": "markdown",
      "source": [
        "Saves NAV data to synthetic_mutual_fund_nav.csv."
      ],
      "metadata": {
        "id": "AvSEYgcGjSU4"
      }
    },
    {
      "cell_type": "markdown",
      "source": [
        "### Step 3: Generate User Risk Profiles\n",
        "we need to assign risk profiles to users randomly"
      ],
      "metadata": {
        "id": "lrdCGY3ljTkF"
      }
    },
    {
      "cell_type": "code",
      "source": [
        "import random\n",
        "\n",
        "# Number of users to generate (Assuming 1000 users for our dataset)\n",
        "num_users = 1000\n",
        "\n",
        "# Defining different risk profiles - Based on investment style\n",
        "risk_levels = ['Low', 'Medium', 'High']\n",
        "\n",
        "# Creating a dictionary with user IDs and assigning random risk profiles\n",
        "user_data = {\n",
        "    'User ID': range(1, num_users + 1),  # Unique user IDs from 1 to 1000\n",
        "    'Risk Profile': [random.choice(risk_levels) for _ in range(num_users)]  # Randomly assigning risk profiles\n",
        "}\n",
        "\n",
        "# Converting the dictionary into a Pandas DataFrame for easy handling\n",
        "df_users = pd.DataFrame(user_data)\n",
        "\n",
        "# Saving the user risk profile data to a CSV file for later use\n",
        "df_users.to_csv('user_risk_profiles.csv', index=False)\n",
        "\n",
        "# Displaying the first 5 rows to check if data looks fine\n",
        "print(df_users.head())\n",
        "\n"
      ],
      "metadata": {
        "colab": {
          "base_uri": "https://localhost:8080/"
        },
        "id": "uLjoqCQ9jkBP",
        "outputId": "ad4d4a9c-368a-4177-cc01-e2b9644f1b0c"
      },
      "execution_count": 21,
      "outputs": [
        {
          "output_type": "stream",
          "name": "stdout",
          "text": [
            "   User ID Risk Profile\n",
            "0        1         High\n",
            "1        2          Low\n",
            "2        3       Medium\n",
            "3        4          Low\n",
            "4        5         High\n"
          ]
        }
      ]
    },
    {
      "cell_type": "markdown",
      "source": [
        "Saves user risk profile data to user_risk_profiles.csv."
      ],
      "metadata": {
        "id": "E9xGrnWUjmip"
      }
    },
    {
      "cell_type": "markdown",
      "source": [
        "# Task 2: AI Agent for Investment Advisory\n",
        "\n",
        "**our AI agent should:**\n",
        "\n",
        "Understand NLP queries – Use LangChain/GPT/FinBERT to extract intent.\n",
        "\n",
        "Forecast Stock Prices – Use an LSTM model for time series forecasting.\n",
        "\n",
        "Optimize Portfolio – Use Markowitz Modern Portfolio Theory."
      ],
      "metadata": {
        "id": "kgonMIzPjo6_"
      }
    },
    {
      "cell_type": "markdown",
      "source": [
        "### Step 4: NLP-based Query Understanding\n",
        "Use FinBERT (a financial domain model) for query classification."
      ],
      "metadata": {
        "id": "DL7UP3UGkFN7"
      }
    },
    {
      "cell_type": "code",
      "source": [
        "!pip uninstall -y tensorflow\n",
        "!pip install tensorflow==2.15.0  # Install a version compatible with CuDNN\n",
        "!pip install --upgrade tensorflow-gpu\n"
      ],
      "metadata": {
        "colab": {
          "base_uri": "https://localhost:8080/",
          "height": 1000
        },
        "id": "-sG8ycvCVp3b",
        "outputId": "6a6296fb-19d6-484c-bcf8-d8cf46ee2403"
      },
      "execution_count": 24,
      "outputs": [
        {
          "output_type": "stream",
          "name": "stdout",
          "text": [
            "Found existing installation: tensorflow 2.18.0\n",
            "Uninstalling tensorflow-2.18.0:\n",
            "  Successfully uninstalled tensorflow-2.18.0\n",
            "Collecting tensorflow==2.15.0\n",
            "  Downloading tensorflow-2.15.0-cp311-cp311-manylinux_2_17_x86_64.manylinux2014_x86_64.whl.metadata (4.4 kB)\n",
            "Requirement already satisfied: absl-py>=1.0.0 in /usr/local/lib/python3.11/dist-packages (from tensorflow==2.15.0) (1.4.0)\n",
            "Requirement already satisfied: astunparse>=1.6.0 in /usr/local/lib/python3.11/dist-packages (from tensorflow==2.15.0) (1.6.3)\n",
            "Requirement already satisfied: flatbuffers>=23.5.26 in /usr/local/lib/python3.11/dist-packages (from tensorflow==2.15.0) (25.2.10)\n",
            "Requirement already satisfied: gast!=0.5.0,!=0.5.1,!=0.5.2,>=0.2.1 in /usr/local/lib/python3.11/dist-packages (from tensorflow==2.15.0) (0.6.0)\n",
            "Requirement already satisfied: google-pasta>=0.1.1 in /usr/local/lib/python3.11/dist-packages (from tensorflow==2.15.0) (0.2.0)\n",
            "Requirement already satisfied: h5py>=2.9.0 in /usr/local/lib/python3.11/dist-packages (from tensorflow==2.15.0) (3.13.0)\n",
            "Requirement already satisfied: libclang>=13.0.0 in /usr/local/lib/python3.11/dist-packages (from tensorflow==2.15.0) (18.1.1)\n",
            "Collecting ml-dtypes~=0.2.0 (from tensorflow==2.15.0)\n",
            "  Downloading ml_dtypes-0.2.0-cp311-cp311-manylinux_2_17_x86_64.manylinux2014_x86_64.whl.metadata (20 kB)\n",
            "Collecting numpy<2.0.0,>=1.23.5 (from tensorflow==2.15.0)\n",
            "  Downloading numpy-1.26.4-cp311-cp311-manylinux_2_17_x86_64.manylinux2014_x86_64.whl.metadata (61 kB)\n",
            "\u001b[2K     \u001b[90m━━━━━━━━━━━━━━━━━━━━━━━━━━━━━━━━━━━━━━━━\u001b[0m \u001b[32m61.0/61.0 kB\u001b[0m \u001b[31m4.8 MB/s\u001b[0m eta \u001b[36m0:00:00\u001b[0m\n",
            "\u001b[?25hRequirement already satisfied: opt-einsum>=2.3.2 in /usr/local/lib/python3.11/dist-packages (from tensorflow==2.15.0) (3.4.0)\n",
            "Requirement already satisfied: packaging in /usr/local/lib/python3.11/dist-packages (from tensorflow==2.15.0) (24.2)\n",
            "Collecting protobuf!=4.21.0,!=4.21.1,!=4.21.2,!=4.21.3,!=4.21.4,!=4.21.5,<5.0.0dev,>=3.20.3 (from tensorflow==2.15.0)\n",
            "  Downloading protobuf-4.25.6-cp37-abi3-manylinux2014_x86_64.whl.metadata (541 bytes)\n",
            "Requirement already satisfied: setuptools in /usr/local/lib/python3.11/dist-packages (from tensorflow==2.15.0) (75.1.0)\n",
            "Requirement already satisfied: six>=1.12.0 in /usr/local/lib/python3.11/dist-packages (from tensorflow==2.15.0) (1.17.0)\n",
            "Requirement already satisfied: termcolor>=1.1.0 in /usr/local/lib/python3.11/dist-packages (from tensorflow==2.15.0) (2.5.0)\n",
            "Requirement already satisfied: typing-extensions>=3.6.6 in /usr/local/lib/python3.11/dist-packages (from tensorflow==2.15.0) (4.12.2)\n",
            "Collecting wrapt<1.15,>=1.11.0 (from tensorflow==2.15.0)\n",
            "  Downloading wrapt-1.14.1-cp311-cp311-manylinux_2_5_x86_64.manylinux1_x86_64.manylinux_2_17_x86_64.manylinux2014_x86_64.whl.metadata (6.7 kB)\n",
            "Requirement already satisfied: tensorflow-io-gcs-filesystem>=0.23.1 in /usr/local/lib/python3.11/dist-packages (from tensorflow==2.15.0) (0.37.1)\n",
            "Requirement already satisfied: grpcio<2.0,>=1.24.3 in /usr/local/lib/python3.11/dist-packages (from tensorflow==2.15.0) (1.71.0)\n",
            "Collecting tensorboard<2.16,>=2.15 (from tensorflow==2.15.0)\n",
            "  Downloading tensorboard-2.15.2-py3-none-any.whl.metadata (1.7 kB)\n",
            "Collecting tensorflow-estimator<2.16,>=2.15.0 (from tensorflow==2.15.0)\n",
            "  Downloading tensorflow_estimator-2.15.0-py2.py3-none-any.whl.metadata (1.3 kB)\n",
            "Collecting keras<2.16,>=2.15.0 (from tensorflow==2.15.0)\n",
            "  Downloading keras-2.15.0-py3-none-any.whl.metadata (2.4 kB)\n",
            "Requirement already satisfied: wheel<1.0,>=0.23.0 in /usr/local/lib/python3.11/dist-packages (from astunparse>=1.6.0->tensorflow==2.15.0) (0.45.1)\n",
            "Requirement already satisfied: google-auth<3,>=1.6.3 in /usr/local/lib/python3.11/dist-packages (from tensorboard<2.16,>=2.15->tensorflow==2.15.0) (2.38.0)\n",
            "Requirement already satisfied: google-auth-oauthlib<2,>=0.5 in /usr/local/lib/python3.11/dist-packages (from tensorboard<2.16,>=2.15->tensorflow==2.15.0) (1.2.1)\n",
            "Requirement already satisfied: markdown>=2.6.8 in /usr/local/lib/python3.11/dist-packages (from tensorboard<2.16,>=2.15->tensorflow==2.15.0) (3.7)\n",
            "Requirement already satisfied: requests<3,>=2.21.0 in /usr/local/lib/python3.11/dist-packages (from tensorboard<2.16,>=2.15->tensorflow==2.15.0) (2.32.3)\n",
            "Requirement already satisfied: tensorboard-data-server<0.8.0,>=0.7.0 in /usr/local/lib/python3.11/dist-packages (from tensorboard<2.16,>=2.15->tensorflow==2.15.0) (0.7.2)\n",
            "Requirement already satisfied: werkzeug>=1.0.1 in /usr/local/lib/python3.11/dist-packages (from tensorboard<2.16,>=2.15->tensorflow==2.15.0) (3.1.3)\n",
            "Requirement already satisfied: cachetools<6.0,>=2.0.0 in /usr/local/lib/python3.11/dist-packages (from google-auth<3,>=1.6.3->tensorboard<2.16,>=2.15->tensorflow==2.15.0) (5.5.2)\n",
            "Requirement already satisfied: pyasn1-modules>=0.2.1 in /usr/local/lib/python3.11/dist-packages (from google-auth<3,>=1.6.3->tensorboard<2.16,>=2.15->tensorflow==2.15.0) (0.4.1)\n",
            "Requirement already satisfied: rsa<5,>=3.1.4 in /usr/local/lib/python3.11/dist-packages (from google-auth<3,>=1.6.3->tensorboard<2.16,>=2.15->tensorflow==2.15.0) (4.9)\n",
            "Requirement already satisfied: requests-oauthlib>=0.7.0 in /usr/local/lib/python3.11/dist-packages (from google-auth-oauthlib<2,>=0.5->tensorboard<2.16,>=2.15->tensorflow==2.15.0) (2.0.0)\n",
            "Requirement already satisfied: charset-normalizer<4,>=2 in /usr/local/lib/python3.11/dist-packages (from requests<3,>=2.21.0->tensorboard<2.16,>=2.15->tensorflow==2.15.0) (3.4.1)\n",
            "Requirement already satisfied: idna<4,>=2.5 in /usr/local/lib/python3.11/dist-packages (from requests<3,>=2.21.0->tensorboard<2.16,>=2.15->tensorflow==2.15.0) (3.10)\n",
            "Requirement already satisfied: urllib3<3,>=1.21.1 in /usr/local/lib/python3.11/dist-packages (from requests<3,>=2.21.0->tensorboard<2.16,>=2.15->tensorflow==2.15.0) (2.3.0)\n",
            "Requirement already satisfied: certifi>=2017.4.17 in /usr/local/lib/python3.11/dist-packages (from requests<3,>=2.21.0->tensorboard<2.16,>=2.15->tensorflow==2.15.0) (2025.1.31)\n",
            "Requirement already satisfied: MarkupSafe>=2.1.1 in /usr/local/lib/python3.11/dist-packages (from werkzeug>=1.0.1->tensorboard<2.16,>=2.15->tensorflow==2.15.0) (3.0.2)\n",
            "Requirement already satisfied: pyasn1<0.7.0,>=0.4.6 in /usr/local/lib/python3.11/dist-packages (from pyasn1-modules>=0.2.1->google-auth<3,>=1.6.3->tensorboard<2.16,>=2.15->tensorflow==2.15.0) (0.6.1)\n",
            "Requirement already satisfied: oauthlib>=3.0.0 in /usr/local/lib/python3.11/dist-packages (from requests-oauthlib>=0.7.0->google-auth-oauthlib<2,>=0.5->tensorboard<2.16,>=2.15->tensorflow==2.15.0) (3.2.2)\n",
            "Downloading tensorflow-2.15.0-cp311-cp311-manylinux_2_17_x86_64.manylinux2014_x86_64.whl (475.3 MB)\n",
            "\u001b[2K   \u001b[90m━━━━━━━━━━━━━━━━━━━━━━━━━━━━━━━━━━━━━━━━\u001b[0m \u001b[32m475.3/475.3 MB\u001b[0m \u001b[31m3.9 MB/s\u001b[0m eta \u001b[36m0:00:00\u001b[0m\n",
            "\u001b[?25hDownloading keras-2.15.0-py3-none-any.whl (1.7 MB)\n",
            "\u001b[2K   \u001b[90m━━━━━━━━━━━━━━━━━━━━━━━━━━━━━━━━━━━━━━━━\u001b[0m \u001b[32m1.7/1.7 MB\u001b[0m \u001b[31m59.7 MB/s\u001b[0m eta \u001b[36m0:00:00\u001b[0m\n",
            "\u001b[?25hDownloading ml_dtypes-0.2.0-cp311-cp311-manylinux_2_17_x86_64.manylinux2014_x86_64.whl (1.0 MB)\n",
            "\u001b[2K   \u001b[90m━━━━━━━━━━━━━━━━━━━━━━━━━━━━━━━━━━━━━━━━\u001b[0m \u001b[32m1.0/1.0 MB\u001b[0m \u001b[31m44.6 MB/s\u001b[0m eta \u001b[36m0:00:00\u001b[0m\n",
            "\u001b[?25hDownloading numpy-1.26.4-cp311-cp311-manylinux_2_17_x86_64.manylinux2014_x86_64.whl (18.3 MB)\n",
            "\u001b[2K   \u001b[90m━━━━━━━━━━━━━━━━━━━━━━━━━━━━━━━━━━━━━━━━\u001b[0m \u001b[32m18.3/18.3 MB\u001b[0m \u001b[31m48.3 MB/s\u001b[0m eta \u001b[36m0:00:00\u001b[0m\n",
            "\u001b[?25hDownloading protobuf-4.25.6-cp37-abi3-manylinux2014_x86_64.whl (294 kB)\n",
            "\u001b[2K   \u001b[90m━━━━━━━━━━━━━━━━━━━━━━━━━━━━━━━━━━━━━━━━\u001b[0m \u001b[32m294.6/294.6 kB\u001b[0m \u001b[31m21.1 MB/s\u001b[0m eta \u001b[36m0:00:00\u001b[0m\n",
            "\u001b[?25hDownloading tensorboard-2.15.2-py3-none-any.whl (5.5 MB)\n",
            "\u001b[2K   \u001b[90m━━━━━━━━━━━━━━━━━━━━━━━━━━━━━━━━━━━━━━━━\u001b[0m \u001b[32m5.5/5.5 MB\u001b[0m \u001b[31m88.2 MB/s\u001b[0m eta \u001b[36m0:00:00\u001b[0m\n",
            "\u001b[?25hDownloading tensorflow_estimator-2.15.0-py2.py3-none-any.whl (441 kB)\n",
            "\u001b[2K   \u001b[90m━━━━━━━━━━━━━━━━━━━━━━━━━━━━━━━━━━━━━━━━\u001b[0m \u001b[32m442.0/442.0 kB\u001b[0m \u001b[31m34.6 MB/s\u001b[0m eta \u001b[36m0:00:00\u001b[0m\n",
            "\u001b[?25hDownloading wrapt-1.14.1-cp311-cp311-manylinux_2_5_x86_64.manylinux1_x86_64.manylinux_2_17_x86_64.manylinux2014_x86_64.whl (78 kB)\n",
            "\u001b[2K   \u001b[90m━━━━━━━━━━━━━━━━━━━━━━━━━━━━━━━━━━━━━━━━\u001b[0m \u001b[32m78.4/78.4 kB\u001b[0m \u001b[31m6.4 MB/s\u001b[0m eta \u001b[36m0:00:00\u001b[0m\n",
            "\u001b[?25hInstalling collected packages: wrapt, tensorflow-estimator, protobuf, numpy, keras, ml-dtypes, tensorboard, tensorflow\n",
            "  Attempting uninstall: wrapt\n",
            "    Found existing installation: wrapt 1.17.2\n",
            "    Uninstalling wrapt-1.17.2:\n",
            "      Successfully uninstalled wrapt-1.17.2\n",
            "  Attempting uninstall: protobuf\n",
            "    Found existing installation: protobuf 5.29.4\n",
            "    Uninstalling protobuf-5.29.4:\n",
            "      Successfully uninstalled protobuf-5.29.4\n",
            "  Attempting uninstall: numpy\n",
            "    Found existing installation: numpy 2.0.2\n",
            "    Uninstalling numpy-2.0.2:\n",
            "      Successfully uninstalled numpy-2.0.2\n",
            "  Attempting uninstall: keras\n",
            "    Found existing installation: keras 3.8.0\n",
            "    Uninstalling keras-3.8.0:\n",
            "      Successfully uninstalled keras-3.8.0\n",
            "  Attempting uninstall: ml-dtypes\n",
            "    Found existing installation: ml-dtypes 0.4.1\n",
            "    Uninstalling ml-dtypes-0.4.1:\n",
            "      Successfully uninstalled ml-dtypes-0.4.1\n",
            "  Attempting uninstall: tensorboard\n",
            "    Found existing installation: tensorboard 2.18.0\n",
            "    Uninstalling tensorboard-2.18.0:\n",
            "      Successfully uninstalled tensorboard-2.18.0\n",
            "\u001b[31mERROR: pip's dependency resolver does not currently take into account all the packages that are installed. This behaviour is the source of the following dependency conflicts.\n",
            "grpcio-status 1.71.0 requires protobuf<6.0dev,>=5.26.1, but you have protobuf 4.25.6 which is incompatible.\n",
            "tensorflow-text 2.18.1 requires tensorflow<2.19,>=2.18.0, but you have tensorflow 2.15.0 which is incompatible.\n",
            "jax 0.5.2 requires ml_dtypes>=0.4.0, but you have ml-dtypes 0.2.0 which is incompatible.\n",
            "tensorstore 0.1.72 requires ml_dtypes>=0.3.1, but you have ml-dtypes 0.2.0 which is incompatible.\n",
            "tf-keras 2.18.0 requires tensorflow<2.19,>=2.18, but you have tensorflow 2.15.0 which is incompatible.\u001b[0m\u001b[31m\n",
            "\u001b[0mSuccessfully installed keras-2.15.0 ml-dtypes-0.2.0 numpy-1.26.4 protobuf-4.25.6 tensorboard-2.15.2 tensorflow-2.15.0 tensorflow-estimator-2.15.0 wrapt-1.14.1\n"
          ]
        },
        {
          "output_type": "display_data",
          "data": {
            "application/vnd.colab-display-data+json": {
              "pip_warning": {
                "packages": [
                  "keras",
                  "ml_dtypes",
                  "tensorflow",
                  "wrapt"
                ]
              },
              "id": "a145a105f9af4f83a077c1d2894952a1"
            }
          },
          "metadata": {}
        },
        {
          "output_type": "stream",
          "name": "stdout",
          "text": [
            "Collecting tensorflow-gpu\n",
            "  Downloading tensorflow-gpu-2.12.0.tar.gz (2.6 kB)\n",
            "  \u001b[1;31merror\u001b[0m: \u001b[1msubprocess-exited-with-error\u001b[0m\n",
            "  \n",
            "  \u001b[31m×\u001b[0m \u001b[32mpython setup.py egg_info\u001b[0m did not run successfully.\n",
            "  \u001b[31m│\u001b[0m exit code: \u001b[1;36m1\u001b[0m\n",
            "  \u001b[31m╰─>\u001b[0m See above for output.\n",
            "  \n",
            "  \u001b[1;35mnote\u001b[0m: This error originates from a subprocess, and is likely not a problem with pip.\n",
            "  Preparing metadata (setup.py) ... \u001b[?25l\u001b[?25herror\n",
            "\u001b[1;31merror\u001b[0m: \u001b[1mmetadata-generation-failed\u001b[0m\n",
            "\n",
            "\u001b[31m×\u001b[0m Encountered error while generating package metadata.\n",
            "\u001b[31m╰─>\u001b[0m See above for output.\n",
            "\n",
            "\u001b[1;35mnote\u001b[0m: This is an issue with the package mentioned above, not pip.\n",
            "\u001b[1;36mhint\u001b[0m: See above for details.\n"
          ]
        }
      ]
    },
    {
      "cell_type": "code",
      "source": [
        "pip install transformers torch\n"
      ],
      "metadata": {
        "colab": {
          "base_uri": "https://localhost:8080/"
        },
        "id": "Mv143mtkkI8v",
        "outputId": "2cfafcc0-f352-4ecb-ba7b-fcdc5456b99a"
      },
      "execution_count": 4,
      "outputs": [
        {
          "output_type": "stream",
          "name": "stdout",
          "text": [
            "Requirement already satisfied: transformers in /usr/local/lib/python3.11/dist-packages (4.50.0)\n",
            "Requirement already satisfied: torch in /usr/local/lib/python3.11/dist-packages (2.6.0+cu124)\n",
            "Requirement already satisfied: filelock in /usr/local/lib/python3.11/dist-packages (from transformers) (3.18.0)\n",
            "Requirement already satisfied: huggingface-hub<1.0,>=0.26.0 in /usr/local/lib/python3.11/dist-packages (from transformers) (0.29.3)\n",
            "Requirement already satisfied: numpy>=1.17 in /usr/local/lib/python3.11/dist-packages (from transformers) (2.0.2)\n",
            "Requirement already satisfied: packaging>=20.0 in /usr/local/lib/python3.11/dist-packages (from transformers) (24.2)\n",
            "Requirement already satisfied: pyyaml>=5.1 in /usr/local/lib/python3.11/dist-packages (from transformers) (6.0.2)\n",
            "Requirement already satisfied: regex!=2019.12.17 in /usr/local/lib/python3.11/dist-packages (from transformers) (2024.11.6)\n",
            "Requirement already satisfied: requests in /usr/local/lib/python3.11/dist-packages (from transformers) (2.32.3)\n",
            "Requirement already satisfied: tokenizers<0.22,>=0.21 in /usr/local/lib/python3.11/dist-packages (from transformers) (0.21.1)\n",
            "Requirement already satisfied: safetensors>=0.4.3 in /usr/local/lib/python3.11/dist-packages (from transformers) (0.5.3)\n",
            "Requirement already satisfied: tqdm>=4.27 in /usr/local/lib/python3.11/dist-packages (from transformers) (4.67.1)\n",
            "Requirement already satisfied: typing-extensions>=4.10.0 in /usr/local/lib/python3.11/dist-packages (from torch) (4.12.2)\n",
            "Requirement already satisfied: networkx in /usr/local/lib/python3.11/dist-packages (from torch) (3.4.2)\n",
            "Requirement already satisfied: jinja2 in /usr/local/lib/python3.11/dist-packages (from torch) (3.1.6)\n",
            "Requirement already satisfied: fsspec in /usr/local/lib/python3.11/dist-packages (from torch) (2025.3.0)\n",
            "Collecting nvidia-cuda-nvrtc-cu12==12.4.127 (from torch)\n",
            "  Downloading nvidia_cuda_nvrtc_cu12-12.4.127-py3-none-manylinux2014_x86_64.whl.metadata (1.5 kB)\n",
            "Collecting nvidia-cuda-runtime-cu12==12.4.127 (from torch)\n",
            "  Downloading nvidia_cuda_runtime_cu12-12.4.127-py3-none-manylinux2014_x86_64.whl.metadata (1.5 kB)\n",
            "Collecting nvidia-cuda-cupti-cu12==12.4.127 (from torch)\n",
            "  Downloading nvidia_cuda_cupti_cu12-12.4.127-py3-none-manylinux2014_x86_64.whl.metadata (1.6 kB)\n",
            "Collecting nvidia-cudnn-cu12==9.1.0.70 (from torch)\n",
            "  Downloading nvidia_cudnn_cu12-9.1.0.70-py3-none-manylinux2014_x86_64.whl.metadata (1.6 kB)\n",
            "Collecting nvidia-cublas-cu12==12.4.5.8 (from torch)\n",
            "  Downloading nvidia_cublas_cu12-12.4.5.8-py3-none-manylinux2014_x86_64.whl.metadata (1.5 kB)\n",
            "Collecting nvidia-cufft-cu12==11.2.1.3 (from torch)\n",
            "  Downloading nvidia_cufft_cu12-11.2.1.3-py3-none-manylinux2014_x86_64.whl.metadata (1.5 kB)\n",
            "Collecting nvidia-curand-cu12==10.3.5.147 (from torch)\n",
            "  Downloading nvidia_curand_cu12-10.3.5.147-py3-none-manylinux2014_x86_64.whl.metadata (1.5 kB)\n",
            "Collecting nvidia-cusolver-cu12==11.6.1.9 (from torch)\n",
            "  Downloading nvidia_cusolver_cu12-11.6.1.9-py3-none-manylinux2014_x86_64.whl.metadata (1.6 kB)\n",
            "Collecting nvidia-cusparse-cu12==12.3.1.170 (from torch)\n",
            "  Downloading nvidia_cusparse_cu12-12.3.1.170-py3-none-manylinux2014_x86_64.whl.metadata (1.6 kB)\n",
            "Requirement already satisfied: nvidia-cusparselt-cu12==0.6.2 in /usr/local/lib/python3.11/dist-packages (from torch) (0.6.2)\n",
            "Requirement already satisfied: nvidia-nccl-cu12==2.21.5 in /usr/local/lib/python3.11/dist-packages (from torch) (2.21.5)\n",
            "Requirement already satisfied: nvidia-nvtx-cu12==12.4.127 in /usr/local/lib/python3.11/dist-packages (from torch) (12.4.127)\n",
            "Collecting nvidia-nvjitlink-cu12==12.4.127 (from torch)\n",
            "  Downloading nvidia_nvjitlink_cu12-12.4.127-py3-none-manylinux2014_x86_64.whl.metadata (1.5 kB)\n",
            "Requirement already satisfied: triton==3.2.0 in /usr/local/lib/python3.11/dist-packages (from torch) (3.2.0)\n",
            "Requirement already satisfied: sympy==1.13.1 in /usr/local/lib/python3.11/dist-packages (from torch) (1.13.1)\n",
            "Requirement already satisfied: mpmath<1.4,>=1.1.0 in /usr/local/lib/python3.11/dist-packages (from sympy==1.13.1->torch) (1.3.0)\n",
            "Requirement already satisfied: MarkupSafe>=2.0 in /usr/local/lib/python3.11/dist-packages (from jinja2->torch) (3.0.2)\n",
            "Requirement already satisfied: charset-normalizer<4,>=2 in /usr/local/lib/python3.11/dist-packages (from requests->transformers) (3.4.1)\n",
            "Requirement already satisfied: idna<4,>=2.5 in /usr/local/lib/python3.11/dist-packages (from requests->transformers) (3.10)\n",
            "Requirement already satisfied: urllib3<3,>=1.21.1 in /usr/local/lib/python3.11/dist-packages (from requests->transformers) (2.3.0)\n",
            "Requirement already satisfied: certifi>=2017.4.17 in /usr/local/lib/python3.11/dist-packages (from requests->transformers) (2025.1.31)\n",
            "Downloading nvidia_cublas_cu12-12.4.5.8-py3-none-manylinux2014_x86_64.whl (363.4 MB)\n",
            "\u001b[2K   \u001b[90m━━━━━━━━━━━━━━━━━━━━━━━━━━━━━━━━━━━━━━━━\u001b[0m \u001b[32m363.4/363.4 MB\u001b[0m \u001b[31m3.8 MB/s\u001b[0m eta \u001b[36m0:00:00\u001b[0m\n",
            "\u001b[?25hDownloading nvidia_cuda_cupti_cu12-12.4.127-py3-none-manylinux2014_x86_64.whl (13.8 MB)\n",
            "\u001b[2K   \u001b[90m━━━━━━━━━━━━━━━━━━━━━━━━━━━━━━━━━━━━━━━━\u001b[0m \u001b[32m13.8/13.8 MB\u001b[0m \u001b[31m64.5 MB/s\u001b[0m eta \u001b[36m0:00:00\u001b[0m\n",
            "\u001b[?25hDownloading nvidia_cuda_nvrtc_cu12-12.4.127-py3-none-manylinux2014_x86_64.whl (24.6 MB)\n",
            "\u001b[2K   \u001b[90m━━━━━━━━━━━━━━━━━━━━━━━━━━━━━━━━━━━━━━━━\u001b[0m \u001b[32m24.6/24.6 MB\u001b[0m \u001b[31m48.1 MB/s\u001b[0m eta \u001b[36m0:00:00\u001b[0m\n",
            "\u001b[?25hDownloading nvidia_cuda_runtime_cu12-12.4.127-py3-none-manylinux2014_x86_64.whl (883 kB)\n",
            "\u001b[2K   \u001b[90m━━━━━━━━━━━━━━━━━━━━━━━━━━━━━━━━━━━━━━━━\u001b[0m \u001b[32m883.7/883.7 kB\u001b[0m \u001b[31m34.3 MB/s\u001b[0m eta \u001b[36m0:00:00\u001b[0m\n",
            "\u001b[?25hDownloading nvidia_cudnn_cu12-9.1.0.70-py3-none-manylinux2014_x86_64.whl (664.8 MB)\n",
            "\u001b[2K   \u001b[90m━━━━━━━━━━━━━━━━━━━━━━━━━━━━━━━━━━━━━━━━\u001b[0m \u001b[32m664.8/664.8 MB\u001b[0m \u001b[31m2.7 MB/s\u001b[0m eta \u001b[36m0:00:00\u001b[0m\n",
            "\u001b[?25hDownloading nvidia_cufft_cu12-11.2.1.3-py3-none-manylinux2014_x86_64.whl (211.5 MB)\n",
            "\u001b[2K   \u001b[90m━━━━━━━━━━━━━━━━━━━━━━━━━━━━━━━━━━━━━━━━\u001b[0m \u001b[32m211.5/211.5 MB\u001b[0m \u001b[31m6.4 MB/s\u001b[0m eta \u001b[36m0:00:00\u001b[0m\n",
            "\u001b[?25hDownloading nvidia_curand_cu12-10.3.5.147-py3-none-manylinux2014_x86_64.whl (56.3 MB)\n",
            "\u001b[2K   \u001b[90m━━━━━━━━━━━━━━━━━━━━━━━━━━━━━━━━━━━━━━━━\u001b[0m \u001b[32m56.3/56.3 MB\u001b[0m \u001b[31m14.0 MB/s\u001b[0m eta \u001b[36m0:00:00\u001b[0m\n",
            "\u001b[?25hDownloading nvidia_cusolver_cu12-11.6.1.9-py3-none-manylinux2014_x86_64.whl (127.9 MB)\n",
            "\u001b[2K   \u001b[90m━━━━━━━━━━━━━━━━━━━━━━━━━━━━━━━━━━━━━━━━\u001b[0m \u001b[32m127.9/127.9 MB\u001b[0m \u001b[31m7.7 MB/s\u001b[0m eta \u001b[36m0:00:00\u001b[0m\n",
            "\u001b[?25hDownloading nvidia_cusparse_cu12-12.3.1.170-py3-none-manylinux2014_x86_64.whl (207.5 MB)\n",
            "\u001b[2K   \u001b[90m━━━━━━━━━━━━━━━━━━━━━━━━━━━━━━━━━━━━━━━━\u001b[0m \u001b[32m207.5/207.5 MB\u001b[0m \u001b[31m5.9 MB/s\u001b[0m eta \u001b[36m0:00:00\u001b[0m\n",
            "\u001b[?25hDownloading nvidia_nvjitlink_cu12-12.4.127-py3-none-manylinux2014_x86_64.whl (21.1 MB)\n",
            "\u001b[2K   \u001b[90m━━━━━━━━━━━━━━━━━━━━━━━━━━━━━━━━━━━━━━━━\u001b[0m \u001b[32m21.1/21.1 MB\u001b[0m \u001b[31m90.2 MB/s\u001b[0m eta \u001b[36m0:00:00\u001b[0m\n",
            "\u001b[?25hInstalling collected packages: nvidia-nvjitlink-cu12, nvidia-curand-cu12, nvidia-cufft-cu12, nvidia-cuda-runtime-cu12, nvidia-cuda-nvrtc-cu12, nvidia-cuda-cupti-cu12, nvidia-cublas-cu12, nvidia-cusparse-cu12, nvidia-cudnn-cu12, nvidia-cusolver-cu12\n",
            "  Attempting uninstall: nvidia-nvjitlink-cu12\n",
            "    Found existing installation: nvidia-nvjitlink-cu12 12.5.82\n",
            "    Uninstalling nvidia-nvjitlink-cu12-12.5.82:\n",
            "      Successfully uninstalled nvidia-nvjitlink-cu12-12.5.82\n",
            "  Attempting uninstall: nvidia-curand-cu12\n",
            "    Found existing installation: nvidia-curand-cu12 10.3.6.82\n",
            "    Uninstalling nvidia-curand-cu12-10.3.6.82:\n",
            "      Successfully uninstalled nvidia-curand-cu12-10.3.6.82\n",
            "  Attempting uninstall: nvidia-cufft-cu12\n",
            "    Found existing installation: nvidia-cufft-cu12 11.2.3.61\n",
            "    Uninstalling nvidia-cufft-cu12-11.2.3.61:\n",
            "      Successfully uninstalled nvidia-cufft-cu12-11.2.3.61\n",
            "  Attempting uninstall: nvidia-cuda-runtime-cu12\n",
            "    Found existing installation: nvidia-cuda-runtime-cu12 12.5.82\n",
            "    Uninstalling nvidia-cuda-runtime-cu12-12.5.82:\n",
            "      Successfully uninstalled nvidia-cuda-runtime-cu12-12.5.82\n",
            "  Attempting uninstall: nvidia-cuda-nvrtc-cu12\n",
            "    Found existing installation: nvidia-cuda-nvrtc-cu12 12.5.82\n",
            "    Uninstalling nvidia-cuda-nvrtc-cu12-12.5.82:\n",
            "      Successfully uninstalled nvidia-cuda-nvrtc-cu12-12.5.82\n",
            "  Attempting uninstall: nvidia-cuda-cupti-cu12\n",
            "    Found existing installation: nvidia-cuda-cupti-cu12 12.5.82\n",
            "    Uninstalling nvidia-cuda-cupti-cu12-12.5.82:\n",
            "      Successfully uninstalled nvidia-cuda-cupti-cu12-12.5.82\n",
            "  Attempting uninstall: nvidia-cublas-cu12\n",
            "    Found existing installation: nvidia-cublas-cu12 12.5.3.2\n",
            "    Uninstalling nvidia-cublas-cu12-12.5.3.2:\n",
            "      Successfully uninstalled nvidia-cublas-cu12-12.5.3.2\n",
            "  Attempting uninstall: nvidia-cusparse-cu12\n",
            "    Found existing installation: nvidia-cusparse-cu12 12.5.1.3\n",
            "    Uninstalling nvidia-cusparse-cu12-12.5.1.3:\n",
            "      Successfully uninstalled nvidia-cusparse-cu12-12.5.1.3\n",
            "  Attempting uninstall: nvidia-cudnn-cu12\n",
            "    Found existing installation: nvidia-cudnn-cu12 9.3.0.75\n",
            "    Uninstalling nvidia-cudnn-cu12-9.3.0.75:\n",
            "      Successfully uninstalled nvidia-cudnn-cu12-9.3.0.75\n",
            "  Attempting uninstall: nvidia-cusolver-cu12\n",
            "    Found existing installation: nvidia-cusolver-cu12 11.6.3.83\n",
            "    Uninstalling nvidia-cusolver-cu12-11.6.3.83:\n",
            "      Successfully uninstalled nvidia-cusolver-cu12-11.6.3.83\n",
            "Successfully installed nvidia-cublas-cu12-12.4.5.8 nvidia-cuda-cupti-cu12-12.4.127 nvidia-cuda-nvrtc-cu12-12.4.127 nvidia-cuda-runtime-cu12-12.4.127 nvidia-cudnn-cu12-9.1.0.70 nvidia-cufft-cu12-11.2.1.3 nvidia-curand-cu12-10.3.5.147 nvidia-cusolver-cu12-11.6.1.9 nvidia-cusparse-cu12-12.3.1.170 nvidia-nvjitlink-cu12-12.4.127\n"
          ]
        }
      ]
    },
    {
      "cell_type": "code",
      "source": [
        "from transformers import pipeline\n",
        "\n",
        "# Load BART model for zero-shot classification\n",
        "classifier = pipeline(\"zero-shot-classification\", model=\"facebook/bart-large-mnli\")\n",
        "\n",
        "# User query\n",
        "query = \"What’s the best mutual fund for long-term growth?\"\n",
        "\n",
        "# Define categories\n",
        "labels = [\"stock_forecasting\", \"portfolio_optimization\"]\n",
        "\n",
        "# Perform classification\n",
        "result = classifier(query, candidate_labels=labels)\n",
        "print(result)\n"
      ],
      "metadata": {
        "colab": {
          "base_uri": "https://localhost:8080/",
          "height": 372,
          "referenced_widgets": [
            "44b6624964e74ca78f66f766272a8814",
            "a25800eea77f438eb271521901d467bb",
            "ddf5b1c691a547798cc8d3dcd1151cf8",
            "8acda8ce718c47b1896e615680864ee8",
            "95a9051a90d34be68ffb2b6538f3a45a",
            "074bada1b74e4d86836f92f610f410ae",
            "f88f3afb919a434fb28261eb69b16c3a",
            "09aaf00055fc40fd9be1960b4304b413",
            "861de638650e44b3b260c67a5b685c0b",
            "089bdcdc243e4fca8757da0cbec0bed1",
            "ef7a81e7516846989e9409f22f27dde2",
            "451e0ab95b5c42ed8ec10e4b8dd1c5e6",
            "ae94ca32ba324a78abb91ff9c3116f71",
            "9d07ca359bff49f2977291d036042231",
            "261dc579daa54f908cc10c146247bf90",
            "c5c6dbe8ab9d4187883728d8b4c751dd",
            "21882dc8eea84c449fe5197a9a88b713",
            "350175aa58e44041b61ccdacffd32fba",
            "c72ef7af7a734485a0e7d6f0c872ec6a",
            "0841044ee1fd48288c9daefa92b1cafe",
            "76122c62e6b04663b277dd65d17ebf02",
            "e8f43e267aef48b79ed0b74d2b954880",
            "296e81cba49047ee91e4e8d9d250479d",
            "4a14802db99c4d90986d1ea39ee7403c",
            "f5675b6cf36d46e4a185b046b48e283c",
            "e32f1fcb52ac4723a8da67c17df39526",
            "d24b71efaefd419980357dac5fd699bb",
            "40df22b2993d416998b11b1f0e40de9a",
            "0c4b0f709eb34c14a32f53d0f2d2a59b",
            "8e4aaa5d0b1c4163aecacd5b775469f9",
            "42382de3c87244cbadb7361d4bb550a0",
            "121f1bb8b6b0440ea5d82077ae5ea51c",
            "6dc0c240a9fa40029f0bd2485dd02467",
            "d583ed2b3bd0442ea9716b3708a8d8ea",
            "c96540185c074b6e82db795dcdcf2027",
            "1255b0915ec141258448671d69c29b68",
            "d7085f25fd1d4f07afe3ef06eaf641f2",
            "e5aece1465e14eec8ad9f83d1640c7f8",
            "3a78d49069c34688bd422da94ee1c8d6",
            "fe2df8256f9d4a7597718b6c19a64593",
            "1c77156675cc4e9f9cf1d3767c356859",
            "1c0b92f6084148acbdf57184c43042da",
            "4cc8a648b84f42a8ae2d831469b5639b",
            "022905bd6eae4fccaa25cab69e4c7483",
            "961380aac5324a818059ad99d51a746c",
            "5868cd2d0b8741d19041ab2fda6b76e1",
            "bf1685f306584b5bae544f06ac3280fa",
            "ec14a9a0318e441aa7dd7cf5835007c1",
            "25622ef2915444f198bbf22050861a62",
            "9f2da3003c2547208805d042547978a0",
            "b42c1368a6394923be228d6ba13743e0",
            "befe7f7147f4453086b2114543c66388",
            "aaf2e95b6bc1442d8684f48f754eaab1",
            "4819b42feb1f4b5cae494d727c9b512f",
            "bf8249a453934bf89d68e89467c7f027",
            "9eab5c8ef7ec44d399c29f1e4a1ced7a",
            "e0972bc39d2e4701a559fe8a91f4f770",
            "46788cf4bb2743c6b5eab7b2942ca760",
            "2e318c026b174e8cbfb122ac3c61e93a",
            "4f0adae8673449f69a73477ceadaa898",
            "2cfbf184266c4eaa9e4ad5d7983053c7",
            "2a1d05e0ceb14deb9d657e705bcf7027",
            "3340d2546ac1404cb9f74a0224341365",
            "168caaf2544a4f0081444fa9cbbd1544",
            "10ed1fa0e3af40be977da04c33cc92a6",
            "7750732817604a61a948061a71edf551"
          ]
        },
        "id": "uCClKgRHjAp7",
        "outputId": "468c201a-bbb8-4440-9c37-5ce3c0df60ad"
      },
      "execution_count": 1,
      "outputs": [
        {
          "output_type": "stream",
          "name": "stderr",
          "text": [
            "/usr/local/lib/python3.11/dist-packages/huggingface_hub/utils/_auth.py:94: UserWarning: \n",
            "The secret `HF_TOKEN` does not exist in your Colab secrets.\n",
            "To authenticate with the Hugging Face Hub, create a token in your settings tab (https://huggingface.co/settings/tokens), set it as secret in your Google Colab and restart your session.\n",
            "You will be able to reuse this secret in all of your notebooks.\n",
            "Please note that authentication is recommended but still optional to access public models or datasets.\n",
            "  warnings.warn(\n"
          ]
        },
        {
          "output_type": "display_data",
          "data": {
            "text/plain": [
              "config.json:   0%|          | 0.00/1.15k [00:00<?, ?B/s]"
            ],
            "application/vnd.jupyter.widget-view+json": {
              "version_major": 2,
              "version_minor": 0,
              "model_id": "44b6624964e74ca78f66f766272a8814"
            }
          },
          "metadata": {}
        },
        {
          "output_type": "display_data",
          "data": {
            "text/plain": [
              "model.safetensors:   0%|          | 0.00/1.63G [00:00<?, ?B/s]"
            ],
            "application/vnd.jupyter.widget-view+json": {
              "version_major": 2,
              "version_minor": 0,
              "model_id": "451e0ab95b5c42ed8ec10e4b8dd1c5e6"
            }
          },
          "metadata": {}
        },
        {
          "output_type": "display_data",
          "data": {
            "text/plain": [
              "tokenizer_config.json:   0%|          | 0.00/26.0 [00:00<?, ?B/s]"
            ],
            "application/vnd.jupyter.widget-view+json": {
              "version_major": 2,
              "version_minor": 0,
              "model_id": "296e81cba49047ee91e4e8d9d250479d"
            }
          },
          "metadata": {}
        },
        {
          "output_type": "display_data",
          "data": {
            "text/plain": [
              "vocab.json:   0%|          | 0.00/899k [00:00<?, ?B/s]"
            ],
            "application/vnd.jupyter.widget-view+json": {
              "version_major": 2,
              "version_minor": 0,
              "model_id": "d583ed2b3bd0442ea9716b3708a8d8ea"
            }
          },
          "metadata": {}
        },
        {
          "output_type": "display_data",
          "data": {
            "text/plain": [
              "merges.txt:   0%|          | 0.00/456k [00:00<?, ?B/s]"
            ],
            "application/vnd.jupyter.widget-view+json": {
              "version_major": 2,
              "version_minor": 0,
              "model_id": "961380aac5324a818059ad99d51a746c"
            }
          },
          "metadata": {}
        },
        {
          "output_type": "display_data",
          "data": {
            "text/plain": [
              "tokenizer.json:   0%|          | 0.00/1.36M [00:00<?, ?B/s]"
            ],
            "application/vnd.jupyter.widget-view+json": {
              "version_major": 2,
              "version_minor": 0,
              "model_id": "9eab5c8ef7ec44d399c29f1e4a1ced7a"
            }
          },
          "metadata": {}
        },
        {
          "output_type": "stream",
          "name": "stderr",
          "text": [
            "Device set to use cuda:0\n"
          ]
        },
        {
          "output_type": "stream",
          "name": "stdout",
          "text": [
            "{'sequence': 'What’s the best mutual fund for long-term growth?', 'labels': ['portfolio_optimization', 'stock_forecasting'], 'scores': [0.6459423303604126, 0.3540576696395874]}\n"
          ]
        }
      ]
    },
    {
      "cell_type": "markdown",
      "source": [
        "Classifies user query into categories like 'mutual_fund_advice', 'portfolio_optimization', 'stock_forecasting'."
      ],
      "metadata": {
        "id": "cf2D6s-flJLj"
      }
    },
    {
      "cell_type": "markdown",
      "source": [
        "### Step 5: Stock Price Forecasting (LSTM/Transformer)\n",
        "Step 5.1: Load Synthetic & Real Stock Data\n"
      ],
      "metadata": {
        "id": "QFqqrn0ppt2C"
      }
    },
    {
      "cell_type": "code",
      "source": [
        "import pandas as pd\n",
        "\n",
        "# Load the synthetic stock data\n",
        "synthetic_data = pd.read_csv(\"synthetic_stock_prices.csv\")\n",
        "\n",
        "# Define the start date for Day 1\n",
        "start_date = \"2024-01-01\"\n",
        "\n",
        "# Convert 'Day' to datetime format\n",
        "synthetic_data[\"Date\"] = pd.to_datetime(start_date) + pd.to_timedelta(synthetic_data[\"Day\"] - 1, unit=\"D\")\n",
        "\n",
        "# Drop the 'Day' column as it's no longer needed\n",
        "synthetic_data.drop(columns=[\"Day\"], inplace=True)\n",
        "\n",
        "# Set 'Date' as the index\n",
        "synthetic_data.set_index(\"Date\", inplace=True)\n",
        "\n",
        "# Display the first few rows to verify\n",
        "print(synthetic_data.head())\n"
      ],
      "metadata": {
        "colab": {
          "base_uri": "https://localhost:8080/"
        },
        "id": "Qu3LYGhgxIfT",
        "outputId": "15c5cdec-9c1a-41d5-8bbb-d370889d3601"
      },
      "execution_count": 5,
      "outputs": [
        {
          "output_type": "stream",
          "name": "stdout",
          "text": [
            "            Stock Price\n",
            "Date                   \n",
            "2024-01-01   100.000000\n",
            "2024-01-02   100.018411\n",
            "2024-01-03    98.662440\n",
            "2024-01-04    96.950662\n",
            "2024-01-05    98.022204\n"
          ]
        }
      ]
    },
    {
      "cell_type": "markdown",
      "source": [
        "step 5.2\n",
        "\n",
        "Model selection Process"
      ],
      "metadata": {
        "id": "YAPT1kWb3hKH"
      }
    },
    {
      "cell_type": "markdown",
      "source": [
        "LSTM"
      ],
      "metadata": {
        "id": "rL4QfTah3yyT"
      }
    },
    {
      "cell_type": "code",
      "source": [
        "# Install required libraries (if not already installed)\n",
        "!pip install tensorflow matplotlib pandas scikit-learn\n",
        "\n",
        "# Importing necessary libraries for data processing, visualization, and model training\n",
        "import numpy as np\n",
        "import pandas as pd\n",
        "import matplotlib.pyplot as plt\n",
        "from sklearn.preprocessing import MinMaxScaler\n",
        "from sklearn.metrics import mean_absolute_error, mean_squared_error\n",
        "import tensorflow as tf\n",
        "from tensorflow.keras.models import Sequential\n",
        "from tensorflow.keras.layers import LSTM, Dense, Dropout\n",
        "from tensorflow.keras.optimizers import Adam\n",
        "\n",
        "# Check if GPU is available for faster training (useful for deep learning models)\n",
        "print(\"Num GPUs Available: \", len(tf.config.experimental.list_physical_devices('GPU')))\n",
        "\n",
        "# Load synthetic stock prices (Make sure the file is uploaded to Colab beforehand)\n",
        "file_path = \"/content/synthetic_stock_prices.csv\"\n",
        "df = pd.read_csv(file_path)\n",
        "\n",
        "# Display first few rows to check if data is loaded correctly\n",
        "print(df.head())\n",
        "\n",
        "# Ensure \"Day\" column is of integer type for correct indexing\n",
        "df['Day'] = df['Day'].astype(int)\n",
        "\n",
        "# Extract stock price values (Modify column name if needed)\n",
        "stock_prices = df['Stock Price'].values.reshape(-1, 1)\n",
        "\n",
        "# Normalize stock prices between 0 and 1 for better LSTM performance\n",
        "scaler = MinMaxScaler(feature_range=(0, 1))\n",
        "scaled_prices = scaler.fit_transform(stock_prices)\n",
        "\n",
        "# Function to create sequences for LSTM (Last 60 days' data used to predict next day's price)\n",
        "def create_sequences(data, seq_length=60):\n",
        "    X, y = [], []\n",
        "    for i in range(len(data) - seq_length):\n",
        "        X.append(data[i:i+seq_length])  # 60-day input sequence\n",
        "        y.append(data[i+seq_length])  # Next day's stock price (target)\n",
        "    return np.array(X), np.array(y)\n",
        "\n",
        "# Prepare input-output data for training\n",
        "seq_length = 60\n",
        "X, y = create_sequences(scaled_prices, seq_length)\n",
        "\n",
        "# Split data into 80% training and 20% testing\n",
        "train_size = int(len(X) * 0.8)\n",
        "X_train, y_train = X[:train_size], y[:train_size]\n",
        "X_test, y_test = X[train_size:], y[train_size:]\n",
        "\n",
        "# Define LSTM model for stock price prediction\n",
        "model = Sequential([\n",
        "    LSTM(50, return_sequences=True, input_shape=(seq_length, 1)),  # First LSTM layer\n",
        "    Dropout(0.2),  # Prevents overfitting\n",
        "    LSTM(50, return_sequences=False),  # Second LSTM layer\n",
        "    Dropout(0.2),\n",
        "    Dense(25),  # Fully connected layer with 25 neurons\n",
        "    Dense(1)  # Output layer (predicting one stock price)\n",
        "])\n",
        "\n",
        "# Compile the model using Adam optimizer and Mean Squared Error (MSE) loss function\n",
        "model.compile(optimizer=Adam(learning_rate=0.001), loss=\"mse\")\n",
        "\n",
        "# Train the model for 20 epochs with batch size 16\n",
        "history = model.fit(X_train, y_train, epochs=20, batch_size=16, validation_data=(X_test, y_test), verbose=1)\n",
        "\n",
        "# Predict stock prices for test data\n",
        "predicted_prices = model.predict(X_test)\n",
        "\n",
        "# Convert normalized predictions back to original scale\n",
        "predicted_prices = scaler.inverse_transform(predicted_prices)\n",
        "actual_prices = scaler.inverse_transform(y_test.reshape(-1, 1))\n",
        "\n",
        "# Evaluate model performance using MAE and RMSE (lower values indicate better accuracy)\n",
        "mae = mean_absolute_error(actual_prices, predicted_prices)\n",
        "rmse = np.sqrt(mean_squared_error(actual_prices, predicted_prices))\n",
        "\n",
        "print(f\"MAE: {mae:.4f}, RMSE: {rmse:.4f}\")\n",
        "\n",
        "# Plot actual vs predicted stock prices\n",
        "plt.figure(figsize=(12, 6))\n",
        "plt.plot(df['Day'][-len(actual_prices):], actual_prices, label=\"Actual Prices\", color=\"blue\")\n",
        "plt.plot(df['Day'][-len(predicted_prices):], predicted_prices, label=\"Predicted Prices\", color=\"red\")\n",
        "plt.legend()\n",
        "plt.title(\"Stock Price Prediction using LSTM\")\n",
        "plt.xlabel(\"Day\")\n",
        "plt.ylabel(\"Stock Price\")\n",
        "plt.show()\n",
        "\n",
        "# Forecast stock prices for the next 30 days\n",
        "future_predictions = []\n",
        "input_seq = X_test[-1]  # Start from last available sequence in test data\n",
        "\n",
        "for _ in range(30):\n",
        "    pred = model.predict(input_seq.reshape(1, seq_length, 1))  # Predict next price\n",
        "    future_predictions.append(pred[0, 0])  # Store predicted price\n",
        "\n",
        "    # Update sequence by shifting and adding the new predicted value\n",
        "    input_seq = np.roll(input_seq, -1)\n",
        "    input_seq[-1] = pred[0, 0]\n",
        "\n",
        "# Convert predicted values back to original stock price scale\n",
        "future_predictions = scaler.inverse_transform(np.array(future_predictions).reshape(-1, 1))\n",
        "\n",
        "# Generate future days for plotting\n",
        "future_days = np.arange(df['Day'].iloc[-1] + 1, df['Day'].iloc[-1] + 31)\n",
        "\n",
        "# Plot forecasted stock prices for the next 30 days\n",
        "plt.figure(figsize=(12, 6))\n",
        "plt.plot(future_days, future_predictions, label=\"Future Predictions\", color=\"green\")\n",
        "plt.legend()\n",
        "plt.title(\"Future Stock Price Forecast (Next 30 Days)\")\n",
        "plt.xlabel(\"Day\")\n",
        "plt.ylabel(\"Stock Price\")\n",
        "plt.show()\n"
      ],
      "metadata": {
        "colab": {
          "base_uri": "https://localhost:8080/",
          "height": 1000
        },
        "id": "K-C55FJf2qdf",
        "outputId": "235f7990-13d0-41aa-e531-3216e8ef99cb"
      },
      "execution_count": 7,
      "outputs": [
        {
          "output_type": "stream",
          "name": "stdout",
          "text": [
            "Requirement already satisfied: tensorflow in /usr/local/lib/python3.11/dist-packages (2.15.0)\n",
            "Requirement already satisfied: matplotlib in /usr/local/lib/python3.11/dist-packages (3.10.0)\n",
            "Requirement already satisfied: pandas in /usr/local/lib/python3.11/dist-packages (2.2.2)\n",
            "Requirement already satisfied: scikit-learn in /usr/local/lib/python3.11/dist-packages (1.6.1)\n",
            "Requirement already satisfied: absl-py>=1.0.0 in /usr/local/lib/python3.11/dist-packages (from tensorflow) (1.4.0)\n",
            "Requirement already satisfied: astunparse>=1.6.0 in /usr/local/lib/python3.11/dist-packages (from tensorflow) (1.6.3)\n",
            "Requirement already satisfied: flatbuffers>=23.5.26 in /usr/local/lib/python3.11/dist-packages (from tensorflow) (25.2.10)\n",
            "Requirement already satisfied: gast!=0.5.0,!=0.5.1,!=0.5.2,>=0.2.1 in /usr/local/lib/python3.11/dist-packages (from tensorflow) (0.6.0)\n",
            "Requirement already satisfied: google-pasta>=0.1.1 in /usr/local/lib/python3.11/dist-packages (from tensorflow) (0.2.0)\n",
            "Requirement already satisfied: h5py>=2.9.0 in /usr/local/lib/python3.11/dist-packages (from tensorflow) (3.13.0)\n",
            "Requirement already satisfied: libclang>=13.0.0 in /usr/local/lib/python3.11/dist-packages (from tensorflow) (18.1.1)\n",
            "Requirement already satisfied: ml-dtypes~=0.2.0 in /usr/local/lib/python3.11/dist-packages (from tensorflow) (0.2.0)\n",
            "Requirement already satisfied: numpy<2.0.0,>=1.23.5 in /usr/local/lib/python3.11/dist-packages (from tensorflow) (1.26.4)\n",
            "Requirement already satisfied: opt-einsum>=2.3.2 in /usr/local/lib/python3.11/dist-packages (from tensorflow) (3.4.0)\n",
            "Requirement already satisfied: packaging in /usr/local/lib/python3.11/dist-packages (from tensorflow) (24.2)\n",
            "Requirement already satisfied: protobuf!=4.21.0,!=4.21.1,!=4.21.2,!=4.21.3,!=4.21.4,!=4.21.5,<5.0.0dev,>=3.20.3 in /usr/local/lib/python3.11/dist-packages (from tensorflow) (4.25.6)\n",
            "Requirement already satisfied: setuptools in /usr/local/lib/python3.11/dist-packages (from tensorflow) (75.1.0)\n",
            "Requirement already satisfied: six>=1.12.0 in /usr/local/lib/python3.11/dist-packages (from tensorflow) (1.17.0)\n",
            "Requirement already satisfied: termcolor>=1.1.0 in /usr/local/lib/python3.11/dist-packages (from tensorflow) (2.5.0)\n",
            "Requirement already satisfied: typing-extensions>=3.6.6 in /usr/local/lib/python3.11/dist-packages (from tensorflow) (4.12.2)\n",
            "Requirement already satisfied: wrapt<1.15,>=1.11.0 in /usr/local/lib/python3.11/dist-packages (from tensorflow) (1.14.1)\n",
            "Requirement already satisfied: tensorflow-io-gcs-filesystem>=0.23.1 in /usr/local/lib/python3.11/dist-packages (from tensorflow) (0.37.1)\n",
            "Requirement already satisfied: grpcio<2.0,>=1.24.3 in /usr/local/lib/python3.11/dist-packages (from tensorflow) (1.71.0)\n",
            "Requirement already satisfied: tensorboard<2.16,>=2.15 in /usr/local/lib/python3.11/dist-packages (from tensorflow) (2.15.2)\n",
            "Requirement already satisfied: tensorflow-estimator<2.16,>=2.15.0 in /usr/local/lib/python3.11/dist-packages (from tensorflow) (2.15.0)\n",
            "Requirement already satisfied: keras<2.16,>=2.15.0 in /usr/local/lib/python3.11/dist-packages (from tensorflow) (2.15.0)\n",
            "Requirement already satisfied: contourpy>=1.0.1 in /usr/local/lib/python3.11/dist-packages (from matplotlib) (1.3.1)\n",
            "Requirement already satisfied: cycler>=0.10 in /usr/local/lib/python3.11/dist-packages (from matplotlib) (0.12.1)\n",
            "Requirement already satisfied: fonttools>=4.22.0 in /usr/local/lib/python3.11/dist-packages (from matplotlib) (4.56.0)\n",
            "Requirement already satisfied: kiwisolver>=1.3.1 in /usr/local/lib/python3.11/dist-packages (from matplotlib) (1.4.8)\n",
            "Requirement already satisfied: pillow>=8 in /usr/local/lib/python3.11/dist-packages (from matplotlib) (11.1.0)\n",
            "Requirement already satisfied: pyparsing>=2.3.1 in /usr/local/lib/python3.11/dist-packages (from matplotlib) (3.2.1)\n",
            "Requirement already satisfied: python-dateutil>=2.7 in /usr/local/lib/python3.11/dist-packages (from matplotlib) (2.8.2)\n",
            "Requirement already satisfied: pytz>=2020.1 in /usr/local/lib/python3.11/dist-packages (from pandas) (2025.1)\n",
            "Requirement already satisfied: tzdata>=2022.7 in /usr/local/lib/python3.11/dist-packages (from pandas) (2025.1)\n",
            "Requirement already satisfied: scipy>=1.6.0 in /usr/local/lib/python3.11/dist-packages (from scikit-learn) (1.14.1)\n",
            "Requirement already satisfied: joblib>=1.2.0 in /usr/local/lib/python3.11/dist-packages (from scikit-learn) (1.4.2)\n",
            "Requirement already satisfied: threadpoolctl>=3.1.0 in /usr/local/lib/python3.11/dist-packages (from scikit-learn) (3.6.0)\n",
            "Requirement already satisfied: wheel<1.0,>=0.23.0 in /usr/local/lib/python3.11/dist-packages (from astunparse>=1.6.0->tensorflow) (0.45.1)\n",
            "Requirement already satisfied: google-auth<3,>=1.6.3 in /usr/local/lib/python3.11/dist-packages (from tensorboard<2.16,>=2.15->tensorflow) (2.38.0)\n",
            "Requirement already satisfied: google-auth-oauthlib<2,>=0.5 in /usr/local/lib/python3.11/dist-packages (from tensorboard<2.16,>=2.15->tensorflow) (1.2.1)\n",
            "Requirement already satisfied: markdown>=2.6.8 in /usr/local/lib/python3.11/dist-packages (from tensorboard<2.16,>=2.15->tensorflow) (3.7)\n",
            "Requirement already satisfied: requests<3,>=2.21.0 in /usr/local/lib/python3.11/dist-packages (from tensorboard<2.16,>=2.15->tensorflow) (2.32.3)\n",
            "Requirement already satisfied: tensorboard-data-server<0.8.0,>=0.7.0 in /usr/local/lib/python3.11/dist-packages (from tensorboard<2.16,>=2.15->tensorflow) (0.7.2)\n",
            "Requirement already satisfied: werkzeug>=1.0.1 in /usr/local/lib/python3.11/dist-packages (from tensorboard<2.16,>=2.15->tensorflow) (3.1.3)\n",
            "Requirement already satisfied: cachetools<6.0,>=2.0.0 in /usr/local/lib/python3.11/dist-packages (from google-auth<3,>=1.6.3->tensorboard<2.16,>=2.15->tensorflow) (5.5.2)\n",
            "Requirement already satisfied: pyasn1-modules>=0.2.1 in /usr/local/lib/python3.11/dist-packages (from google-auth<3,>=1.6.3->tensorboard<2.16,>=2.15->tensorflow) (0.4.1)\n",
            "Requirement already satisfied: rsa<5,>=3.1.4 in /usr/local/lib/python3.11/dist-packages (from google-auth<3,>=1.6.3->tensorboard<2.16,>=2.15->tensorflow) (4.9)\n",
            "Requirement already satisfied: requests-oauthlib>=0.7.0 in /usr/local/lib/python3.11/dist-packages (from google-auth-oauthlib<2,>=0.5->tensorboard<2.16,>=2.15->tensorflow) (2.0.0)\n",
            "Requirement already satisfied: charset-normalizer<4,>=2 in /usr/local/lib/python3.11/dist-packages (from requests<3,>=2.21.0->tensorboard<2.16,>=2.15->tensorflow) (3.4.1)\n",
            "Requirement already satisfied: idna<4,>=2.5 in /usr/local/lib/python3.11/dist-packages (from requests<3,>=2.21.0->tensorboard<2.16,>=2.15->tensorflow) (3.10)\n",
            "Requirement already satisfied: urllib3<3,>=1.21.1 in /usr/local/lib/python3.11/dist-packages (from requests<3,>=2.21.0->tensorboard<2.16,>=2.15->tensorflow) (2.3.0)\n",
            "Requirement already satisfied: certifi>=2017.4.17 in /usr/local/lib/python3.11/dist-packages (from requests<3,>=2.21.0->tensorboard<2.16,>=2.15->tensorflow) (2025.1.31)\n",
            "Requirement already satisfied: MarkupSafe>=2.1.1 in /usr/local/lib/python3.11/dist-packages (from werkzeug>=1.0.1->tensorboard<2.16,>=2.15->tensorflow) (3.0.2)\n",
            "Requirement already satisfied: pyasn1<0.7.0,>=0.4.6 in /usr/local/lib/python3.11/dist-packages (from pyasn1-modules>=0.2.1->google-auth<3,>=1.6.3->tensorboard<2.16,>=2.15->tensorflow) (0.6.1)\n",
            "Requirement already satisfied: oauthlib>=3.0.0 in /usr/local/lib/python3.11/dist-packages (from requests-oauthlib>=0.7.0->google-auth-oauthlib<2,>=0.5->tensorboard<2.16,>=2.15->tensorflow) (3.2.2)\n",
            "Num GPUs Available:  0\n",
            "   Day  Stock Price\n",
            "0    1   100.000000\n",
            "1    2   100.018411\n",
            "2    3    98.662440\n",
            "3    4    96.950662\n",
            "4    5    98.022204\n",
            "Epoch 1/20\n",
            "10/10 [==============================] - 3s 84ms/step - loss: 0.1342 - val_loss: 0.1027\n",
            "Epoch 2/20\n",
            "10/10 [==============================] - 1s 64ms/step - loss: 0.0265 - val_loss: 0.0188\n",
            "Epoch 3/20\n",
            "10/10 [==============================] - 1s 61ms/step - loss: 0.0194 - val_loss: 0.0072\n",
            "Epoch 4/20\n",
            "10/10 [==============================] - 1s 67ms/step - loss: 0.0151 - val_loss: 0.0088\n",
            "Epoch 5/20\n",
            "10/10 [==============================] - 1s 67ms/step - loss: 0.0122 - val_loss: 0.0078\n",
            "Epoch 6/20\n",
            "10/10 [==============================] - 0s 45ms/step - loss: 0.0102 - val_loss: 0.0065\n",
            "Epoch 7/20\n",
            "10/10 [==============================] - 0s 40ms/step - loss: 0.0108 - val_loss: 0.0079\n",
            "Epoch 8/20\n",
            "10/10 [==============================] - 0s 41ms/step - loss: 0.0111 - val_loss: 0.0059\n",
            "Epoch 9/20\n",
            "10/10 [==============================] - 0s 41ms/step - loss: 0.0097 - val_loss: 0.0056\n",
            "Epoch 10/20\n",
            "10/10 [==============================] - 0s 44ms/step - loss: 0.0106 - val_loss: 0.0053\n",
            "Epoch 11/20\n",
            "10/10 [==============================] - 0s 40ms/step - loss: 0.0085 - val_loss: 0.0057\n",
            "Epoch 12/20\n",
            "10/10 [==============================] - 0s 42ms/step - loss: 0.0092 - val_loss: 0.0055\n",
            "Epoch 13/20\n",
            "10/10 [==============================] - 0s 39ms/step - loss: 0.0077 - val_loss: 0.0048\n",
            "Epoch 14/20\n",
            "10/10 [==============================] - 0s 43ms/step - loss: 0.0084 - val_loss: 0.0058\n",
            "Epoch 15/20\n",
            "10/10 [==============================] - 0s 41ms/step - loss: 0.0085 - val_loss: 0.0051\n",
            "Epoch 16/20\n",
            "10/10 [==============================] - 0s 40ms/step - loss: 0.0081 - val_loss: 0.0053\n",
            "Epoch 17/20\n",
            "10/10 [==============================] - 0s 41ms/step - loss: 0.0085 - val_loss: 0.0044\n",
            "Epoch 18/20\n",
            "10/10 [==============================] - 0s 39ms/step - loss: 0.0066 - val_loss: 0.0040\n",
            "Epoch 19/20\n",
            "10/10 [==============================] - 0s 41ms/step - loss: 0.0063 - val_loss: 0.0046\n",
            "Epoch 20/20\n",
            "10/10 [==============================] - 0s 41ms/step - loss: 0.0084 - val_loss: 0.0038\n",
            "2/2 [==============================] - 0s 11ms/step\n",
            "MAE: 1.9344, RMSE: 2.4867\n"
          ]
        },
        {
          "output_type": "display_data",
          "data": {
            "text/plain": [
              "<Figure size 1200x600 with 1 Axes>"
            ],
            "image/png": "[encoded data removed]"
          },
          "metadata": {}
        },
        {
          "output_type": "stream",
          "name": "stdout",
          "text": [
            "1/1 [==============================] - 0s 27ms/step\n",
            "1/1 [==============================] - 0s 30ms/step\n",
            "1/1 [==============================] - 0s 22ms/step\n",
            "1/1 [==============================] - 0s 21ms/step\n",
            "1/1 [==============================] - 0s 19ms/step\n",
            "1/1 [==============================] - 0s 22ms/step\n",
            "1/1 [==============================] - 0s 25ms/step\n",
            "1/1 [==============================] - 0s 20ms/step\n",
            "1/1 [==============================] - 0s 19ms/step\n",
            "1/1 [==============================] - 0s 19ms/step\n",
            "1/1 [==============================] - 0s 19ms/step\n",
            "1/1 [==============================] - 0s 20ms/step\n",
            "1/1 [==============================] - 0s 19ms/step\n",
            "1/1 [==============================] - 0s 20ms/step\n",
            "1/1 [==============================] - 0s 19ms/step\n",
            "1/1 [==============================] - 0s 24ms/step\n",
            "1/1 [==============================] - 0s 21ms/step\n",
            "1/1 [==============================] - 0s 19ms/step\n",
            "1/1 [==============================] - 0s 22ms/step\n",
            "1/1 [==============================] - 0s 21ms/step\n",
            "1/1 [==============================] - 0s 19ms/step\n",
            "1/1 [==============================] - 0s 23ms/step\n",
            "1/1 [==============================] - 0s 20ms/step\n",
            "1/1 [==============================] - 0s 23ms/step\n",
            "1/1 [==============================] - 0s 23ms/step\n",
            "1/1 [==============================] - 0s 18ms/step\n",
            "1/1 [==============================] - 0s 18ms/step\n",
            "1/1 [==============================] - 0s 19ms/step\n",
            "1/1 [==============================] - 0s 21ms/step\n",
            "1/1 [==============================] - 0s 19ms/step\n"
          ]
        },
        {
          "output_type": "display_data",
          "data": {
            "text/plain": [
              "<Figure size 1200x600 with 1 Axes>"
            ],
            "image/png": "[encoded data removed]"
          },
          "metadata": {}
        }
      ]
    },
    {
      "cell_type": "markdown",
      "source": [
        "### Strengths of our Current LSTM Model:\n",
        "✔ Basic Forecasting Works – It captures general stock price movements.\n",
        "\n",
        "✔ Acceptable Loss Metrics – MAE = 1.934, RMSE = 2.4867, meaning it has some accuracy.\n",
        "\n",
        "✔ Time-Series Structure – LSTM is suitable for sequential data like stock prices."
      ],
      "metadata": {
        "id": "GwBfZFWj4ohn"
      }
    },
    {
      "cell_type": "markdown",
      "source": [
        "## Random Forest"
      ],
      "metadata": {
        "id": "jdC8QqUX6bap"
      }
    },
    {
      "cell_type": "code",
      "source": [
        "import pandas as pd\n",
        "import numpy as np\n",
        "from sklearn.ensemble import RandomForestRegressor\n",
        "from sklearn.model_selection import train_test_split\n",
        "from sklearn.preprocessing import MinMaxScaler\n",
        "from sklearn.metrics import mean_absolute_error, mean_squared_error\n",
        "\n",
        "# Load dataset\n",
        "df = pd.read_csv(\"synthetic_stock_prices.csv\")  # Replace with your file path\n",
        "df[\"Returns\"] = df[\"Stock Price\"].pct_change()  # Calculate daily returns\n",
        "df.dropna(inplace=True)\n",
        "\n",
        "# Prepare features & target\n",
        "X = df[[\"Returns\"]].iloc[:-1]  # Remove the last row to match y\n",
        "y = df[\"Stock Price\"].shift(-1).dropna()  # Align y with X\n",
        "\n",
        "# Split data\n",
        "X_train, X_test, y_train, y_test = train_test_split(X, y, test_size=0.2, shuffle=False)\n",
        "\n",
        "# Train Random Forest\n",
        "rf_model = RandomForestRegressor(n_estimators=100, random_state=42)\n",
        "rf_model.fit(X_train, y_train)\n",
        "\n",
        "# Predict\n",
        "y_pred = rf_model.predict(X_test)\n",
        "\n",
        "# Evaluate\n",
        "mae = mean_absolute_error(y_test, y_pred)\n",
        "rmse = np.sqrt(mean_squared_error(y_test, y_pred))\n",
        "print(f\"Random Forest - MAE: {mae:.4f}, RMSE: {rmse:.4f}\")\n"
      ],
      "metadata": {
        "colab": {
          "base_uri": "https://localhost:8080/"
        },
        "id": "ibYjSIVk4n3a",
        "outputId": "a6b86e5d-abf1-4a0e-991d-ca47eda2d471"
      },
      "execution_count": 8,
      "outputs": [
        {
          "output_type": "stream",
          "name": "stdout",
          "text": [
            "Random Forest - MAE: 9.6222, RMSE: 11.0940\n"
          ]
        }
      ]
    },
    {
      "cell_type": "markdown",
      "source": [
        "XGBoost"
      ],
      "metadata": {
        "id": "JAmZLuji6j89"
      }
    },
    {
      "cell_type": "code",
      "source": [
        "import xgboost as xgb\n",
        "\n",
        "# Train XGBoost model\n",
        "xgb_model = xgb.XGBRegressor(objective=\"reg:squarederror\", n_estimators=100, learning_rate=0.05)\n",
        "xgb_model.fit(X_train, y_train)\n",
        "\n",
        "# Predict\n",
        "y_pred_xgb = xgb_model.predict(X_test)\n",
        "\n",
        "# Evaluate\n",
        "mae_xgb = mean_absolute_error(y_test, y_pred_xgb)\n",
        "rmse_xgb = np.sqrt(mean_squared_error(y_test, y_pred_xgb))\n",
        "print(f\"XGBoost - MAE: {mae_xgb:.4f}, RMSE: {rmse_xgb:.4f}\")\n"
      ],
      "metadata": {
        "colab": {
          "base_uri": "https://localhost:8080/"
        },
        "id": "jLkpRHPA6JoG",
        "outputId": "a6063f9d-7451-4ac7-9016-70a1f681ee3e"
      },
      "execution_count": 9,
      "outputs": [
        {
          "output_type": "stream",
          "name": "stdout",
          "text": [
            "XGBoost - MAE: 9.1968, RMSE: 10.8044\n"
          ]
        }
      ]
    },
    {
      "cell_type": "markdown",
      "source": [
        "ARIMA"
      ],
      "metadata": {
        "id": "cRCPTKTz6o6r"
      }
    },
    {
      "cell_type": "code",
      "source": [
        "from statsmodels.tsa.arima.model import ARIMA\n",
        "\n",
        "# Fit ARIMA model (p=2, d=1, q=2 - tune these hyperparameters)\n",
        "arima_model = ARIMA(df[\"Stock Price\"], order=(2,1,2))\n",
        "arima_result = arima_model.fit()\n",
        "\n",
        "# Forecast\n",
        "forecast_arima = arima_result.forecast(steps=len(X_test))\n",
        "\n",
        "# Evaluate\n",
        "mae_arima = mean_absolute_error(y_test, forecast_arima)\n",
        "rmse_arima = np.sqrt(mean_squared_error(y_test, forecast_arima))\n",
        "print(f\"ARIMA - MAE: {mae_arima:.4f}, RMSE: {rmse_arima:.4f}\")\n"
      ],
      "metadata": {
        "colab": {
          "base_uri": "https://localhost:8080/"
        },
        "id": "60-8pFUN6Mvi",
        "outputId": "a54780b0-c31a-4128-ffba-a2316e89e8c2"
      },
      "execution_count": 10,
      "outputs": [
        {
          "output_type": "stream",
          "name": "stderr",
          "text": [
            "/usr/local/lib/python3.11/dist-packages/statsmodels/tsa/base/tsa_model.py:473: ValueWarning: An unsupported index was provided. As a result, forecasts cannot be generated. To use the model for forecasting, use one of the supported classes of index.\n",
            "  self._init_dates(dates, freq)\n",
            "/usr/local/lib/python3.11/dist-packages/statsmodels/tsa/base/tsa_model.py:473: ValueWarning: An unsupported index was provided. As a result, forecasts cannot be generated. To use the model for forecasting, use one of the supported classes of index.\n",
            "  self._init_dates(dates, freq)\n",
            "/usr/local/lib/python3.11/dist-packages/statsmodels/tsa/base/tsa_model.py:473: ValueWarning: An unsupported index was provided. As a result, forecasts cannot be generated. To use the model for forecasting, use one of the supported classes of index.\n",
            "  self._init_dates(dates, freq)\n"
          ]
        },
        {
          "output_type": "stream",
          "name": "stdout",
          "text": [
            "ARIMA - MAE: 9.2823, RMSE: 10.0209\n"
          ]
        },
        {
          "output_type": "stream",
          "name": "stderr",
          "text": [
            "/usr/local/lib/python3.11/dist-packages/statsmodels/base/model.py:607: ConvergenceWarning: Maximum Likelihood optimization failed to converge. Check mle_retvals\n",
            "  warnings.warn(\"Maximum Likelihood optimization failed to \"\n",
            "/usr/local/lib/python3.11/dist-packages/statsmodels/tsa/base/tsa_model.py:837: ValueWarning: No supported index is available. Prediction results will be given with an integer index beginning at `start`.\n",
            "  return get_prediction_index(\n",
            "/usr/local/lib/python3.11/dist-packages/statsmodels/tsa/base/tsa_model.py:837: FutureWarning: No supported index is available. In the next version, calling this method in a model without a supported index will result in an exception.\n",
            "  return get_prediction_index(\n"
          ]
        }
      ]
    },
    {
      "cell_type": "markdown",
      "source": [
        "SARIMA"
      ],
      "metadata": {
        "id": "xs0zoc3g7But"
      }
    },
    {
      "cell_type": "code",
      "source": [
        "from statsmodels.tsa.statespace.sarimax import SARIMAX\n",
        "\n",
        "# Fit SARIMA model (p=2, d=1, q=2, seasonal order=(1,1,1,12) - adjust for seasonality)\n",
        "sarima_model = SARIMAX(df[\"Stock Price\"], order=(2,1,2), seasonal_order=(1,1,1,12))\n",
        "sarima_result = sarima_model.fit()\n",
        "\n",
        "# Forecast\n",
        "forecast_sarima = sarima_result.forecast(steps=len(X_test))\n",
        "\n",
        "# Evaluate\n",
        "mae_sarima = mean_absolute_error(y_test, forecast_sarima)\n",
        "rmse_sarima = np.sqrt(mean_squared_error(y_test, forecast_sarima))\n",
        "print(f\"SARIMA - MAE: {mae_sarima:.4f}, RMSE: {rmse_sarima:.4f}\")\n"
      ],
      "metadata": {
        "colab": {
          "base_uri": "https://localhost:8080/"
        },
        "id": "w_EnkRir6Q6e",
        "outputId": "17c36f6e-ff2f-4814-d68c-a0c2dfee4403"
      },
      "execution_count": 11,
      "outputs": [
        {
          "output_type": "stream",
          "name": "stderr",
          "text": [
            "/usr/local/lib/python3.11/dist-packages/statsmodels/tsa/base/tsa_model.py:473: ValueWarning: An unsupported index was provided. As a result, forecasts cannot be generated. To use the model for forecasting, use one of the supported classes of index.\n",
            "  self._init_dates(dates, freq)\n",
            "/usr/local/lib/python3.11/dist-packages/statsmodels/tsa/base/tsa_model.py:473: ValueWarning: An unsupported index was provided. As a result, forecasts cannot be generated. To use the model for forecasting, use one of the supported classes of index.\n",
            "  self._init_dates(dates, freq)\n",
            "/usr/local/lib/python3.11/dist-packages/statsmodels/tsa/statespace/sarimax.py:966: UserWarning: Non-stationary starting autoregressive parameters found. Using zeros as starting parameters.\n",
            "  warn('Non-stationary starting autoregressive parameters'\n",
            "/usr/local/lib/python3.11/dist-packages/statsmodels/tsa/statespace/sarimax.py:978: UserWarning: Non-invertible starting MA parameters found. Using zeros as starting parameters.\n",
            "  warn('Non-invertible starting MA parameters found.'\n"
          ]
        },
        {
          "output_type": "stream",
          "name": "stdout",
          "text": [
            "SARIMA - MAE: 13.0393, RMSE: 13.4444\n"
          ]
        },
        {
          "output_type": "stream",
          "name": "stderr",
          "text": [
            "/usr/local/lib/python3.11/dist-packages/statsmodels/tsa/base/tsa_model.py:837: ValueWarning: No supported index is available. Prediction results will be given with an integer index beginning at `start`.\n",
            "  return get_prediction_index(\n",
            "/usr/local/lib/python3.11/dist-packages/statsmodels/tsa/base/tsa_model.py:837: FutureWarning: No supported index is available. In the next version, calling this method in a model without a supported index will result in an exception.\n",
            "  return get_prediction_index(\n"
          ]
        }
      ]
    },
    {
      "cell_type": "markdown",
      "source": [
        "## Model selection"
      ],
      "metadata": {
        "id": "N63OJWwL7JM1"
      }
    },
    {
      "cell_type": "code",
      "source": [
        "import matplotlib.pyplot as plt\n",
        "import numpy as np\n",
        "\n",
        "# Model names and scores\n",
        "models = [\"LSTM\", \"ARIMA\", \"SARIMA\", \"Random Forest\", \"XGBoost\"]\n",
        "mae_scores = [1.9344, 9.2823, 13.0393, 9.622, 9.1968]\n",
        "rmse_scores = [2.4867, 10.0209, 13.444, 11.0940, 10.8044]\n",
        "\n",
        "x = np.arange(len(models))  # X-axis positions\n",
        "\n",
        "# Plot\n",
        "plt.figure(figsize=(8, 5))\n",
        "plt.bar(x - 0.2, mae_scores, width=0.4, label=\"MAE\", color=\"blue\")\n",
        "plt.bar(x + 0.2, rmse_scores, width=0.4, label=\"RMSE\", color=\"red\")\n",
        "\n",
        "plt.xticks(x, models)\n",
        "plt.xlabel(\"Model\")\n",
        "plt.ylabel(\"Error Value\")\n",
        "plt.title(\"Model Performance Comparison\")\n",
        "plt.legend()\n",
        "plt.show()\n"
      ],
      "metadata": {
        "colab": {
          "base_uri": "https://localhost:8080/",
          "height": 487
        },
        "id": "uUA_W2RU7EFe",
        "outputId": "e6f5c7cd-4fbc-466c-cc53-206868d412e4"
      },
      "execution_count": 12,
      "outputs": [
        {
          "output_type": "display_data",
          "data": {
            "text/plain": [
              "<Figure size 800x500 with 1 Axes>"
            ],
            "image/png": "[encoded data removed]"
          },
          "metadata": {}
        }
      ]
    },
    {
      "cell_type": "markdown",
      "source": [
        "🔹 Best Model Selection\n",
        "\n",
        "From both the MAE and RMSE values, LSTM performs the best, as it has the lowest error rates."
      ],
      "metadata": {
        "id": "YlOSbBx_7N8v"
      }
    },
    {
      "cell_type": "markdown",
      "source": [
        "### Train LSTM for Stock Price Forecasting\n",
        "\n",
        "Use historical stock prices (from synthetic_stock_prices.csv).\n",
        "\n",
        "Train the LSTM model on past data to forecast future prices.\n",
        "\n",
        "Visualize actual vs predicted stock prices.\n",
        "\n"
      ],
      "metadata": {
        "id": "KGLQxObO8G9-"
      }
    },
    {
      "cell_type": "code",
      "source": [
        "import numpy as np\n",
        "import pandas as pd\n",
        "import matplotlib.pyplot as plt\n",
        "import tensorflow as tf\n",
        "from tensorflow.keras.models import Sequential\n",
        "from tensorflow.keras.layers import LSTM, Dense, Dropout\n",
        "from sklearn.preprocessing import MinMaxScaler\n",
        "\n",
        "# Load dataset\n",
        "df = pd.read_csv(\"synthetic_stock_prices.csv\")\n",
        "\n",
        "# Data Preprocessing\n",
        "scaler = MinMaxScaler(feature_range=(0, 1))\n",
        "df['Stock Price'] = scaler.fit_transform(df[['Stock Price']])\n",
        "\n",
        "# Create sequences for LSTM\n",
        "def create_sequences(data, seq_length):\n",
        "    sequences, targets = [], []\n",
        "    for i in range(len(data) - seq_length):\n",
        "        sequences.append(data[i:i+seq_length])\n",
        "        targets.append(data[i+seq_length])\n",
        "    return np.array(sequences), np.array(targets)\n",
        "\n",
        "seq_length = 10\n",
        "X, y = create_sequences(df['Stock Price'].values, seq_length)\n",
        "\n",
        "# Train-test split\n",
        "train_size = int(len(X) * 0.8)\n",
        "X_train, X_test = X[:train_size], X[train_size:]\n",
        "y_train, y_test = y[:train_size], y[train_size:]\n",
        "\n",
        "# Define LSTM model\n",
        "model = Sequential([\n",
        "    LSTM(50, return_sequences=True, input_shape=(seq_length, 1)),\n",
        "    Dropout(0.2),\n",
        "    LSTM(50, return_sequences=False),\n",
        "    Dropout(0.2),\n",
        "    Dense(25),\n",
        "    Dense(1)\n",
        "])\n",
        "\n",
        "model.compile(optimizer='adam', loss='mse')\n",
        "\n",
        "# Train the model\n",
        "history = model.fit(X_train, y_train, epochs=20, batch_size=16, validation_data=(X_test, y_test))\n",
        "\n",
        "# Forecast future stock prices\n",
        "predictions = model.predict(X_test)\n",
        "predictions = scaler.inverse_transform(predictions.reshape(-1, 1))\n",
        "y_test_actual = scaler.inverse_transform(y_test.reshape(-1, 1))\n",
        "\n",
        "# Visualization\n",
        "plt.figure(figsize=(10, 5))\n",
        "plt.plot(y_test_actual, label=\"Actual Price\", color='blue')\n",
        "plt.plot(predictions, label=\"Predicted Price\", color='red')\n",
        "plt.xlabel(\"Days\")\n",
        "plt.ylabel(\"Stock Price\")\n",
        "plt.legend()\n",
        "plt.title(\"Stock Price Prediction using LSTM\")\n",
        "plt.show()\n"
      ],
      "metadata": {
        "colab": {
          "base_uri": "https://localhost:8080/",
          "height": 1000
        },
        "id": "VJ_2Ub8N7a1v",
        "outputId": "b5b10ce6-f13c-48b7-d085-0190468aac4f"
      },
      "execution_count": 13,
      "outputs": [
        {
          "output_type": "stream",
          "name": "stdout",
          "text": [
            "Epoch 1/20\n",
            "13/13 [==============================] - 3s 38ms/step - loss: 0.0755 - val_loss: 0.0153\n",
            "Epoch 2/20\n",
            "13/13 [==============================] - 0s 11ms/step - loss: 0.0160 - val_loss: 0.0074\n",
            "Epoch 3/20\n",
            "13/13 [==============================] - 0s 11ms/step - loss: 0.0083 - val_loss: 0.0085\n",
            "Epoch 4/20\n",
            "13/13 [==============================] - 0s 11ms/step - loss: 0.0078 - val_loss: 0.0087\n",
            "Epoch 5/20\n",
            "13/13 [==============================] - 0s 12ms/step - loss: 0.0067 - val_loss: 0.0080\n",
            "Epoch 6/20\n",
            "13/13 [==============================] - 0s 12ms/step - loss: 0.0098 - val_loss: 0.0156\n",
            "Epoch 7/20\n",
            "13/13 [==============================] - 0s 10ms/step - loss: 0.0065 - val_loss: 0.0079\n",
            "Epoch 8/20\n",
            "13/13 [==============================] - 0s 10ms/step - loss: 0.0066 - val_loss: 0.0131\n",
            "Epoch 9/20\n",
            "13/13 [==============================] - 0s 11ms/step - loss: 0.0065 - val_loss: 0.0081\n",
            "Epoch 10/20\n",
            "13/13 [==============================] - 0s 12ms/step - loss: 0.0110 - val_loss: 0.0179\n",
            "Epoch 11/20\n",
            "13/13 [==============================] - 0s 11ms/step - loss: 0.0076 - val_loss: 0.0074\n",
            "Epoch 12/20\n",
            "13/13 [==============================] - 0s 11ms/step - loss: 0.0064 - val_loss: 0.0074\n",
            "Epoch 13/20\n",
            "13/13 [==============================] - 0s 11ms/step - loss: 0.0055 - val_loss: 0.0084\n",
            "Epoch 14/20\n",
            "13/13 [==============================] - 0s 11ms/step - loss: 0.0053 - val_loss: 0.0105\n",
            "Epoch 15/20\n",
            "13/13 [==============================] - 0s 11ms/step - loss: 0.0066 - val_loss: 0.0078\n",
            "Epoch 16/20\n",
            "13/13 [==============================] - 0s 12ms/step - loss: 0.0052 - val_loss: 0.0069\n",
            "Epoch 17/20\n",
            "13/13 [==============================] - 0s 10ms/step - loss: 0.0062 - val_loss: 0.0092\n",
            "Epoch 18/20\n",
            "13/13 [==============================] - 0s 11ms/step - loss: 0.0059 - val_loss: 0.0073\n",
            "Epoch 19/20\n",
            "13/13 [==============================] - 0s 12ms/step - loss: 0.0052 - val_loss: 0.0101\n",
            "Epoch 20/20\n",
            "13/13 [==============================] - 0s 14ms/step - loss: 0.0054 - val_loss: 0.0070\n",
            "2/2 [==============================] - 0s 7ms/step\n"
          ]
        },
        {
          "output_type": "display_data",
          "data": {
            "text/plain": [
              "<Figure size 1000x500 with 1 Axes>"
            ],
            "image/png": "[encoded data removed]"
          },
          "metadata": {}
        }
      ]
    },
    {
      "cell_type": "code",
      "source": [
        "from google.colab import drive\n",
        "drive.mount('/content/drive')\n"
      ],
      "metadata": {
        "colab": {
          "base_uri": "https://localhost:8080/"
        },
        "id": "U1ql2sB5eWZG",
        "outputId": "1bc5c977-447a-4c87-8dd0-1185f1a51520"
      },
      "execution_count": 24,
      "outputs": [
        {
          "output_type": "stream",
          "name": "stdout",
          "text": [
            "Mounted at /content/drive\n"
          ]
        }
      ]
    },
    {
      "cell_type": "markdown",
      "source": [
        "### Step 6 portfolio optimization\n",
        "\n",
        "This code implements the Markowitz Modern Portfolio Theory (MPT) to find the optimal portfolio allocation for mutual funds using Monte Carlo simulation.\n",
        "\n",
        "* Loads mutual fund NAV data.\n",
        "\n",
        "* Computes daily returns and their covariance.\n",
        "\n",
        "* Simulates 10,000 random portfolios with different weight combinations.\n",
        "\n",
        "* Finds the optimal portfolio using the Sharpe Ratio.\n",
        "\n",
        "* Plots the Efficient Frontier.\n",
        "\n",
        "* Prints the best allocation strategy.\n"
      ],
      "metadata": {
        "id": "ycvaEsmh4BdD"
      }
    },
    {
      "cell_type": "code",
      "source": [
        "import numpy as np\n",
        "import pandas as pd\n",
        "import matplotlib.pyplot as plt\n",
        "\n",
        "# Load the synthetic mutual fund NAVs dataset\n",
        "mutual_funds = pd.read_csv('/content/synthetic_mutual_fund_nav.csv')\n",
        "\n",
        "# Load the user risk profile data (not directly used here, but useful for future customization)\n",
        "user_profiles = pd.read_csv('/content/user_risk_profiles.csv')\n",
        "\n",
        "# Calculate daily log returns for each mutual fund\n",
        "returns = mutual_funds.pct_change().dropna()  # Percentage change (daily returns), drop first NaN row\n",
        "\n",
        "# Compute the average returns of each fund and the covariance matrix of returns\n",
        "mean_returns = returns.mean()  # Average return of each fund\n",
        "cov_matrix = returns.cov()  # Covariance matrix (risk relationships between funds)\n",
        "\n",
        "# Define the number of portfolio simulations\n",
        "num_portfolios = 10000  # Simulating 10,000 portfolios to find the best one\n",
        "\n",
        "# Lists to store portfolio metrics\n",
        "weights_record = []  # Store portfolio weights\n",
        "returns_record = []  # Store expected returns of each portfolio\n",
        "risks_record = []  # Store portfolio risks (standard deviation)\n",
        "sharpe_ratios = []  # Store Sharpe ratios (risk-adjusted returns)\n",
        "\n",
        "# Monte Carlo Simulation for Portfolio Optimization\n",
        "for _ in range(num_portfolios):\n",
        "    # Generate random weights for the funds (each weight represents the proportion of investment)\n",
        "    weights = np.random.random(len(mutual_funds.columns))\n",
        "    weights /= np.sum(weights)  # Ensure weights sum to 1 (full investment)\n",
        "\n",
        "    # Calculate the expected return of the portfolio\n",
        "    portfolio_return = np.dot(weights, mean_returns)\n",
        "\n",
        "    # Calculate the risk (volatility) of the portfolio\n",
        "    portfolio_risk = np.sqrt(np.dot(weights.T, np.dot(cov_matrix, weights)))\n",
        "\n",
        "    # Calculate the Sharpe Ratio (higher is better, as it means more return per unit risk)\n",
        "    sharpe_ratio = portfolio_return / portfolio_risk\n",
        "\n",
        "    # Store the computed values\n",
        "    weights_record.append(weights)\n",
        "    returns_record.append(portfolio_return)\n",
        "    risks_record.append(portfolio_risk)\n",
        "    sharpe_ratios.append(sharpe_ratio)\n",
        "\n",
        "# Convert the results into a DataFrame for easy analysis\n",
        "portfolio_df = pd.DataFrame({\n",
        "    'Return': returns_record,\n",
        "    'Risk': risks_record,\n",
        "    'Sharpe Ratio': sharpe_ratios\n",
        "})\n",
        "\n",
        "# Find the portfolio with the **highest Sharpe Ratio** (optimal risk-return tradeoff)\n",
        "optimal_idx = np.argmax(portfolio_df['Sharpe Ratio'])\n",
        "optimal_portfolio = weights_record[optimal_idx]  # Get weights of the best portfolio\n",
        "\n",
        "# Plot the Efficient Frontier (Risk vs. Return for all simulated portfolios)\n",
        "plt.figure(figsize=(10, 6))\n",
        "plt.scatter(portfolio_df['Risk'], portfolio_df['Return'], c=portfolio_df['Sharpe Ratio'], cmap='viridis', alpha=0.7)\n",
        "plt.colorbar(label='Sharpe Ratio')  # Color bar indicates Sharpe Ratio\n",
        "plt.xlabel('Risk (Standard Deviation)')  # X-axis: Portfolio Risk\n",
        "plt.ylabel('Expected Return')  # Y-axis: Portfolio Return\n",
        "plt.title('Efficient Frontier - Markowitz MPT')  # Efficient Frontier Visualization\n",
        "\n",
        "# Highlight the **Optimal Portfolio** (Max Sharpe Ratio) in red\n",
        "plt.scatter(portfolio_df.loc[optimal_idx, 'Risk'], portfolio_df.loc[optimal_idx, 'Return'], color='red', marker='*', s=300, label='Optimal Portfolio')\n",
        "plt.legend()\n",
        "plt.show()\n",
        "\n",
        "# Print the recommended allocation based on the optimal portfolio\n",
        "recommended_portfolio = pd.DataFrame({\n",
        "    'Fund': mutual_funds.columns,  # Fund names\n",
        "    'Allocation (%)': optimal_portfolio * 100  # Convert weight fractions to percentages\n",
        "})\n",
        "\n",
        "print(\"Recommended Portfolio Allocation:\")\n",
        "print(recommended_portfolio)\n"
      ],
      "metadata": {
        "colab": {
          "base_uri": "https://localhost:8080/",
          "height": 635
        },
        "id": "q9JBvFPQ9ElA",
        "outputId": "90193a3c-5064-4b41-f778-f7b4cd494da8"
      },
      "execution_count": 14,
      "outputs": [
        {
          "output_type": "display_data",
          "data": {
            "text/plain": [
              "<Figure size 1000x600 with 2 Axes>"
            ],
            "image/png": "[encoded data removed]"
          },
          "metadata": {}
        },
        {
          "output_type": "stream",
          "name": "stdout",
          "text": [
            "Recommended Portfolio Allocation:\n",
            "              Fund  Allocation (%)\n",
            "0              Day       18.414486\n",
            "1  Mutual Fund NAV       81.585514\n"
          ]
        }
      ]
    },
    {
      "cell_type": "markdown",
      "source": [
        "The synthetic dataset lacked real-world trends.\n",
        "\n",
        "yfinance provides real historical NAVs for better accuracy.\n",
        "\n"
      ],
      "metadata": {
        "id": "jGrlxcIx5TaI"
      }
    },
    {
      "cell_type": "markdown",
      "source": [
        "### Step 6.1 Portfolio Optimization with Yfinance data\n",
        "\n",
        "Modern Portfolio Theory (MPT) using real stock data from Yahoo Finance (yfinance) to find the optimal asset allocation."
      ],
      "metadata": {
        "id": "ZODjKA6Q5ejg"
      }
    },
    {
      "cell_type": "code",
      "source": [
        "import numpy as np\n",
        "import pandas as pd\n",
        "import matplotlib.pyplot as plt\n",
        "import yfinance as yf\n",
        "\n",
        "# 🔹 Download Data\n",
        "tickers = ['AAPL', 'MSFT', 'GOOGL', 'AMZN', 'TSLA']\n",
        "stock_data = yf.download(tickers, start=\"2023-01-01\", end=\"2024-01-01\")\n",
        "\n",
        "# 🔹 Extract 'Close' prices from the MultiIndex DataFrame\n",
        "stock_data = stock_data.xs('Close', level=0, axis=1)\n",
        "\n",
        "# 🔹 Compute Returns\n",
        "returns = stock_data.pct_change().dropna()\n",
        "\n",
        "print(\"Sample Returns Data:\\n\", returns.head())\n"
      ],
      "metadata": {
        "colab": {
          "base_uri": "https://localhost:8080/"
        },
        "id": "BpoIY2_hYwRy",
        "outputId": "6b40152c-993a-459b-95d4-1fd069adcc63"
      },
      "execution_count": 19,
      "outputs": [
        {
          "output_type": "stream",
          "name": "stderr",
          "text": [
            "[*********************100%***********************]  5 of 5 completed"
          ]
        },
        {
          "output_type": "stream",
          "name": "stdout",
          "text": [
            "Sample Returns Data:\n",
            " Ticker          AAPL      AMZN     GOOGL      MSFT      TSLA\n",
            "Date                                                        \n",
            "2023-01-04  0.010314 -0.007924 -0.011670 -0.043743  0.051249\n",
            "2023-01-05 -0.010605 -0.023726 -0.021344 -0.029638 -0.029039\n",
            "2023-01-06  0.036794  0.035611  0.013225  0.011785  0.024651\n",
            "2023-01-09  0.004089  0.014870  0.007786  0.009736  0.059349\n",
            "2023-01-10  0.004456  0.028732  0.004544  0.007617 -0.007681\n"
          ]
        },
        {
          "output_type": "stream",
          "name": "stderr",
          "text": [
            "\n"
          ]
        }
      ]
    },
    {
      "cell_type": "markdown",
      "source": [
        "* Uses Yahoo Finance (yfinance) for real stock data.\n",
        "* Generates 10,000+ portfolios with random allocations.\n",
        "* Finds the optimal portfolio using the Sharpe Ratio.\n",
        "* Plots the Efficient Frontier to visualize risk-return tradeoffs."
      ],
      "metadata": {
        "id": "-LoqORVI6Qhb"
      }
    },
    {
      "cell_type": "code",
      "source": [
        "import numpy as np\n",
        "import pandas as pd\n",
        "import matplotlib.pyplot as plt\n",
        "import yfinance as yf\n",
        "\n",
        "# 🔹 Download Data\n",
        "tickers = ['AAPL', 'MSFT', 'GOOGL', 'AMZN', 'TSLA']\n",
        "stock_data = yf.download(tickers, start=\"2023-01-01\", end=\"2024-01-01\")\n",
        "\n",
        "# 🔹 Extract 'Close' prices from the MultiIndex DataFrame\n",
        "stock_data = stock_data.xs('Close', level=0, axis=1)\n",
        "\n",
        "# 🔹 Compute Returns\n",
        "returns = stock_data.pct_change().dropna()\n",
        "\n",
        "# 🔹 Calculate Mean Returns & Covariance\n",
        "mean_returns = returns.mean()\n",
        "cov_matrix = returns.cov()\n",
        "\n",
        "# 🔹 Simulate Portfolios\n",
        "num_portfolios = 10000\n",
        "weights_record = []\n",
        "returns_record = []\n",
        "risks_record = []\n",
        "sharpe_ratios = []\n",
        "\n",
        "risk_free_rate = 0.02  # Assume 2% risk-free rate\n",
        "max_allocation = 0.4   # 🔹 Max 40% allocation per stock\n",
        "\n",
        "for _ in range(num_portfolios):\n",
        "    weights = np.random.random(len(tickers))\n",
        "    weights /= np.sum(weights)  # Normalize to sum 1\n",
        "\n",
        "    # 🔹 Apply Max Allocation Constraint (e.g., ≤ 40% per stock)\n",
        "    if np.any(weights > max_allocation):\n",
        "        continue  # Skip this portfolio if any stock exceeds max allocation\n",
        "\n",
        "    portfolio_return = np.dot(weights, mean_returns)  # Expected return\n",
        "    portfolio_risk = np.sqrt(np.dot(weights.T, np.dot(cov_matrix, weights)))  # Std dev\n",
        "    sharpe_ratio = (portfolio_return - risk_free_rate) / portfolio_risk  # Sharpe Ratio\n",
        "\n",
        "    weights_record.append(weights)\n",
        "    returns_record.append(portfolio_return)\n",
        "    risks_record.append(portfolio_risk)\n",
        "    sharpe_ratios.append(sharpe_ratio)\n",
        "\n",
        "# 🔹 Convert to DataFrame\n",
        "portfolio_df = pd.DataFrame({\n",
        "    'Return': returns_record,\n",
        "    'Risk': risks_record,\n",
        "    'Sharpe Ratio': sharpe_ratios\n",
        "})\n",
        "\n",
        "# 🔹 Find Optimal Portfolio (Max Sharpe Ratio)\n",
        "optimal_idx = np.argmax(portfolio_df['Sharpe Ratio'])\n",
        "optimal_portfolio = weights_record[optimal_idx]\n",
        "\n",
        "# 🔹 Plot the Efficient Frontier\n",
        "plt.figure(figsize=(10, 6))\n",
        "plt.scatter(portfolio_df['Risk'], portfolio_df['Return'], c=portfolio_df['Sharpe Ratio'], cmap='viridis', alpha=0.7)\n",
        "plt.colorbar(label='Sharpe Ratio')\n",
        "plt.xlabel('Risk (Standard Deviation)')\n",
        "plt.ylabel('Expected Return')\n",
        "plt.title('Efficient Frontier - Markowitz MPT')\n",
        "\n",
        "# Highlight Optimal Portfolio\n",
        "plt.scatter(portfolio_df.loc[optimal_idx, 'Risk'], portfolio_df.loc[optimal_idx, 'Return'], color='red', marker='*', s=300, label='Optimal Portfolio')\n",
        "plt.legend()\n",
        "plt.show()\n",
        "\n",
        "# 🔹 Print Recommended Portfolio Allocation\n",
        "recommended_portfolio = pd.DataFrame({\n",
        "    'Stock': tickers,\n",
        "    'Allocation (%)': optimal_portfolio * 100\n",
        "})\n",
        "\n",
        "print(\"Recommended Portfolio Allocation:\")\n",
        "print(recommended_portfolio)\n",
        "print(\"Total Allocation:\", recommended_portfolio['Allocation (%)'].sum())"
      ],
      "metadata": {
        "colab": {
          "base_uri": "https://localhost:8080/",
          "height": 725
        },
        "id": "jFAS2XS6ZdLf",
        "outputId": "2f92234a-c05b-488e-8384-7f84783e9c67"
      },
      "execution_count": 22,
      "outputs": [
        {
          "output_type": "stream",
          "name": "stderr",
          "text": [
            "[*********************100%***********************]  5 of 5 completed\n"
          ]
        },
        {
          "output_type": "display_data",
          "data": {
            "text/plain": [
              "<Figure size 1000x600 with 2 Axes>"
            ],
            "image/png": "[encoded data removed]"
          },
          "metadata": {}
        },
        {
          "output_type": "stream",
          "name": "stdout",
          "text": [
            "Recommended Portfolio Allocation:\n",
            "   Stock  Allocation (%)\n",
            "0   AAPL        1.207566\n",
            "1   MSFT       39.395134\n",
            "2  GOOGL        8.860914\n",
            "3   AMZN       10.882752\n",
            "4   TSLA       39.653635\n",
            "Total Allocation: 100.00000000000001\n"
          ]
        }
      ]
    },
    {
      "cell_type": "markdown",
      "source": [
        "### Step 7\n",
        "Model Saving"
      ],
      "metadata": {
        "id": "7tNt1Kg_6jUD"
      }
    },
    {
      "cell_type": "code",
      "source": [
        "import numpy as np\n",
        "import pandas as pd\n",
        "import matplotlib.pyplot as plt\n",
        "import tensorflow as tf\n",
        "from tensorflow.keras.models import Sequential\n",
        "from tensorflow.keras.layers import LSTM, Dense, Dropout\n",
        "from sklearn.preprocessing import MinMaxScaler\n",
        "\n",
        "# Load dataset\n",
        "df = pd.read_csv(\"synthetic_stock_prices.csv\")\n",
        "\n",
        "# Data Preprocessing\n",
        "scaler = MinMaxScaler(feature_range=(0, 1))\n",
        "df['Stock Price'] = scaler.fit_transform(df[['Stock Price']])\n",
        "\n",
        "# Create sequences for LSTM\n",
        "def create_sequences(data, seq_length):\n",
        "    sequences, targets = [], []\n",
        "    for i in range(len(data) - seq_length):\n",
        "        sequences.append(data[i:i+seq_length])\n",
        "        targets.append(data[i+seq_length])\n",
        "    return np.array(sequences), np.array(targets)\n",
        "\n",
        "seq_length = 10\n",
        "X, y = create_sequences(df['Stock Price'].values, seq_length)\n",
        "\n",
        "# Train-test split\n",
        "train_size = int(len(X) * 0.8)\n",
        "X_train, X_test = X[:train_size], X[train_size:]\n",
        "y_train, y_test = y[:train_size], y[train_size:]\n",
        "\n",
        "# Define LSTM model\n",
        "model = Sequential([\n",
        "    LSTM(50, return_sequences=True, input_shape=(seq_length, 1)),\n",
        "    Dropout(0.2),\n",
        "    LSTM(50, return_sequences=False),\n",
        "    Dropout(0.2),\n",
        "    Dense(25),\n",
        "    Dense(1)\n",
        "])\n",
        "\n",
        "model.compile(optimizer='adam', loss='mse')\n",
        "\n",
        "# Train the model\n",
        "history = model.fit(X_train, y_train, epochs=20, batch_size=16, validation_data=(X_test, y_test))\n",
        "\n",
        "# Forecast future stock prices\n",
        "predictions = model.predict(X_test)\n",
        "predictions = scaler.inverse_transform(predictions.reshape(-1, 1))\n",
        "y_test_actual = scaler.inverse_transform(y_test.reshape(-1, 1))\n",
        "\n",
        "# Visualization\n",
        "plt.figure(figsize=(10, 5))\n",
        "plt.plot(y_test_actual, label=\"Actual Price\", color='blue')\n",
        "plt.plot(predictions, label=\"Predicted Price\", color='red')\n",
        "plt.xlabel(\"Days\")\n",
        "plt.ylabel(\"Stock Price\")\n",
        "plt.legend()\n",
        "plt.title(\"Stock Price Prediction using LSTM\")\n",
        "plt.show()\n"
      ],
      "metadata": {
        "colab": {
          "base_uri": "https://localhost:8080/",
          "height": 1000
        },
        "id": "-n6VhYxogmKp",
        "outputId": "f89d532e-db7d-42c5-d203-ba17758ad5c1"
      },
      "execution_count": 9,
      "outputs": [
        {
          "output_type": "stream",
          "name": "stderr",
          "text": [
            "/usr/local/lib/python3.11/dist-packages/keras/src/layers/rnn/rnn.py:200: UserWarning: Do not pass an `input_shape`/`input_dim` argument to a layer. When using Sequential models, prefer using an `Input(shape)` object as the first layer in the model instead.\n",
            "  super().__init__(**kwargs)\n"
          ]
        },
        {
          "output_type": "stream",
          "name": "stdout",
          "text": [
            "Epoch 1/20\n",
            "\u001b[1m13/13\u001b[0m \u001b[32m━━━━━━━━━━━━━━━━━━━━\u001b[0m\u001b[37m\u001b[0m \u001b[1m5s\u001b[0m 75ms/step - loss: 0.1960 - val_loss: 0.0422\n",
            "Epoch 2/20\n",
            "\u001b[1m13/13\u001b[0m \u001b[32m━━━━━━━━━━━━━━━━━━━━\u001b[0m\u001b[37m\u001b[0m \u001b[1m3s\u001b[0m 12ms/step - loss: 0.0396 - val_loss: 0.0272\n",
            "Epoch 3/20\n",
            "\u001b[1m13/13\u001b[0m \u001b[32m━━━━━━━━━━━━━━━━━━━━\u001b[0m\u001b[37m\u001b[0m \u001b[1m0s\u001b[0m 15ms/step - loss: 0.0240 - val_loss: 0.0259\n",
            "Epoch 4/20\n",
            "\u001b[1m13/13\u001b[0m \u001b[32m━━━━━━━━━━━━━━━━━━━━\u001b[0m\u001b[37m\u001b[0m \u001b[1m0s\u001b[0m 11ms/step - loss: 0.0265 - val_loss: 0.0258\n",
            "Epoch 5/20\n",
            "\u001b[1m13/13\u001b[0m \u001b[32m━━━━━━━━━━━━━━━━━━━━\u001b[0m\u001b[37m\u001b[0m \u001b[1m0s\u001b[0m 15ms/step - loss: 0.0250 - val_loss: 0.0249\n",
            "Epoch 6/20\n",
            "\u001b[1m13/13\u001b[0m \u001b[32m━━━━━━━━━━━━━━━━━━━━\u001b[0m\u001b[37m\u001b[0m \u001b[1m0s\u001b[0m 18ms/step - loss: 0.0236 - val_loss: 0.0275\n",
            "Epoch 7/20\n",
            "\u001b[1m13/13\u001b[0m \u001b[32m━━━━━━━━━━━━━━━━━━━━\u001b[0m\u001b[37m\u001b[0m \u001b[1m0s\u001b[0m 21ms/step - loss: 0.0247 - val_loss: 0.0236\n",
            "Epoch 8/20\n",
            "\u001b[1m13/13\u001b[0m \u001b[32m━━━━━━━━━━━━━━━━━━━━\u001b[0m\u001b[37m\u001b[0m \u001b[1m0s\u001b[0m 16ms/step - loss: 0.0223 - val_loss: 0.0226\n",
            "Epoch 9/20\n",
            "\u001b[1m13/13\u001b[0m \u001b[32m━━━━━━━━━━━━━━━━━━━━\u001b[0m\u001b[37m\u001b[0m \u001b[1m0s\u001b[0m 18ms/step - loss: 0.0261 - val_loss: 0.0286\n",
            "Epoch 10/20\n",
            "\u001b[1m13/13\u001b[0m \u001b[32m━━━━━━━━━━━━━━━━━━━━\u001b[0m\u001b[37m\u001b[0m \u001b[1m0s\u001b[0m 16ms/step - loss: 0.0356 - val_loss: 0.0220\n",
            "Epoch 11/20\n",
            "\u001b[1m13/13\u001b[0m \u001b[32m━━━━━━━━━━━━━━━━━━━━\u001b[0m\u001b[37m\u001b[0m \u001b[1m0s\u001b[0m 17ms/step - loss: 0.0211 - val_loss: 0.0236\n",
            "Epoch 12/20\n",
            "\u001b[1m13/13\u001b[0m \u001b[32m━━━━━━━━━━━━━━━━━━━━\u001b[0m\u001b[37m\u001b[0m \u001b[1m0s\u001b[0m 18ms/step - loss: 0.0202 - val_loss: 0.0206\n",
            "Epoch 13/20\n",
            "\u001b[1m13/13\u001b[0m \u001b[32m━━━━━━━━━━━━━━━━━━━━\u001b[0m\u001b[37m\u001b[0m \u001b[1m0s\u001b[0m 17ms/step - loss: 0.0148 - val_loss: 0.0208\n",
            "Epoch 14/20\n",
            "\u001b[1m13/13\u001b[0m \u001b[32m━━━━━━━━━━━━━━━━━━━━\u001b[0m\u001b[37m\u001b[0m \u001b[1m0s\u001b[0m 22ms/step - loss: 0.0207 - val_loss: 0.0200\n",
            "Epoch 15/20\n",
            "\u001b[1m13/13\u001b[0m \u001b[32m━━━━━━━━━━━━━━━━━━━━\u001b[0m\u001b[37m\u001b[0m \u001b[1m1s\u001b[0m 18ms/step - loss: 0.0197 - val_loss: 0.0191\n",
            "Epoch 16/20\n",
            "\u001b[1m13/13\u001b[0m \u001b[32m━━━━━━━━━━━━━━━━━━━━\u001b[0m\u001b[37m\u001b[0m \u001b[1m0s\u001b[0m 14ms/step - loss: 0.0181 - val_loss: 0.0182\n",
            "Epoch 17/20\n",
            "\u001b[1m13/13\u001b[0m \u001b[32m━━━━━━━━━━━━━━━━━━━━\u001b[0m\u001b[37m\u001b[0m \u001b[1m0s\u001b[0m 11ms/step - loss: 0.0205 - val_loss: 0.0222\n",
            "Epoch 18/20\n",
            "\u001b[1m13/13\u001b[0m \u001b[32m━━━━━━━━━━━━━━━━━━━━\u001b[0m\u001b[37m\u001b[0m \u001b[1m0s\u001b[0m 11ms/step - loss: 0.0223 - val_loss: 0.0176\n",
            "Epoch 19/20\n",
            "\u001b[1m13/13\u001b[0m \u001b[32m━━━━━━━━━━━━━━━━━━━━\u001b[0m\u001b[37m\u001b[0m \u001b[1m0s\u001b[0m 11ms/step - loss: 0.0165 - val_loss: 0.0175\n",
            "Epoch 20/20\n",
            "\u001b[1m13/13\u001b[0m \u001b[32m━━━━━━━━━━━━━━━━━━━━\u001b[0m\u001b[37m\u001b[0m \u001b[1m0s\u001b[0m 13ms/step - loss: 0.0156 - val_loss: 0.0164\n",
            "\u001b[1m2/2\u001b[0m \u001b[32m━━━━━━━━━━━━━━━━━━━━\u001b[0m\u001b[37m\u001b[0m \u001b[1m0s\u001b[0m 173ms/step\n"
          ]
        },
        {
          "output_type": "display_data",
          "data": {
            "text/plain": [
              "<Figure size 1000x500 with 1 Axes>"
            ],
            "image/png": "[encoded data removed]"
          },
          "metadata": {}
        }
      ]
    },
    {
      "cell_type": "code",
      "source": [
        "model.save(\"/content/drive/My Drive/lstm_stock_model.h5\")\n",
        "print(\"Model saved in Google Drive!\")\n"
      ],
      "metadata": {
        "colab": {
          "base_uri": "https://localhost:8080/"
        },
        "id": "JKBEQN2KhMPq",
        "outputId": "107134eb-5be6-4495-d7aa-52a12f109d07"
      },
      "execution_count": 10,
      "outputs": [
        {
          "output_type": "stream",
          "name": "stderr",
          "text": [
            "WARNING:absl:You are saving your model as an HDF5 file via `model.save()` or `keras.saving.save_model(model)`. This file format is considered legacy. We recommend using instead the native Keras format, e.g. `model.save('my_model.keras')` or `keras.saving.save_model(model, 'my_model.keras')`. \n"
          ]
        },
        {
          "output_type": "stream",
          "name": "stdout",
          "text": [
            "Model saved in Google Drive!\n"
          ]
        }
      ]
    },
    {
      "cell_type": "code",
      "source": [
        "import os\n",
        "print(os.listdir(\"/content/drive/My Drive/\"))\n"
      ],
      "metadata": {
        "colab": {
          "base_uri": "https://localhost:8080/"
        },
        "id": "oZrS8R7EivnE",
        "outputId": "34987b35-6bb7-445f-ed84-c0cb3b89b879"
      },
      "execution_count": 11,
      "outputs": [
        {
          "output_type": "stream",
          "name": "stdout",
          "text": [
            "['Colab Notebooks', 'lstm_stock_model.h5']\n"
          ]
        }
      ]
    },
    {
      "cell_type": "code",
      "source": [
        "from tensorflow.keras.models import load_model\n",
        "from tensorflow.keras.losses import MeanSquaredError\n",
        "\n",
        "model_path = \"/content/drive/My Drive/lstm_stock_model.h5\"\n",
        "\n",
        "# Specify custom_objects to explicitly define 'mse'\n",
        "lstm_model = load_model(model_path, custom_objects={\"mse\": MeanSquaredError()})\n",
        "print(\"Model loaded successfully!\")\n"
      ],
      "metadata": {
        "colab": {
          "base_uri": "https://localhost:8080/"
        },
        "id": "YcOSnTRdjLFY",
        "outputId": "ded673b1-8d21-4eb2-f703-d8dcb3b64a73"
      },
      "execution_count": 12,
      "outputs": [
        {
          "output_type": "stream",
          "name": "stderr",
          "text": [
            "WARNING:absl:Compiled the loaded model, but the compiled metrics have yet to be built. `model.compile_metrics` will be empty until you train or evaluate the model.\n"
          ]
        },
        {
          "output_type": "stream",
          "name": "stdout",
          "text": [
            "Model loaded successfully!\n"
          ]
        }
      ]
    },
    {
      "cell_type": "code",
      "source": [
        "lstm_model.compile(optimizer='adam', loss='mse', metrics=['mae'])\n"
      ],
      "metadata": {
        "id": "BUgmhOzQjVN3"
      },
      "execution_count": 13,
      "outputs": []
    },
    {
      "cell_type": "markdown",
      "source": [
        "### Step 8\n",
        "Implement AI Agent for Investment Advisory\n",
        "\n",
        "Builds an AI-powered investment advisory agent that can:\n",
        "\n",
        "✅ Classify queries (e.g., \"stock forecasting\" or \"portfolio optimization\").\n",
        "\n",
        "✅ Predict stock prices using a pre-trained LSTM model.\n",
        "\n",
        "✅ Optimize a stock portfolio using Markowitz Modern Portfolio Theory (MPT).\n",
        "\n",
        "It integrates deep learning, financial modeling, and NLP for intelligent investment decision-making."
      ],
      "metadata": {
        "id": "f2vMa7co6xFG"
      }
    },
    {
      "cell_type": "markdown",
      "source": [
        "✅ NLP + Deep Learning + Financial Modeling in one AI agent.\n",
        "\n",
        "✅ Uses BART to classify queries dynamically.\n",
        "\n",
        "✅ Predicts stock prices using an LSTM model.\n",
        "\n",
        "✅ Optimizes portfolios using Markowitz MPT.\n",
        "\n",
        "✅ Returns structured JSON responses for easy API integration."
      ],
      "metadata": {
        "id": "DeYq2cfG7WHI"
      }
    },
    {
      "cell_type": "code",
      "source": [
        "from transformers import pipeline\n",
        "import numpy as np\n",
        "import pandas as pd\n",
        "import matplotlib.pyplot as plt\n",
        "import tensorflow as tf\n",
        "from tensorflow.keras.models import load_model\n",
        "from sklearn.preprocessing import MinMaxScaler\n",
        "import yfinance as yf\n",
        "from tensorflow.keras.losses import MeanSquaredError\n",
        "# Load BART model for classification\n",
        "classifier = pipeline(\"zero-shot-classification\", model=\"facebook/bart-large-mnli\")\n",
        "\n",
        "def classify_query(query):\n",
        "    labels = [\"stock_forecasting\", \"portfolio_optimization\"]\n",
        "    result = classifier(query, candidate_labels=labels)\n",
        "    return result['labels'][0]  # Return top category\n",
        "\n",
        "# Load LSTM Stock Prediction Model\n",
        "model_path = \"/content/drive/My Drive/lstm_stock_model.h5\"\n",
        "\n",
        "# Specify custom_objects to explicitly define 'mse'\n",
        "lstm_model = load_model(model_path, custom_objects={\"mse\": MeanSquaredError()})\n",
        "print(\"Model loaded successfully!\")\n",
        "\n",
        "\n",
        "scaler = MinMaxScaler(feature_range=(0, 1))\n",
        "\n",
        "# Stock Forecasting Function\n",
        "def predict_stock_price(df, days=30):\n",
        "    stock_prices = df['Stock Price'].values.reshape(-1, 1)\n",
        "    scaled_prices = scaler.fit_transform(stock_prices)\n",
        "\n",
        "    seq_length = 60\n",
        "    X = [scaled_prices[-seq_length:]]\n",
        "    X = np.array(X)\n",
        "\n",
        "    future_predictions = []\n",
        "    input_seq = X[0]\n",
        "    for _ in range(days):\n",
        "        pred = lstm_model.predict(input_seq.reshape(1, seq_length, 1))\n",
        "        future_predictions.append(pred[0, 0])\n",
        "        input_seq = np.roll(input_seq, -1)\n",
        "        input_seq[-1] = pred[0, 0]\n",
        "\n",
        "\n",
        "    return scaler.inverse_transform(np.array(future_predictions).reshape(-1, 1))\n",
        "\n",
        "# Portfolio Optimization Function\n",
        "def optimize_portfolio():\n",
        "    tickers = ['AAPL', 'MSFT', 'GOOGL', 'AMZN', 'TSLA']\n",
        "    stock_data = yf.download(tickers, start=\"2023-01-01\", end=\"2024-01-01\")\n",
        "    stock_data = stock_data.xs('Close', level=0, axis=1)\n",
        "    returns = stock_data.pct_change().dropna()\n",
        "    mean_returns = returns.mean()\n",
        "    cov_matrix = returns.cov()\n",
        "\n",
        "    num_portfolios = 10000\n",
        "    risk_free_rate = 0.02\n",
        "    max_allocation = 0.4\n",
        "\n",
        "    weights_record, returns_record, risks_record, sharpe_ratios = [], [], [], []\n",
        "    for _ in range(num_portfolios):\n",
        "        weights = np.random.random(len(tickers))\n",
        "        weights /= np.sum(weights)\n",
        "        if np.any(weights > max_allocation):\n",
        "            continue\n",
        "        portfolio_return = np.dot(weights, mean_returns)\n",
        "        portfolio_risk = np.sqrt(np.dot(weights.T, np.dot(cov_matrix, weights)))\n",
        "        sharpe_ratio = (portfolio_return - risk_free_rate) / portfolio_risk\n",
        "\n",
        "        weights_record.append(weights)\n",
        "        returns_record.append(portfolio_return)\n",
        "        risks_record.append(portfolio_risk)\n",
        "        sharpe_ratios.append(sharpe_ratio)\n",
        "\n",
        "    optimal_idx = np.argmax(sharpe_ratios)\n",
        "    optimal_portfolio = weights_record[optimal_idx]\n",
        "\n",
        "    return {tickers[i]: round(optimal_portfolio[i] * 100, 2) for i in range(len(tickers))}\n",
        "\n",
        "# AI Agent Function\n",
        "def ai_investment_agent(query):\n",
        "    category = classify_query(query)\n",
        "\n",
        "    if category == \"stock_forecasting\":\n",
        "        df = pd.read_csv(\"synthetic_stock_prices.csv\")\n",
        "        forecast = predict_stock_price(df)\n",
        "        return {\"category\": category, \"forecast\": forecast.flatten().tolist()}\n",
        "\n",
        "    elif category == \"portfolio_optimization\":\n",
        "        portfolio = optimize_portfolio()\n",
        "        return {\"category\": category, \"portfolio\": portfolio}\n",
        "\n",
        "    else:\n",
        "        return {\"category\": category, \"response\": \"Mutual fund advisory is not implemented yet.\"}\n",
        "\n",
        "query = \"Predict the stock price for the next 30 days.\"\n",
        "response = ai_investment_agent(query)\n",
        "print(response)\n",
        "\n"
      ],
      "metadata": {
        "colab": {
          "base_uri": "https://localhost:8080/"
        },
        "id": "9gyiYQySdjgV",
        "outputId": "4a4b1a1f-c789-454a-d5c2-0ecd9334945d"
      },
      "execution_count": 14,
      "outputs": [
        {
          "output_type": "stream",
          "name": "stderr",
          "text": [
            "Device set to use cuda:0\n",
            "WARNING:absl:Compiled the loaded model, but the compiled metrics have yet to be built. `model.compile_metrics` will be empty until you train or evaluate the model.\n"
          ]
        },
        {
          "output_type": "stream",
          "name": "stdout",
          "text": [
            "Model loaded successfully!\n",
            "\u001b[1m1/1\u001b[0m \u001b[32m━━━━━━━━━━━━━━━━━━━━\u001b[0m\u001b[37m\u001b[0m \u001b[1m0s\u001b[0m 209ms/step\n",
            "\u001b[1m1/1\u001b[0m \u001b[32m━━━━━━━━━━━━━━━━━━━━\u001b[0m\u001b[37m\u001b[0m \u001b[1m0s\u001b[0m 33ms/step\n",
            "\u001b[1m1/1\u001b[0m \u001b[32m━━━━━━━━━━━━━━━━━━━━\u001b[0m\u001b[37m\u001b[0m \u001b[1m0s\u001b[0m 45ms/step\n",
            "\u001b[1m1/1\u001b[0m \u001b[32m━━━━━━━━━━━━━━━━━━━━\u001b[0m\u001b[37m\u001b[0m \u001b[1m0s\u001b[0m 45ms/step\n",
            "\u001b[1m1/1\u001b[0m \u001b[32m━━━━━━━━━━━━━━━━━━━━\u001b[0m\u001b[37m\u001b[0m \u001b[1m0s\u001b[0m 40ms/step\n",
            "\u001b[1m1/1\u001b[0m \u001b[32m━━━━━━━━━━━━━━━━━━━━\u001b[0m\u001b[37m\u001b[0m \u001b[1m0s\u001b[0m 35ms/step\n",
            "\u001b[1m1/1\u001b[0m \u001b[32m━━━━━━━━━━━━━━━━━━━━\u001b[0m\u001b[37m\u001b[0m \u001b[1m0s\u001b[0m 36ms/step\n",
            "\u001b[1m1/1\u001b[0m \u001b[32m━━━━━━━━━━━━━━━━━━━━\u001b[0m\u001b[37m\u001b[0m \u001b[1m0s\u001b[0m 35ms/step\n",
            "\u001b[1m1/1\u001b[0m \u001b[32m━━━━━━━━━━━━━━━━━━━━\u001b[0m\u001b[37m\u001b[0m \u001b[1m0s\u001b[0m 34ms/step\n",
            "\u001b[1m1/1\u001b[0m \u001b[32m━━━━━━━━━━━━━━━━━━━━\u001b[0m\u001b[37m\u001b[0m \u001b[1m0s\u001b[0m 34ms/step\n",
            "\u001b[1m1/1\u001b[0m \u001b[32m━━━━━━━━━━━━━━━━━━━━\u001b[0m\u001b[37m\u001b[0m \u001b[1m0s\u001b[0m 36ms/step\n",
            "\u001b[1m1/1\u001b[0m \u001b[32m━━━━━━━━━━━━━━━━━━━━\u001b[0m\u001b[37m\u001b[0m \u001b[1m0s\u001b[0m 33ms/step\n",
            "\u001b[1m1/1\u001b[0m \u001b[32m━━━━━━━━━━━━━━━━━━━━\u001b[0m\u001b[37m\u001b[0m \u001b[1m0s\u001b[0m 36ms/step\n",
            "\u001b[1m1/1\u001b[0m \u001b[32m━━━━━━━━━━━━━━━━━━━━\u001b[0m\u001b[37m\u001b[0m \u001b[1m0s\u001b[0m 34ms/step\n",
            "\u001b[1m1/1\u001b[0m \u001b[32m━━━━━━━━━━━━━━━━━━━━\u001b[0m\u001b[37m\u001b[0m \u001b[1m0s\u001b[0m 42ms/step\n",
            "\u001b[1m1/1\u001b[0m \u001b[32m━━━━━━━━━━━━━━━━━━━━\u001b[0m\u001b[37m\u001b[0m \u001b[1m0s\u001b[0m 33ms/step\n",
            "\u001b[1m1/1\u001b[0m \u001b[32m━━━━━━━━━━━━━━━━━━━━\u001b[0m\u001b[37m\u001b[0m \u001b[1m0s\u001b[0m 35ms/step\n",
            "\u001b[1m1/1\u001b[0m \u001b[32m━━━━━━━━━━━━━━━━━━━━\u001b[0m\u001b[37m\u001b[0m \u001b[1m0s\u001b[0m 32ms/step\n",
            "\u001b[1m1/1\u001b[0m \u001b[32m━━━━━━━━━━━━━━━━━━━━\u001b[0m\u001b[37m\u001b[0m \u001b[1m0s\u001b[0m 34ms/step\n",
            "\u001b[1m1/1\u001b[0m \u001b[32m━━━━━━━━━━━━━━━━━━━━\u001b[0m\u001b[37m\u001b[0m \u001b[1m0s\u001b[0m 32ms/step\n",
            "\u001b[1m1/1\u001b[0m \u001b[32m━━━━━━━━━━━━━━━━━━━━\u001b[0m\u001b[37m\u001b[0m \u001b[1m0s\u001b[0m 32ms/step\n",
            "\u001b[1m1/1\u001b[0m \u001b[32m━━━━━━━━━━━━━━━━━━━━\u001b[0m\u001b[37m\u001b[0m \u001b[1m0s\u001b[0m 35ms/step\n",
            "\u001b[1m1/1\u001b[0m \u001b[32m━━━━━━━━━━━━━━━━━━━━\u001b[0m\u001b[37m\u001b[0m \u001b[1m0s\u001b[0m 33ms/step\n",
            "\u001b[1m1/1\u001b[0m \u001b[32m━━━━━━━━━━━━━━━━━━━━\u001b[0m\u001b[37m\u001b[0m \u001b[1m0s\u001b[0m 43ms/step\n",
            "\u001b[1m1/1\u001b[0m \u001b[32m━━━━━━━━━━━━━━━━━━━━\u001b[0m\u001b[37m\u001b[0m \u001b[1m0s\u001b[0m 34ms/step\n",
            "\u001b[1m1/1\u001b[0m \u001b[32m━━━━━━━━━━━━━━━━━━━━\u001b[0m\u001b[37m\u001b[0m \u001b[1m0s\u001b[0m 35ms/step\n",
            "\u001b[1m1/1\u001b[0m \u001b[32m━━━━━━━━━━━━━━━━━━━━\u001b[0m\u001b[37m\u001b[0m \u001b[1m0s\u001b[0m 44ms/step\n",
            "\u001b[1m1/1\u001b[0m \u001b[32m━━━━━━━━━━━━━━━━━━━━\u001b[0m\u001b[37m\u001b[0m \u001b[1m0s\u001b[0m 33ms/step\n",
            "\u001b[1m1/1\u001b[0m \u001b[32m━━━━━━━━━━━━━━━━━━━━\u001b[0m\u001b[37m\u001b[0m \u001b[1m0s\u001b[0m 35ms/step\n",
            "\u001b[1m1/1\u001b[0m \u001b[32m━━━━━━━━━━━━━━━━━━━━\u001b[0m\u001b[37m\u001b[0m \u001b[1m0s\u001b[0m 39ms/step\n",
            "{'category': 'stock_forecasting', 'forecast': [93.47637176513672, 93.40843963623047, 93.22314453125, 92.97563934326172, 92.69751739501953, 92.40727996826172, 92.11602783203125, 91.83070373535156, 91.55574798583984, 91.29409790039062, 91.04763793945312, 90.81752014160156, 90.60435485839844, 90.40831756591797, 90.22921752929688, 90.06661224365234, 89.91984558105469, 89.7881088256836, 89.67047119140625, 89.56594848632812, 89.47350311279297, 89.39212036132812, 89.32075500488281, 89.2584228515625, 89.20417785644531, 89.1571273803711, 89.11644744873047, 89.08134460449219, 89.0511474609375, 89.02519226074219]}\n"
          ]
        }
      ]
    },
    {
      "cell_type": "markdown",
      "source": [
        "## Explanation of the Output:\n",
        "\n",
        "✅ AI Agent correctly classified the query and ran stock forecasting using an LSTM model.\n",
        "\n",
        "✅ The forecasted prices suggest a decreasing trend over the next 30 days.\n",
        "\n",
        "**Improvements**\n",
        "\n",
        "* Compare predicted values with real stock data (if available).\n",
        "\n",
        "* Use confidence intervals for predictions to reflect uncertainty.\n",
        "\n",
        "* Train the model on real stock market data instead of synthetic data."
      ],
      "metadata": {
        "id": "seKkCDk-7qM2"
      }
    },
    {
      "cell_type": "code",
      "source": [
        "from transformers import pipeline\n",
        "import numpy as np\n",
        "import pandas as pd\n",
        "import matplotlib.pyplot as plt\n",
        "import tensorflow as tf\n",
        "from tensorflow.keras.models import load_model\n",
        "from sklearn.preprocessing import MinMaxScaler\n",
        "import yfinance as yf\n",
        "from tensorflow.keras.losses import MeanSquaredError\n",
        "\n",
        "# Load the BART model for zero-shot classification (decides query type)\n",
        "classifier = pipeline(\"zero-shot-classification\", model=\"facebook/bart-large-mnli\")\n",
        "\n",
        "def classify_query(query):\n",
        "    \"\"\"\n",
        "    Classifies the user's query into predefined categories:\n",
        "    - 'stock_forecasting' (predicting stock prices)\n",
        "    - 'portfolio_optimization' (finding the best investment strategy)\n",
        "    \"\"\"\n",
        "    labels = [\"stock_forecasting\", \"portfolio_optimization\"]\n",
        "    result = classifier(query, candidate_labels=labels)\n",
        "    return result['labels'][0]  # Return the most relevant category\n",
        "\n",
        "# Load the pre-trained LSTM model for stock price prediction\n",
        "model_path = \"/content/drive/My Drive/lstm_stock_model.h5\"\n",
        "\n",
        "# Specify custom_objects to explicitly define 'mse' (Mean Squared Error loss function)\n",
        "lstm_model = load_model(model_path, custom_objects={\"mse\": MeanSquaredError()})\n",
        "print(\"Model loaded successfully!\")  # Just to confirm model is loaded\n",
        "\n",
        "# Normalization for LSTM input data\n",
        "scaler = MinMaxScaler(feature_range=(0, 1))\n",
        "\n",
        "def predict_stock_price(df, days=30):\n",
        "    \"\"\"\n",
        "    Predicts stock prices for the next 'days' using the trained LSTM model.\n",
        "    \"\"\"\n",
        "    stock_prices = df['Stock Price'].values.reshape(-1, 1)  # Convert to 2D array\n",
        "    scaled_prices = scaler.fit_transform(stock_prices)  # Normalize prices between 0 and 1\n",
        "\n",
        "    seq_length = 60  # LSTM takes last 60 days' data as input\n",
        "    X = [scaled_prices[-seq_length:]]  # Extract the last 60 days as input\n",
        "    X = np.array(X)\n",
        "\n",
        "    future_predictions = []\n",
        "    input_seq = X[0]  # Start with the last available sequence\n",
        "\n",
        "    # Predict for the given number of days (e.g., next 30 days)\n",
        "    for _ in range(days):\n",
        "        pred = lstm_model.predict(input_seq.reshape(1, seq_length, 1))  # Get next day's prediction\n",
        "        future_predictions.append(pred[0, 0])  # Store prediction\n",
        "        input_seq = np.roll(input_seq, -1)  # Shift input sequence\n",
        "        input_seq[-1] = pred[0, 0]  # Add new prediction at the end\n",
        "\n",
        "    # Convert predictions back to original scale\n",
        "    return scaler.inverse_transform(np.array(future_predictions).reshape(-1, 1))\n",
        "\n",
        "def optimize_portfolio():\n",
        "    \"\"\"\n",
        "    Performs portfolio optimization using Monte Carlo simulation based on historical stock data.\n",
        "    \"\"\"\n",
        "    tickers = ['AAPL', 'MSFT', 'GOOGL', 'AMZN', 'TSLA']  # List of stocks to optimize\n",
        "    stock_data = yf.download(tickers, start=\"2023-01-01\", end=\"2024-01-01\")  # Download past 1-year data\n",
        "    stock_data = stock_data.xs('Close', level=0, axis=1)  # Get only closing prices\n",
        "\n",
        "    returns = stock_data.pct_change().dropna()  # Compute daily returns\n",
        "    mean_returns = returns.mean()  # Average return per stock\n",
        "    cov_matrix = returns.cov()  # Covariance matrix (relationship between stocks)\n",
        "\n",
        "    num_portfolios = 10000  # Simulating 10,000 random portfolios\n",
        "    risk_free_rate = 0.02  # Assume a 2% risk-free rate (like a bank FD)\n",
        "    max_allocation = 0.4  # No single stock can have more than 40% weight\n",
        "\n",
        "    weights_record, returns_record, risks_record, sharpe_ratios = [], [], [], []\n",
        "\n",
        "    for _ in range(num_portfolios):\n",
        "        weights = np.random.random(len(tickers))  # Generate random weights\n",
        "        weights /= np.sum(weights)  # Normalize to make sum = 1 (full investment)\n",
        "\n",
        "        if np.any(weights > max_allocation):  # Skip portfolios that exceed the limit\n",
        "            continue\n",
        "\n",
        "        # Compute portfolio return & risk\n",
        "        portfolio_return = np.dot(weights, mean_returns)\n",
        "        portfolio_risk = np.sqrt(np.dot(weights.T, np.dot(cov_matrix, weights)))\n",
        "\n",
        "        # Compute Sharpe Ratio (higher is better)\n",
        "        sharpe_ratio = (portfolio_return - risk_free_rate) / portfolio_risk\n",
        "\n",
        "        # Store results\n",
        "        weights_record.append(weights)\n",
        "        returns_record.append(portfolio_return)\n",
        "        risks_record.append(portfolio_risk)\n",
        "        sharpe_ratios.append(sharpe_ratio)\n",
        "\n",
        "    # Find the portfolio with the **highest Sharpe Ratio**\n",
        "    optimal_idx = np.argmax(sharpe_ratios)\n",
        "    optimal_portfolio = weights_record[optimal_idx]  # Get optimal weights\n",
        "\n",
        "    # Return recommended investment percentage for each stock\n",
        "    return {tickers[i]: round(optimal_portfolio[i] * 100, 2) for i in range(len(tickers))}\n",
        "\n",
        "def ai_investment_agent(query):\n",
        "    \"\"\"\n",
        "    Acts as an AI-based investment advisor by processing the user's query.\n",
        "    It identifies whether the user is asking for:\n",
        "    1. Stock price prediction\n",
        "    2. Portfolio optimization\n",
        "    Then, it calls the appropriate function.\n",
        "    \"\"\"\n",
        "    category = classify_query(query)  # Identify what user is asking for\n",
        "\n",
        "    if category == \"stock_forecasting\":\n",
        "        df = pd.read_csv(\"synthetic_stock_prices.csv\")  # Load stock data (historical prices)\n",
        "        forecast = predict_stock_price(df)  # Predict future prices\n",
        "        return {\"category\": category, \"forecast\": forecast.flatten().tolist()}  # Return predictions in list format\n",
        "\n",
        "    elif category == \"portfolio_optimization\":\n",
        "        portfolio = optimize_portfolio()  # Run portfolio optimization\n",
        "        return {\"category\": category, \"portfolio\": portfolio}  # Return optimized portfolio allocation\n",
        "\n",
        "    else:\n",
        "        return {\"category\": category, \"response\": \"Mutual fund advisory is not implemented yet.\"}\n",
        "\n",
        "# Example Query\n",
        "query = \"Predict the stock price for the next 30 days.\"\n",
        "response = ai_investment_agent(query)\n",
        "print(response)\n"
      ],
      "metadata": {
        "colab": {
          "base_uri": "https://localhost:8080/"
        },
        "id": "BGDGn40K06Cu",
        "outputId": "a046013b-9f6c-4062-fac6-e24ad32fb2a8"
      },
      "execution_count": 17,
      "outputs": [
        {
          "output_type": "stream",
          "name": "stderr",
          "text": [
            "Device set to use cuda:0\n",
            "WARNING:absl:Compiled the loaded model, but the compiled metrics have yet to be built. `model.compile_metrics` will be empty until you train or evaluate the model.\n",
            "[*********************100%***********************]  5 of 5 completed\n"
          ]
        },
        {
          "output_type": "stream",
          "name": "stdout",
          "text": [
            "Model loaded successfully!\n"
          ]
        },
        {
          "output_type": "stream",
          "name": "stderr",
          "text": [
            "[*********************100%***********************]  5 of 5 completed"
          ]
        },
        {
          "output_type": "stream",
          "name": "stdout",
          "text": [
            "Optimized Portfolio Allocation: {'AAPL': np.float64(39.16), 'MSFT': np.float64(18.02), 'GOOGL': np.float64(4.37), 'AMZN': np.float64(23.42), 'TSLA': np.float64(15.04)}\n"
          ]
        },
        {
          "output_type": "stream",
          "name": "stderr",
          "text": [
            "\n"
          ]
        },
        {
          "output_type": "stream",
          "name": "stdout",
          "text": [
            "{'category': 'portfolio_optimization', 'portfolio': {'AAPL': np.float64(40.0), 'MSFT': np.float64(15.47), 'GOOGL': np.float64(4.0), 'AMZN': np.float64(27.43), 'TSLA': np.float64(13.1)}}\n"
          ]
        }
      ]
    },
    {
      "cell_type": "markdown",
      "source": [
        "## Explanation of Output for Input Query\n",
        "### Query:\n",
        "\n",
        "👉 \"What is the optimal asset allocation for a balanced portfolio?\"\n",
        "\n",
        "Response:\n",
        "\n",
        "our optimized portfolio allocation follows Modern Portfolio Theory (MPT) principles, balancing risk and return. Based on historical stock returns, volatility, and a maximum allocation constraint of 40% per stock, the system has calculated the optimal asset weights:\n",
        "\n",
        "{\n",
        "    'AAPL': 40.0,  # Apple (High stability & growth)\n",
        "    'MSFT': 15.47, # Microsoft (Tech & Cloud dominance)\n",
        "    'GOOGL': 4.0,  # Google (Search & AI growth)\n",
        "    'AMZN': 27.43, # Amazon (E-commerce & Cloud leader)\n",
        "    'TSLA': 13.1   # Tesla (EV market growth)\n",
        "}\n",
        "\n",
        "### Interpretation\n",
        "\n",
        "Apple (40.0%) – High allocation due to strong historical performance and stability.\n",
        "\n",
        "Amazon (27.43%) – Significant weight due to its diversified revenue streams in e-commerce & AWS cloud.\n",
        "\n",
        "Microsoft (15.47%) – Balanced allocation; stable cash flows, strong cloud computing growth.\n",
        "\n",
        "Tesla (13.1%) – Moderate risk-reward profile; volatile but high-growth potential.\n",
        "\n",
        "Google (4.0%) – Lower allocation due to regulatory risks and market volatility.\n",
        "\n",
        "📊 Why is this Portfolio 'Balanced'?\n",
        "\n",
        "**Diversification:** No single stock dominates; spread across tech, e-commerce, and AI sectors.\n",
        "\n",
        "**Risk Management:**Weight constraints ensure no over-exposure to one asset.\n",
        "\n",
        "**Returns Optimization:** Allocations maximize the Sharpe Ratio, achieving the best risk-adjusted returns.\n",
        "\n",
        "### Final Answer:\n",
        "\n",
        "\"For a balanced portfolio, the optimal asset allocation is spread across AAPL, MSFT, GOOGL, AMZN, and TSLA to achieve a mix of stability and growth while minimizing risk.\""
      ],
      "metadata": {
        "id": "9J3Dth7z2q8m"
      }
    },
    {
      "cell_type": "markdown",
      "source": [
        "### Step 9\n",
        "Deploy Using Gradio\n",
        "\n",
        "Generate a Gradio app in Google Colab to interact with your AI investment agent\n"
      ],
      "metadata": {
        "id": "3Qfldmhe96FY"
      }
    },
    {
      "cell_type": "code",
      "source": [
        "!pip install gradio --quiet\n"
      ],
      "metadata": {
        "colab": {
          "base_uri": "https://localhost:8080/"
        },
        "id": "wL68-rwu95DO",
        "outputId": "65d0d4e5-4b47-4a90-b21f-67eda76e6773"
      },
      "execution_count": 18,
      "outputs": [
        {
          "output_type": "stream",
          "name": "stdout",
          "text": [
            "\u001b[2K   \u001b[90m━━━━━━━━━━━━━━━━━━━━━━━━━━━━━━━━━━━━━━━━\u001b[0m \u001b[32m51.3/51.3 MB\u001b[0m \u001b[31m13.4 MB/s\u001b[0m eta \u001b[36m0:00:00\u001b[0m\n",
            "\u001b[2K   \u001b[90m━━━━━━━━━━━━━━━━━━━━━━━━━━━━━━━━━━━━━━━━\u001b[0m \u001b[32m322.2/322.2 kB\u001b[0m \u001b[31m23.6 MB/s\u001b[0m eta \u001b[36m0:00:00\u001b[0m\n",
            "\u001b[2K   \u001b[90m━━━━━━━━━━━━━━━━━━━━━━━━━━━━━━━━━━━━━━━━\u001b[0m \u001b[32m95.2/95.2 kB\u001b[0m \u001b[31m8.8 MB/s\u001b[0m eta \u001b[36m0:00:00\u001b[0m\n",
            "\u001b[2K   \u001b[90m━━━━━━━━━━━━━━━━━━━━━━━━━━━━━━━━━━━━━━━━\u001b[0m \u001b[32m11.3/11.3 MB\u001b[0m \u001b[31m115.0 MB/s\u001b[0m eta \u001b[36m0:00:00\u001b[0m\n",
            "\u001b[2K   \u001b[90m━━━━━━━━━━━━━━━━━━━━━━━━━━━━━━━━━━━━━━━━\u001b[0m \u001b[32m72.0/72.0 kB\u001b[0m \u001b[31m6.8 MB/s\u001b[0m eta \u001b[36m0:00:00\u001b[0m\n",
            "\u001b[2K   \u001b[90m━━━━━━━━━━━━━━━━━━━━━━━━━━━━━━━━━━━━━━━━\u001b[0m \u001b[32m62.3/62.3 kB\u001b[0m \u001b[31m6.0 MB/s\u001b[0m eta \u001b[36m0:00:00\u001b[0m\n",
            "\u001b[?25h"
          ]
        }
      ]
    },
    {
      "cell_type": "code",
      "source": [
        "import gradio as gr\n",
        "from transformers import pipeline\n",
        "import numpy as np\n",
        "import pandas as pd\n",
        "import tensorflow as tf\n",
        "from tensorflow.keras.models import load_model\n",
        "from sklearn.preprocessing import MinMaxScaler\n",
        "import yfinance as yf\n",
        "from tensorflow.keras.losses import MeanSquaredError\n",
        "\n",
        "# Load BART Model for Classification\n",
        "classifier = pipeline(\"zero-shot-classification\", model=\"facebook/bart-large-mnli\")\n",
        "\n",
        "def classify_query(query):\n",
        "    labels = [\"stock_forecasting\", \"portfolio_optimization\"]\n",
        "    result = classifier(query, candidate_labels=labels)\n",
        "    return result['labels'][0]  # Return top category\n",
        "\n",
        "# Load LSTM Model for Stock Forecasting\n",
        "model_path = \"/content/drive/My Drive/lstm_stock_model.h5\"\n",
        "lstm_model = load_model(model_path, custom_objects={\"mse\": MeanSquaredError()})\n",
        "print(\"Model loaded successfully!\")\n",
        "\n",
        "scaler = MinMaxScaler(feature_range=(0, 1))\n",
        "\n",
        "# Stock Price Prediction Function\n",
        "def predict_stock_price(df, days=30):\n",
        "    stock_prices = df['Stock Price'].values.reshape(-1, 1)\n",
        "    scaled_prices = scaler.fit_transform(stock_prices)\n",
        "\n",
        "    seq_length = 60\n",
        "    X = [scaled_prices[-seq_length:]]\n",
        "    X = np.array(X)\n",
        "\n",
        "    future_predictions = []\n",
        "    input_seq = X[0]\n",
        "    for _ in range(days):\n",
        "        pred = lstm_model.predict(input_seq.reshape(1, seq_length, 1))\n",
        "        future_predictions.append(pred[0, 0])\n",
        "        input_seq = np.roll(input_seq, -1)\n",
        "        input_seq[-1] = pred[0, 0]\n",
        "\n",
        "    return scaler.inverse_transform(np.array(future_predictions).reshape(-1, 1))\n",
        "\n",
        "# Portfolio Optimization Function\n",
        "def optimize_portfolio():\n",
        "    tickers = ['AAPL', 'MSFT', 'GOOGL', 'AMZN', 'TSLA']\n",
        "    stock_data = yf.download(tickers, start=\"2023-01-01\", end=\"2024-01-01\")['Close']\n",
        "\n",
        "    returns = stock_data.pct_change().dropna()\n",
        "    mean_returns = returns.mean()\n",
        "    cov_matrix = returns.cov()\n",
        "\n",
        "    num_portfolios = 10000\n",
        "    risk_free_rate = 0.02\n",
        "    daily_rf = risk_free_rate / 252\n",
        "    max_allocation = 0.4\n",
        "\n",
        "    weights_record, returns_record, risks_record, sharpe_ratios = [], [], [], []\n",
        "\n",
        "    for _ in range(num_portfolios):\n",
        "        weights = np.random.random(len(tickers))\n",
        "        weights /= np.sum(weights)\n",
        "\n",
        "        weights = np.minimum(weights, max_allocation)\n",
        "        excess = 1 - np.sum(weights)\n",
        "        if excess > 0:\n",
        "            remaining_allocation = weights < max_allocation\n",
        "            weights[remaining_allocation] += excess / np.sum(remaining_allocation)\n",
        "\n",
        "        portfolio_return = np.dot(weights, mean_returns)\n",
        "        portfolio_risk = np.sqrt(np.dot(weights.T, np.dot(cov_matrix, weights)))\n",
        "        sharpe_ratio = (portfolio_return - daily_rf) / portfolio_risk\n",
        "\n",
        "        weights_record.append(weights)\n",
        "        returns_record.append(portfolio_return)\n",
        "        risks_record.append(portfolio_risk)\n",
        "        sharpe_ratios.append(sharpe_ratio)\n",
        "\n",
        "    optimal_idx = np.argmax(sharpe_ratios)\n",
        "    optimal_portfolio = weights_record[optimal_idx]\n",
        "\n",
        "    return {tickers[i]: round(optimal_portfolio[i] * 100, 2) for i in range(len(tickers))}\n",
        "\n",
        "# AI Investment Agent\n",
        "def ai_investment_agent(query):\n",
        "    category = classify_query(query)\n",
        "\n",
        "    if category == \"stock_forecasting\":\n",
        "        df = pd.read_csv(\"synthetic_stock_prices.csv\")\n",
        "        forecast = predict_stock_price(df)\n",
        "        return {\"category\": category, \"forecast\": forecast.flatten().tolist()}\n",
        "\n",
        "    elif category == \"portfolio_optimization\":\n",
        "        portfolio = optimize_portfolio()\n",
        "        return {\"category\": category, \"portfolio\": portfolio}\n",
        "\n",
        "    else:\n",
        "        return {\"category\": category, \"response\": \"Mutual fund advisory is not implemented yet.\"}\n",
        "\n",
        "# Gradio Interface Function\n",
        "def gradio_interface(query):\n",
        "    response = ai_investment_agent(query)\n",
        "    return response\n",
        "\n",
        "# Create Gradio App\n",
        "iface = gr.Interface(\n",
        "    fn=gradio_interface,\n",
        "    inputs=gr.Textbox(label=\"Enter your financial query\"),\n",
        "    outputs=\"json\",\n",
        "    title=\"AI Investment Advisor\",\n",
        "    description=\"Ask about stock forecasting or portfolio optimization.\"\n",
        ")\n",
        "\n",
        "# Launch in Colab\n",
        "iface.launch(share=True)\n"
      ],
      "metadata": {
        "colab": {
          "base_uri": "https://localhost:8080/",
          "height": 666
        },
        "id": "_Nf23SR7-Moe",
        "outputId": "949f30c4-5125-4c3f-8352-6315b4525d1a"
      },
      "execution_count": 19,
      "outputs": [
        {
          "output_type": "stream",
          "name": "stderr",
          "text": [
            "Device set to use cuda:0\n",
            "WARNING:absl:Compiled the loaded model, but the compiled metrics have yet to be built. `model.compile_metrics` will be empty until you train or evaluate the model.\n"
          ]
        },
        {
          "output_type": "stream",
          "name": "stdout",
          "text": [
            "Model loaded successfully!\n",
            "Colab notebook detected. To show errors in colab notebook, set debug=True in launch()\n",
            "* Running on public URL: https://e2c80ab9ac3e83178d.gradio.live\n",
            "\n",
            "This share link expires in 72 hours. For free permanent hosting and GPU upgrades, run `gradio deploy` from the terminal in the working directory to deploy to Hugging Face Spaces (https://huggingface.co/spaces)\n"
          ]
        },
        {
          "output_type": "display_data",
          "data": {
            "text/plain": [
              "<IPython.core.display.HTML object>"
            ],
            "text/html": [
              "<div><iframe src=\"https://e2c80ab9ac3e83178d.gradio.live\" width=\"100%\" height=\"500\" allow=\"autoplay; camera; microphone; clipboard-read; clipboard-write;\" frameborder=\"0\" allowfullscreen></iframe></div>"
            ]
          },
          "metadata": {}
        },
        {
          "output_type": "execute_result",
          "data": {
            "text/plain": []
          },
          "metadata": {},
          "execution_count": 19
        }
      ]
    }
  ]
}